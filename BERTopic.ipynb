{
 "cells": [
  {
   "cell_type": "code",
   "execution_count": 3,
   "metadata": {},
   "outputs": [
    {
     "name": "stderr",
     "output_type": "stream",
     "text": [
      "/Users/a788/Library/Python/3.9/lib/python/site-packages/tqdm/auto.py:21: TqdmWarning: IProgress not found. Please update jupyter and ipywidgets. See https://ipywidgets.readthedocs.io/en/stable/user_install.html\n",
      "  from .autonotebook import tqdm as notebook_tqdm\n",
      "/Users/a788/Library/Python/3.9/lib/python/site-packages/urllib3/__init__.py:35: NotOpenSSLWarning: urllib3 v2 only supports OpenSSL 1.1.1+, currently the 'ssl' module is compiled with 'LibreSSL 2.8.3'. See: https://github.com/urllib3/urllib3/issues/3020\n",
      "  warnings.warn(\n"
     ]
    }
   ],
   "source": [
    "from bertopic import BERTopic\n",
    "import json\n",
    "import pandas as pd\n",
    "pd.set_option('display.max_colwidth', None)\n",
    "from umap import UMAP\n",
    "import sys\n",
    "from hdbscan import HDBSCAN\n",
    "from sentence_transformers import SentenceTransformer\n",
    "from sklearn.feature_extraction.text import CountVectorizer\n",
    "from sklearn.cluster import KMeans\n",
    "from openpyxl import Workbook\n",
    "\n",
    "import nltk\n",
    "from nltk.corpus import stopwords\n",
    "\n",
    "from bertopic.representation import KeyBERTInspired, MaximalMarginalRelevance, PartOfSpeech\n",
    "from bertopic.vectorizers import ClassTfidfTransformer\n",
    "from nltk.tokenize import sent_tokenize, word_tokenize"
   ]
  },
  {
   "cell_type": "code",
   "execution_count": null,
   "metadata": {},
   "outputs": [],
   "source": [
    "link = 'documents.xlsx'\n",
    "df = pd.ExcelFile(link).parse('general_labeled')\n",
    "df.columns = df.iloc[0]\n",
    "df = df[1:].reset_index(drop=True)\n",
    "df_ns = df['narratives_self']\n",
    "\n",
    "# drop any missing or na values from the dataframe\n",
    "df_ns = df_ns.dropna()\n",
    "df_ns = df_ns.astype(str)"
   ]
  },
  {
   "cell_type": "code",
   "execution_count": 5,
   "metadata": {},
   "outputs": [
    {
     "data": {
      "text/plain": [
       "20"
      ]
     },
     "execution_count": 5,
     "metadata": {},
     "output_type": "execute_result"
    }
   ],
   "source": [
    "len(df['ns_label_unmerged'].unique())"
   ]
  },
  {
   "cell_type": "code",
   "execution_count": 6,
   "metadata": {},
   "outputs": [],
   "source": [
    "stop_words = stopwords.words('english')\n",
    "\n",
    "free_s_w = [\"shirt\", \"shirts\", \"would\", \"tshirt\", \"could\", \"decision\", \"decide\", \"decisions\", \"decided\"] \n",
    "stop_words.extend(free_s_w)"
   ]
  },
  {
   "cell_type": "code",
   "execution_count": 7,
   "metadata": {},
   "outputs": [
    {
     "name": "stdout",
     "output_type": "stream",
     "text": [
      "Defaulting to user installation because normal site-packages is not writeable\n",
      "Requirement already satisfied: spacy in /Users/a788/Library/Python/3.9/lib/python/site-packages (3.8.7)\n",
      "Requirement already satisfied: spacy-legacy<3.1.0,>=3.0.11 in /Users/a788/Library/Python/3.9/lib/python/site-packages (from spacy) (3.0.12)\n",
      "Requirement already satisfied: spacy-loggers<2.0.0,>=1.0.0 in /Users/a788/Library/Python/3.9/lib/python/site-packages (from spacy) (1.0.5)\n",
      "Requirement already satisfied: murmurhash<1.1.0,>=0.28.0 in /Users/a788/Library/Python/3.9/lib/python/site-packages (from spacy) (1.0.12)\n",
      "Requirement already satisfied: cymem<2.1.0,>=2.0.2 in /Users/a788/Library/Python/3.9/lib/python/site-packages (from spacy) (2.0.11)\n",
      "Requirement already satisfied: preshed<3.1.0,>=3.0.2 in /Users/a788/Library/Python/3.9/lib/python/site-packages (from spacy) (3.0.9)\n",
      "Requirement already satisfied: thinc<8.4.0,>=8.3.4 in /Users/a788/Library/Python/3.9/lib/python/site-packages (from spacy) (8.3.6)\n",
      "Requirement already satisfied: wasabi<1.2.0,>=0.9.1 in /Users/a788/Library/Python/3.9/lib/python/site-packages (from spacy) (1.1.3)\n",
      "Requirement already satisfied: srsly<3.0.0,>=2.4.3 in /Users/a788/Library/Python/3.9/lib/python/site-packages (from spacy) (2.5.1)\n",
      "Requirement already satisfied: catalogue<2.1.0,>=2.0.6 in /Users/a788/Library/Python/3.9/lib/python/site-packages (from spacy) (2.0.10)\n",
      "Requirement already satisfied: weasel<0.5.0,>=0.1.0 in /Users/a788/Library/Python/3.9/lib/python/site-packages (from spacy) (0.4.1)\n",
      "Requirement already satisfied: typer<1.0.0,>=0.3.0 in /Users/a788/Library/Python/3.9/lib/python/site-packages (from spacy) (0.15.3)\n",
      "Requirement already satisfied: tqdm<5.0.0,>=4.38.0 in /Users/a788/Library/Python/3.9/lib/python/site-packages (from spacy) (4.67.1)\n",
      "Requirement already satisfied: numpy>=1.19.0 in /Users/a788/Library/Python/3.9/lib/python/site-packages (from spacy) (1.26.4)\n",
      "Requirement already satisfied: requests<3.0.0,>=2.13.0 in /Users/a788/Library/Python/3.9/lib/python/site-packages (from spacy) (2.32.3)\n",
      "Requirement already satisfied: pydantic!=1.8,!=1.8.1,<3.0.0,>=1.7.4 in /Users/a788/Library/Python/3.9/lib/python/site-packages (from spacy) (2.11.4)\n",
      "Requirement already satisfied: jinja2 in /Users/a788/Library/Python/3.9/lib/python/site-packages (from spacy) (3.1.6)\n",
      "Requirement already satisfied: setuptools in /Library/Developer/CommandLineTools/Library/Frameworks/Python3.framework/Versions/3.9/lib/python3.9/site-packages (from spacy) (58.0.4)\n",
      "Requirement already satisfied: packaging>=20.0 in /Users/a788/Library/Python/3.9/lib/python/site-packages (from spacy) (23.2)\n",
      "Requirement already satisfied: langcodes<4.0.0,>=3.2.0 in /Users/a788/Library/Python/3.9/lib/python/site-packages (from spacy) (3.5.0)\n",
      "Requirement already satisfied: language-data>=1.2 in /Users/a788/Library/Python/3.9/lib/python/site-packages (from langcodes<4.0.0,>=3.2.0->spacy) (1.3.0)\n",
      "Requirement already satisfied: annotated-types>=0.6.0 in /Users/a788/Library/Python/3.9/lib/python/site-packages (from pydantic!=1.8,!=1.8.1,<3.0.0,>=1.7.4->spacy) (0.7.0)\n",
      "Requirement already satisfied: pydantic-core==2.33.2 in /Users/a788/Library/Python/3.9/lib/python/site-packages (from pydantic!=1.8,!=1.8.1,<3.0.0,>=1.7.4->spacy) (2.33.2)\n",
      "Requirement already satisfied: typing-extensions>=4.12.2 in /Users/a788/Library/Python/3.9/lib/python/site-packages (from pydantic!=1.8,!=1.8.1,<3.0.0,>=1.7.4->spacy) (4.13.2)\n",
      "Requirement already satisfied: typing-inspection>=0.4.0 in /Users/a788/Library/Python/3.9/lib/python/site-packages (from pydantic!=1.8,!=1.8.1,<3.0.0,>=1.7.4->spacy) (0.4.0)\n",
      "Requirement already satisfied: charset-normalizer<4,>=2 in /Users/a788/Library/Python/3.9/lib/python/site-packages (from requests<3.0.0,>=2.13.0->spacy) (3.4.2)\n",
      "Requirement already satisfied: idna<4,>=2.5 in /Users/a788/Library/Python/3.9/lib/python/site-packages (from requests<3.0.0,>=2.13.0->spacy) (3.10)\n",
      "Requirement already satisfied: urllib3<3,>=1.21.1 in /Users/a788/Library/Python/3.9/lib/python/site-packages (from requests<3.0.0,>=2.13.0->spacy) (2.4.0)\n",
      "Requirement already satisfied: certifi>=2017.4.17 in /Users/a788/Library/Python/3.9/lib/python/site-packages (from requests<3.0.0,>=2.13.0->spacy) (2025.4.26)\n",
      "Requirement already satisfied: blis<1.4.0,>=1.3.0 in /Users/a788/Library/Python/3.9/lib/python/site-packages (from thinc<8.4.0,>=8.3.4->spacy) (1.3.0)\n",
      "Requirement already satisfied: confection<1.0.0,>=0.0.1 in /Users/a788/Library/Python/3.9/lib/python/site-packages (from thinc<8.4.0,>=8.3.4->spacy) (0.1.5)\n",
      "Collecting numpy>=1.19.0 (from spacy)\n",
      "  Using cached numpy-2.0.2-cp39-cp39-macosx_11_0_arm64.whl.metadata (60 kB)\n",
      "Requirement already satisfied: click>=8.0.0 in /Users/a788/Library/Python/3.9/lib/python/site-packages (from typer<1.0.0,>=0.3.0->spacy) (8.1.8)\n",
      "Requirement already satisfied: shellingham>=1.3.0 in /Users/a788/Library/Python/3.9/lib/python/site-packages (from typer<1.0.0,>=0.3.0->spacy) (1.5.4)\n",
      "Requirement already satisfied: rich>=10.11.0 in /Users/a788/Library/Python/3.9/lib/python/site-packages (from typer<1.0.0,>=0.3.0->spacy) (14.0.0)\n",
      "Requirement already satisfied: cloudpathlib<1.0.0,>=0.7.0 in /Users/a788/Library/Python/3.9/lib/python/site-packages (from weasel<0.5.0,>=0.1.0->spacy) (0.21.0)\n",
      "Requirement already satisfied: smart-open<8.0.0,>=5.2.1 in /Users/a788/Library/Python/3.9/lib/python/site-packages (from weasel<0.5.0,>=0.1.0->spacy) (7.1.0)\n",
      "Requirement already satisfied: wrapt in /Users/a788/Library/Python/3.9/lib/python/site-packages (from smart-open<8.0.0,>=5.2.1->weasel<0.5.0,>=0.1.0->spacy) (1.17.2)\n",
      "Requirement already satisfied: marisa-trie>=1.1.0 in /Users/a788/Library/Python/3.9/lib/python/site-packages (from language-data>=1.2->langcodes<4.0.0,>=3.2.0->spacy) (1.2.1)\n",
      "Requirement already satisfied: markdown-it-py>=2.2.0 in /Users/a788/Library/Python/3.9/lib/python/site-packages (from rich>=10.11.0->typer<1.0.0,>=0.3.0->spacy) (3.0.0)\n",
      "Requirement already satisfied: pygments<3.0.0,>=2.13.0 in /Users/a788/Library/Python/3.9/lib/python/site-packages (from rich>=10.11.0->typer<1.0.0,>=0.3.0->spacy) (2.17.2)\n",
      "Requirement already satisfied: mdurl~=0.1 in /Users/a788/Library/Python/3.9/lib/python/site-packages (from markdown-it-py>=2.2.0->rich>=10.11.0->typer<1.0.0,>=0.3.0->spacy) (0.1.2)\n",
      "Requirement already satisfied: MarkupSafe>=2.0 in /Users/a788/Library/Python/3.9/lib/python/site-packages (from jinja2->spacy) (3.0.2)\n",
      "Using cached numpy-2.0.2-cp39-cp39-macosx_11_0_arm64.whl (13.7 MB)\n",
      "Installing collected packages: numpy\n",
      "  Attempting uninstall: numpy\n",
      "    Found existing installation: numpy 1.26.4\n",
      "    Uninstalling numpy-1.26.4:\n",
      "      Successfully uninstalled numpy-1.26.4\n",
      "\u001b[31mERROR: pip's dependency resolver does not currently take into account all the packages that are installed. This behaviour is the source of the following dependency conflicts.\n",
      "gensim 4.3.3 requires numpy<2.0,>=1.18.5, but you have numpy 2.0.2 which is incompatible.\u001b[0m\u001b[31m\n",
      "\u001b[0mSuccessfully installed numpy-2.0.2\n",
      "/Users/a788/Library/Python/3.9/lib/python/site-packages/urllib3/__init__.py:35: NotOpenSSLWarning: urllib3 v2 only supports OpenSSL 1.1.1+, currently the 'ssl' module is compiled with 'LibreSSL 2.8.3'. See: https://github.com/urllib3/urllib3/issues/3020\n",
      "  warnings.warn(\n",
      "Defaulting to user installation because normal site-packages is not writeable\n",
      "Collecting en-core-web-sm==3.8.0\n",
      "  Downloading https://github.com/explosion/spacy-models/releases/download/en_core_web_sm-3.8.0/en_core_web_sm-3.8.0-py3-none-any.whl (12.8 MB)\n",
      "\u001b[2K     \u001b[90m━━━━━━━━━━━━━━━━━━━━━━━━━━━━━━━━━━━━━━━━\u001b[0m \u001b[32m12.8/12.8 MB\u001b[0m \u001b[31m13.8 MB/s\u001b[0m eta \u001b[36m0:00:00\u001b[0ma \u001b[36m0:00:01\u001b[0m\n",
      "\u001b[?25h\u001b[38;5;2m✔ Download and installation successful\u001b[0m\n",
      "You can now load the package via spacy.load('en_core_web_sm')\n",
      "Defaulting to user installation because normal site-packages is not writeable\n",
      "Requirement already satisfied: hf_xet in /Users/a788/Library/Python/3.9/lib/python/site-packages (1.1.0)\n"
     ]
    }
   ],
   "source": [
    "!pip install -U spacy\n",
    "!python3 -m spacy download en_core_web_sm\n",
    "!pip install hf_xet"
   ]
  },
  {
   "cell_type": "code",
   "execution_count": null,
   "metadata": {},
   "outputs": [],
   "source": [
    "import spacy\n",
    "spacy.load('en_core_web_sm')\n",
    "keybert_model = KeyBERTInspired()\n",
    "\n",
    "pos_model = PartOfSpeech(\"en_core_web_sm\")\n",
    "\n",
    "mmr_model = MaximalMarginalRelevance(diversity=0.4)\n",
    "\n",
    "representation_model = {\n",
    "    \"KeyBERT\": keybert_model,\n",
    "    \"MMR\": mmr_model,\n",
    "    \"POS\": pos_model\n",
    "}"
   ]
  },
  {
   "cell_type": "code",
   "execution_count": null,
   "metadata": {},
   "outputs": [
    {
     "name": "stderr",
     "output_type": "stream",
     "text": [
      "Batches: 100%|██████████| 25/25 [00:10<00:00,  2.31it/s]\n"
     ]
    }
   ],
   "source": [
    "from sklearn.decomposition import PCA\n",
    "embedding_model = SentenceTransformer(\"all-mpnet-base-v2\")\n",
    "embeddings = embedding_model.encode(df_ns, show_progress_bar=True)\n",
    "\n",
    "# we test with dimensionality reduction with UMAP(n_neighbors=15, n_components=5, min_dist=0.0, metric='cosine', random_state=40)\n",
    "umap_model = UMAP(random_state=40)\n",
    "\n",
    "hdbscan_model = HDBSCAN(min_cluster_size=20, min_samples=1, metric='euclidean', cluster_selection_method='leaf' ,prediction_data=True)\n",
    "vectorizer_model = CountVectorizer(stop_words=stop_words, min_df=1, ngram_range=(1,1))\n",
    "\n",
    "ctfidf_model = ctfidf_model = ClassTfidfTransformer(reduce_frequent_words=True)"
   ]
  },
  {
   "cell_type": "code",
   "execution_count": null,
   "metadata": {},
   "outputs": [],
   "source": [
    "BERT_model = BERTopic(\n",
    "    embedding_model=embedding_model,          \n",
    "    umap_model=umap_model,                    \n",
    "    hdbscan_model=hdbscan_model,              \n",
    "    vectorizer_model=vectorizer_model,        \n",
    "    ctfidf_model=ctfidf_model, \n",
    "    representation_model=representation_model\n",
    ")"
   ]
  },
  {
   "cell_type": "code",
   "execution_count": 11,
   "metadata": {},
   "outputs": [],
   "source": [
    "topics, _ = BERT_model.fit_transform(df_ns)\n",
    "topics_no_outliers = BERT_model.reduce_outliers(df_ns, topics)"
   ]
  },
  {
   "cell_type": "code",
   "execution_count": 12,
   "metadata": {},
   "outputs": [],
   "source": [
    "top_inf = BERT_model.get_topic_info()"
   ]
  },
  {
   "cell_type": "markdown",
   "metadata": {},
   "source": [
    "## Can you please explain your reasoning/thought process when deciding how much you were willing to pay sellers in different scenarios?"
   ]
  },
  {
   "cell_type": "code",
   "execution_count": 13,
   "metadata": {},
   "outputs": [],
   "source": [
    "top_inf.to_excel('final_ns_topics.xlsx')"
   ]
  },
  {
   "cell_type": "code",
   "execution_count": 14,
   "metadata": {},
   "outputs": [
    {
     "data": {
      "text/html": [
       "<div>\n",
       "<style scoped>\n",
       "    .dataframe tbody tr th:only-of-type {\n",
       "        vertical-align: middle;\n",
       "    }\n",
       "\n",
       "    .dataframe tbody tr th {\n",
       "        vertical-align: top;\n",
       "    }\n",
       "\n",
       "    .dataframe thead th {\n",
       "        text-align: right;\n",
       "    }\n",
       "</style>\n",
       "<table border=\"1\" class=\"dataframe\">\n",
       "  <thead>\n",
       "    <tr style=\"text-align: right;\">\n",
       "      <th></th>\n",
       "      <th>Topic</th>\n",
       "      <th>Count</th>\n",
       "      <th>Name</th>\n",
       "      <th>Representation</th>\n",
       "      <th>KeyBERT</th>\n",
       "      <th>MMR</th>\n",
       "      <th>POS</th>\n",
       "      <th>Representative_Docs</th>\n",
       "    </tr>\n",
       "  </thead>\n",
       "  <tbody>\n",
       "    <tr>\n",
       "      <th>0</th>\n",
       "      <td>-1</td>\n",
       "      <td>120</td>\n",
       "      <td>-1_privacy_donate_cause_study</td>\n",
       "      <td>[privacy, donate, cause, study, right, seller, iâ, genuine, really, information]</td>\n",
       "      <td>[donation, sellers, sales, money, charitable, seller, selling, purchase, value, donate]</td>\n",
       "      <td>[privacy, seller, genuine, information, pay, donation, mind, incentive, money, wanted]</td>\n",
       "      <td>[privacy, cause, study, right, seller, genuine, information, donation, mind, incentive]</td>\n",
       "      <td>[I had a set quota in mind once I saw the Tshirts, and my willingness to pay sellers was more dependent on the quality and value of the tshirt rather than the sellerâ€™s political values. While I may be less inclined to purchase from a seller because I disagree with their political values, the amount of money Iâ€™m willing to spend on something in general is less likely to be impacted by the fact that a seller supports something I also support (and believe everyone should already be supporting). Hence there was little difference in how much I was willing to pay in the different scenarios., Honestly, I simply thought to myself how much would I be willing to pay for a plain old t shirt. I wouldn't pay more than $10 because I'm not into them that much anyways. They look too boxy on me. I started to make my answers exactly the same, because at the end of the day, when we're purchasing items, we don't usually know anything about the seller. So, it should only matter whether or not I wanted to buy the tshirt at that price. However, I couldn't help but have a picture come to my mind about a sleazy salesman trying to push some snake oil on me. That type of dishonesty is something I can't support. Therefore, I made my price lower the second time. , I was relatively similar on my election of what I was willing to pay the sellers in each scenario. I think I may have paid slightly more to the seller that supported the right to privacy without intentionally knowing it was to sell shirts. When I make a purchase, Iâ€™m am providing the seller my personal information to use in the course of business. I had slightly higher faith that they have effective privacy/data control practices. But overall, at the end of the day it is a plain white t shirt. I donâ€™t see myself paying substantially more for a product based on the sellerâ€™s beliefs without some other alteration to the product itself. ]</td>\n",
       "    </tr>\n",
       "    <tr>\n",
       "      <th>1</th>\n",
       "      <td>0</td>\n",
       "      <td>89</td>\n",
       "      <td>0_climate_change_justice_racial</td>\n",
       "      <td>[climate, change, justice, racial, faith, traditional, fighting, people, think, feel]</td>\n",
       "      <td>[climate, capitalism, beliefs, endorse, sincerity, belief, values, profits, society, initiatives]</td>\n",
       "      <td>[climate, change, racial, people, think, feel, supporting, concerned, issues, beliefs]</td>\n",
       "      <td>[climate, change, justice, racial, faith, traditional, people, country, children, half]</td>\n",
       "      <td>[For the first seller, when I didn't know their views, my willingness to pay was based on the product more than anything, tending to the higher side because I knew that the seller would also benefit form the higher price. With the seller who supported Racial Justice without knowing the selling benefits, I feel like they truly believe in the cause, so I was willing to pay them a higher price. However, for the seller who supported Racial Justice after knowing the benefits, I feel like their support isn't authentic, so I'm much less willing to give them money. I feel like this individual is exploiting the cause of Racial Justice for their own financial gains, and I feel that this is morally wrong., People who are trying to \"uphold traditional values\" tend to be along the conservative side (in America) and that side of politics has recently shown a higher tendency toward using capitalism to further their ideologies. Conversely helping climate changes tends to put an emphasis on less waste which would mean creating less goods that could end up in a landfill, if they are ACTUALLY trying to help climate change. The companies that are only looking for a sale opportunity probably care much less about where their t-shirt ends up. , The first was the hope that both the individual who actually supported the fight against climate change might invest some of that extra money into the funds to fit it. It was the same hope for the opportunist as well, but he'd receive less from me on the basis of not fully trusting his sincerity or the odds he'd invest it selflessly. As for the Faith in Public life, I feel that area is already rife with the grifting sort, out to bang the drum of protecting faith in public life, but in actuality are simply looking to line their pockets with the money of zealous fools]</td>\n",
       "    </tr>\n",
       "    <tr>\n",
       "      <th>2</th>\n",
       "      <td>1</td>\n",
       "      <td>79</td>\n",
       "      <td>1_company_support_business_causes</td>\n",
       "      <td>[company, support, business, causes, product, cause, someone, political, views, something]</td>\n",
       "      <td>[endorses, charities, donate, values, ideology, sellers, money, supporting, political, purchases]</td>\n",
       "      <td>[company, business, product, political, beliefs, supporting, people, aligns, generally, purchases]</td>\n",
       "      <td>[company, support, business, causes, product, cause, political, views, beliefs, people]</td>\n",
       "      <td>[I believe it's worth it to pay a couple dollars extra to support a company that is trying to do good things in the world. It's respectable to advocate for groups that can't always advocate for themselves and need extra support, so I feel it's worth it to spend extra. As far as the company that didn't donate to the cause until they knew that it was going to benefit them, that's not cool. So that's why I chose that I would spend less with that particular company, because it's really only about their bottom dollar instead of about the people. I like to sort companies that are about the people, I solely focus on the product I am purchasing and not who is selling it to me. A sellers stance on social issues has no bearing to my decision making. In other words, I just want a product at the best possible price won't pay more just because someone's beliefs align with mine. When evaluating the scenarios, I viewed each transaction as a business transaction, and not as a way to support someone who shares my beliefs., When it comes to making purchases, my base-line expectation is political neutrality. I may be slightly more likely to purchase something from someone who shares my values, but it really don't tip the scales that much for me. I wouldn't pay much more than I would otherwise. On the other hand, I would not support a retailer who loudly endorses values I do not hold. There are too many other options available. And I would rather pay more to a neutral seller than less to a company who loudly endorses opinions I disagree with.]</td>\n",
       "    </tr>\n",
       "    <tr>\n",
       "      <th>3</th>\n",
       "      <td>2</td>\n",
       "      <td>75</td>\n",
       "      <td>2_bonus_payment_rather_prefer</td>\n",
       "      <td>[bonus, payment, rather, prefer, cash, personal, desire, currently, need, compared]</td>\n",
       "      <td>[monetary, value, price, worth, money, considerations, amount, cost, payment, vendors]</td>\n",
       "      <td>[bonus, payment, amount, chose, preferred, free, value, 50, financial, considering]</td>\n",
       "      <td>[bonus, payment, cash, personal, desire, need, amount, free, use, value]</td>\n",
       "      <td>[My reasoning/thought process when deciding how much I am willing to pay the sellers in the different scenarios is totally dependent upon the fact that the economy has crushed my finances and I am literally hungry in America trying to pay my bills in this inflation and now looming recession according to the news. Prices are up but my paycheck is not. I hold a PhD and manage a university library. You would think I make enough to buy staples like cream cheese but the last time I was at the store it was $7.99.  So when presented with an option to get a tee shirt or possibly get a bonus of $50, I selected the $50 because I am taking surveys to make extra money to feed my family. That was my reasoning/thought process when deciding how much I was willing to pay sellers in the different scenarios. Thank you., When deciding how much to pay sellers in different scenarios, my thought process would involve several key considerations:\\n\\n1. Personal Value and Utility\\nPersonal Use: I would assess how much I value the T-shirt for personal use. This includes considering factors like design, quality, and how often I would wear it.\\nAlternatives: I would compare the T-shirt to other similar items I could purchase, evaluating if I can get a better deal elsewhere or if this T-shirt is particularly unique or desirable.\\n2. Budget Constraints\\nFinancial Situation: I would consider my current financial situation and budget. This involves deciding how much discretionary spending I can afford without compromising other needs.\\nPriority: I would determine how high purchasing the T-shirt ranks among my current spending priorities.\\n3. Perceived Fairness and Sellerâ€™s Earnings\\nFair Price: I would reflect on what I perceive to be a fair price for the T-shirt, considering production costs, brand reputation, and market prices.\\nSupporting the Seller: If the seller is a small business or an individual artisan, I might be willing to pay more to support their craft and livelihood.\\n4. Experimental Context\\nBonus vs. T-shirt: Given that there's an option between receiving a bonus payment and the T-shirt, I would consider how much the monetary bonus is worth to me compared to the T-shirt. If I value the T-shirt significantly, I might indicate a higher willingness to pay.\\nRandom Selection: Understanding that a random selection could result in either receiving the T-shirt or a bonus payment, I would balance my maximum willingness to pay with the likelihood of being satisfied with either outcome.\\nScenario-Based Decision Making\\nIn different scenarios, these factors interplay as follows:\\n\\nHigh Personal Value Scenario:\\n\\nIf I highly value the T-shirt (e.g., itâ€™s a limited edition or has significant personal meaning), I would be willing to pay a higher amount.\\nI would still consider my budget and ensure Iâ€™m not overcommitting financially.\\nLow Personal Value Scenario:\\n\\nIf the T-shirt is of low personal value (e.g., itâ€™s a generic design or something Iâ€™m not particularly fond of), I would indicate a lower willingness to pay.\\nThe bonus payment might be more appealing in this case, influencing me to choose the monetary option over the T-shirt.\\nBalanced Value Scenario:\\n\\nIf I see equal value in both the T-shirt and the bonus payment, I would try to find a middle ground in terms of how much Iâ€™m willing to pay.\\nThis would involve setting a price that I believe is fair and reasonable, ensuring Iâ€™m content with either outcome.\\nFinal Decision\\nAfter weighing these factors, I would decide on an amount that reflects the T-shirt's perceived value, my financial situation, and the experimental conditions. My goal would be to make a decision that I feel comfortable with, regardless of whether I end up with the T-shirt or the bonus payment., When determining the amount I was ready to offer the vendors in various situations, I took into account various considerations. Initially, I assessed the T-shirt's intrinsic worth by considering its quality, design, and any personal liking I may have towards it. I next thought about my financial limits and how much money I could comfortably allocate for a T-shirt without impacting my finances.\\nThen, I considered the satisfaction or utility I would get from owning the T-shirt compared to getting the same amount of money as a bonus. This involved taking into account the extent to which I require or desire a new T-shirt in relation to how much the bonus payment could assist me in meeting other financial obligations or savings objectives.\\nMoreover, I considered how my choice would affect the seller's profits. I aimed to provide fair support to the vendors, particularly those who were putting in effort to promote and sell the T-shirts. So, I attempted to find a fair price that would sufficiently compensate the seller for their efforts, while also considering my willingness to pay.\\nFinally, I took into account the anonymity of the process, realizing that my decisions wouldn't be personally critiqued but would impact the seller significantly. This enabled me to make a decision based on the aforementioned factors instead of external pressure or bias, making it more objective.]</td>\n",
       "    </tr>\n",
       "    <tr>\n",
       "      <th>4</th>\n",
       "      <td>3</td>\n",
       "      <td>70</td>\n",
       "      <td>3_service_product_sellers_quality</td>\n",
       "      <td>[service, product, sellers, quality, offers, items, reputation, prices, deciding, personal]</td>\n",
       "      <td>[value, sellers, consideration, prices, evaluating, considerations, seller, negotiation, items, deciding]</td>\n",
       "      <td>[service, product, sellers, quality, personal, features, negotiation, value, factors, budget]</td>\n",
       "      <td>[service, product, sellers, quality, items, reputation, prices, personal, feelings, brand]</td>\n",
       "      <td>[My decision on how much to pay sellers is a balanced approach that considers the intrinsic value of the product or service, market conditions, fairness and ethical considerations, and strategic negotiation. By carefully evaluating these factors, I aim to make informed, fair, and mutually beneficial purchasing decisions., . Assessment of Value and Quality:\\n Product Quality: I evaluate the quality of the item or service. For example, if it's a T-shirt, I consider factors like material, craftsmanship, and design. Higher quality may justify a higher price.\\n Value for Money: I assess whether the product or service offers good value relative to its price. This includes looking at features, benefits, and whether it meets my needs or preferences effectively., Recognizing the Product or Service's Value:\\n\\nIntrinsic Value: The product or service's inherent value is something I take into account. This entails evaluating the item's overall usefulness, functionality, and quality. For example, I'm willing to spend more if the product delivers unique characteristics or fulfills a pressing need.\\nMarket Value: Another consideration I make is the market value, which is impacted by a number of variables including consumer feedback, brand reputation, and comparisons with other items in the market. This aids in determining the fair market value.\\n\\nFinancial Restraints:\\nPersonal Budget: I take into account my financial circumstances and budgetary restrictions. If a product is necessary but costs more than I can afford, I might explore for alternatives or determine how far I can push my spending limit to make that specific buy.\\nOpportunity Cost: I calculate the potential loss of spending more money on one item, or what I might have to give up. This aids in setting spending priorities for goods and services that provide the most value or advantages.\\n\\nPerceived Worth and Contentment:\\n\\nPerceived benefit: I estimate the level of benefit or satisfaction that the good or service will provide. I might be willing to pay more for a product, for instance, if it significantly improves my quality of life or offers large long-term benefits.\\nExperience and Trust: My propensity to pay may be influenced by my prior interactions with the vendor or brand. Good relationships from the past foster trust, which increases my willingness to confidently pay greater costs.]</td>\n",
       "    </tr>\n",
       "    <tr>\n",
       "      <th>5</th>\n",
       "      <td>4</td>\n",
       "      <td>57</td>\n",
       "      <td>4_based_thought_considered_much</td>\n",
       "      <td>[based, thought, considered, much, quality, well, mainly, retail, guided, first]</td>\n",
       "      <td>[value, thrift, tshirts, worth, costs, price, sellers, discount, cost, demand]</td>\n",
       "      <td>[based, quality, retail, guided, materials, deciding, constraints, designs, brand, cost]</td>\n",
       "      <td>[much, quality, retail, first, value, worth, materials, due, costs, designs]</td>\n",
       "      <td>[I made these decisions based on the fact these T-short sellers are dedicating time to creating a business. Regardless of their values I find it motivating they are trying their hardest to earn an income and sell consumer goods. I believe that shirts clothing are essential and they are doing a frat job by making these items, packaging, selling, and shipping.   , Quality of the T-shirt: I assess the quality of the T-shirt, including factors like fabric, design, durability, and craftsmanship. Higher-quality materials and unique designs might justify a higher price. Brand and Reputation: If the T-shirt is from a well-known or reputable brand, I might be willing to pay more due to perceived value and brand prestige., Mostly I was thinking about how much I am willing to pay for a T-shirt. I like to support good causes; I like to support sellers and businesses that have similar values to my own. However, I'm not willing to spend crazy amounts of money on a product that I could find more much cheaper elsewhere. There came a point, usually around the $20 mark, that I would prefer the money instead. It simply became a matter of value vs. perceived value. ]</td>\n",
       "    </tr>\n",
       "    <tr>\n",
       "      <th>6</th>\n",
       "      <td>5</td>\n",
       "      <td>53</td>\n",
       "      <td>5_lgbtq_rights_equality_gender</td>\n",
       "      <td>[lgbtq, rights, equality, gender, gun, gay, two, guns, advocates, support]</td>\n",
       "      <td>[equality, advocates, values, sellers, lgbtq, endorse, lgbt, preference, rights, sales]</td>\n",
       "      <td>[lgbtq, rights, gender, guns, advocates, religious, issue, society, party, republican]</td>\n",
       "      <td>[lgbtq, rights, equality, gender, gun, gay, guns, advocates, support, campaign]</td>\n",
       "      <td>[For the control / neutral seller, I figure that a custom t-shirt was worth about $10.  That's how much my niece charged me for a custom t-shirt.  For the seller who supported LGBTQ+ without knowing, I paid $20 since their support was genuine without financial incentive.  For the seller who supported LGBTQ+ knowing that it could lead to greater sales, I split the difference between the two sellers at $16.  Yes, they had a financial incentive but at least they weren't one of those weirdos who were totally against LGBTQ+ like the bakery shop who refused to bake a wedding cake for a gay couple due to their \"religious\" beliefs., I'm a graphic designer, so I'd be much more intererested in buying tees that have a message or some kind of design on them. Just this year I've bought campaign merch that doubles as gifts, because I know some of the money goes back to a campaign I strongly support. But their merch also looks cool! So I just wouldn't pay a lot for a white tee, even if they donate $2 to a cause I care about. I'd probably rather straight up donate to the Trevor Project or Equality Florida. I did differentiate, though, between the seller who genuinely wanted to support LGBTQ+ rights and the seller who just wanted to make a sale and didn't care. That seller could turn around and donate to causes I consider hateful; I wouldn't trust that they'd handle my donation in the way they promise.,  If a seller indicates support for gender equality, I am more likely to pay a premium. Supporting businesses that align with my values feels like an investment in the kind of world I want to live in. I look for clear, transparent indications that the seller genuinely supports the values they claim. This might include certifications, detailed information on their practices, or third-party endorsements. While gender equality is particularly important to me, I also consider other values such as environmental sustainability, ethical labor practices, and social justice. Sellers who demonstrate a commitment to these values also positively influence my willingness to pay more.]</td>\n",
       "    </tr>\n",
       "    <tr>\n",
       "      <th>7</th>\n",
       "      <td>6</td>\n",
       "      <td>42</td>\n",
       "      <td>6_plain_high_15_clothes</td>\n",
       "      <td>[plain, high, 15, clothes, 10, spend, usually, material, amount, necessity]</td>\n",
       "      <td>[thrift, clothes, inexpensive, cheap, goodwill, spend, price, cost, buy, fashionable]</td>\n",
       "      <td>[plain, clothes, spend, amount, 20, store, fake, goodwill, generally, design]</td>\n",
       "      <td>[plain, high, clothes, material, amount, necessity, store, fake, hard, certain]</td>\n",
       "      <td>[Plain t-shirts are something that is very easy to come by, and I am not willing to pay a very large amount of money unless the quality is very good, the design is very special, or the designer is someone who supports causes that I value and that help the earth and society. The maximum I am willing to pay for a plain shirt is usually about 10-15 dollars, and the higher end of the amount would be for a seller that I wanted to show support for due to shared values., In most cases, I buy plain T-shirts on sale from Goodwill during Black Friday events. In years past, Goodwill has had $2 sales for T-shirts. I donâ€™t like to spend a whole lot on T-shirts, unless the T-shirt has a specific message for a specific event that I would be attending. I personally have sometimes bought â€œmessageâ€ T-shirts for as high as $15 or $20, depending on the message, but I would generally go for $10 or under for a plain T-shirt. This is regardless of the sellerâ€™s personal opinion on certain political or public policy issues. , I purchase out of necessity and not to be fashion conscious. I wear clothes until they become faded, wear out, threads start to fray about. So whether clothes are on sale or not, whether the clothes are fashionable or not, whether the clothes are made of high quality material does not matter to me.\\n\\nI buy stuff based on necessity, that is when I need to buy them. So the amount I was willing to pay sellers really is immaterial to me in all cases. If I know that the product is high quality then I will purchase it at that time.]</td>\n",
       "    </tr>\n",
       "    <tr>\n",
       "      <th>8</th>\n",
       "      <td>7</td>\n",
       "      <td>39</td>\n",
       "      <td>7_charity_donation_minimum_typically</td>\n",
       "      <td>[charity, donation, minimum, typically, blank, donate, hold, tee, plain, 20]</td>\n",
       "      <td>[donation, donate, charity, donating, tee, value, worth, dollars, price, clothing]</td>\n",
       "      <td>[charity, donation, minimum, blank, tee, overall, clothing, cheap, color, buy]</td>\n",
       "      <td>[charity, donation, minimum, blank, tee, plain, cotton, one, clothing, cause]</td>\n",
       "      <td>[Overall the shirt looked like decent quality, but nothing I would pay more for than a shirt that I feel like I could purchase at Target or Walmart. When it comes to the thought process when deciding how much to pay the sellers in different scenarios, I feel like I was somewhat more willing to pay more for the shirt when the seller wasn't influenced by monetary gain, but the baseline at what I would pay stayed the same whether or not the seller was supporting something or not. Overall, my prices were pretty firm on what I'd pay for the shirts.  , Well, I have owned a t shirt shop before and the \"information\" you provide was completely useless. I don't know if it is a light or heavy fabric, if it is 100% cotton or blend or any of the other myriad considerations one ponders when buying a t shirt. That being said... $14 is the MOST I would pay for a high quality blank shirt. That is just economics. All that donating stuff means nothing as most of the time it is just a scam. You wanted my honest opinion... you got it., When deciding the price I was willing to pay for a plain t-shirt, I first considered what constitutes a good price for such an item. Gildan sells plain white t-shirts for around $15, while brands like Carhartt offer thicker cotton t-shirts for about $20 each. I set my benchmark based on these prices.\\n\\nConsidering the numerous color options available, I assumed that these shirts must be relatively cheap to produce. If the brand was unknown, I anticipated some unusual marketing claims about why they were a \"better\" option, likely pricing their t-shirts around $30-$35. For me personally, that was the maximum I was willing to pay.\\n\\nWhen it comes to companies doing charity work, I expect to pay a premium. For plain t-shirts with no additional backing or cause, I would pay at most $25. For charity-based ones, I can see the price going up to $45-$50 per shirt. However, I would not pay more than $34 for just a basic plain t-shirt.]</td>\n",
       "    </tr>\n",
       "    <tr>\n",
       "      <th>9</th>\n",
       "      <td>8</td>\n",
       "      <td>38</td>\n",
       "      <td>8_bonus_sellerâ_confidence_opportunity</td>\n",
       "      <td>[bonus, sellerâ, confidence, opportunity, accept, reward, seller, choice, online, instead]</td>\n",
       "      <td>[purchase, money, seller, valuation, value, reward, prizes, values, payment, preferences]</td>\n",
       "      <td>[confidence, accept, reward, seller, option, payment, receive, supported, input, wanted]</td>\n",
       "      <td>[bonus, confidence, opportunity, seller, choice, option, payment, helpful, attempt, justice]</td>\n",
       "      <td>[I initially preferred the bonus payment to the T shirts no matter how small the amount except 0$ but was willing to pick the T shirt instead of the $2 bonus on hearing the seller also supports Traditional values as most important like myself in order for the seller to benefit a little. The seller who supported after finding out about the opportunity to sell didn't matter too much nor made much of a difference to me even though the one who supported the same Traditional value as me without knowing about the opportunity would be a stronger supporter. For me, support is still support even if it was realized later. Hence I was willing to pay them both the same., I generally wanted a bonus instead of a t-shirt because receiving a t-shirt is too much trouble. I was willing to buy a t-shirt from someone that was willing to donate to Fight Climate change without knowing about the chance to sell beforehand for a higher price because I know that he is going to be down $2 no matter what. I will pay a higher amount from a tshirt for that person because he is already incurring a cost to help something that I believe in. Even for the seller that knows he might be using Fight Climate change to sell, he is still donating money in the end. It might feel a bit scummy to use a cause to sell tshirts, but money for a cause is money for a cause. It doesn't really matter for me if the intentions aren't pure, $2 is still going to Fight Climate change on a successful sale., Sellerâ€™s Support for Values:\\nNeutral Seller: For the neutral seller, my decision was based purely on the product itself (the T-shirt) and the price. Since there were no additional factors influencing my decision, I focused on the value I placed on the T-shirt alone.\\nSeller Supporting Racial Justice: Knowing that this seller supports a value that is important to me (Racial Justice) added a positive bias. I was more inclined to support this seller because their values aligned with mine, which made me willing to pay a bit more for the T-shirt.\\nSeller Supporting Racial Justice for Market Opportunity: Although this seller also supports Racial Justice, their support might be driven by the opportunity to sell more T-shirts. This made me slightly cautious, but I still valued their support for an important cause, which influenced my willingness to pay.\\nProduct and Price Consideration:\\nI considered the quality and utility of the T-shirt itself. Since the T-shirt is a basic item, I evaluated how much I would typically be willing to pay for such a product in a regular market setting.\\nI compared the T-shirt to the bonus payment options. For each price point, I weighed the value of receiving the T-shirt against the monetary bonus. This helped me determine the maximum amount I was willing to pay before preferring the bonus payment instead.\\nImpact on Sellerâ€™s Earnings:\\nI understood that my willingness to pay directly affected the sellerâ€™s earnings. This consideration made me more thoughtful about my choices, especially for sellers who supported values I cared about. I wanted to ensure that my decisions reflected my support for those values.\\nAnonymity and Fairness:\\nKnowing that my choices were anonymous and that sellers would not know my identity or specific decision scenarios, I felt comfortable making honest decisions based on my true preferences.\\nI aimed to be fair in my evaluations, ensuring that my willingness to pay was consistent with my genuine valuation of the T-shirt and the sellerâ€™s support for important values.\\nConfidence in Decisions:\\nI considered my confidence in the sellersâ€™ motivations and the quality of the T-shirt. For sellers who genuinely supported important values, I felt more confident in my willingness to pay a higher amount.\\nFor the neutral seller, my confidence was based solely on the product itself, leading to a more straightforward valuation.\\nOverall, my decisions were influenced by a combination of the productâ€™s value, the sellerâ€™s support for important values, and the impact on the sellerâ€™s earnings. I aimed to make thoughtful and fair choices that reflected my true preferences and support for values that matter to me.]</td>\n",
       "    </tr>\n",
       "    <tr>\n",
       "      <th>10</th>\n",
       "      <td>9</td>\n",
       "      <td>34</td>\n",
       "      <td>9_gun_sales_opportunity_still</td>\n",
       "      <td>[gun, sales, opportunity, still, benefit, fight, rights, donating, portion, might]</td>\n",
       "      <td>[sellers, sales, donate, seller, interest, donating, selling, sell, amount, tshirts]</td>\n",
       "      <td>[gun, opportunity, benefit, donating, portion, principle, group, public, earnings, declaring]</td>\n",
       "      <td>[gun, sales, opportunity, benefit, rights, portion, reasoning, faith, generous, principle]</td>\n",
       "      <td>[People taking these surveys are generally poor and frankly are put off when you're talking about a $20 T shirt so that affects their decision even though they could get the T shirt for like nothing or two dollars, I believe they are poisoned by what was spoken of before in the text about a $20 T shirt. I also believe most people thinking money would be at stake for selling the T shirt would probably not talk about issues so much like gun control or racial issues or things like that. So the choices like I chose the race show thing as the least important because that mostly deals with the DEI stuff which is very discriminatory and it's bad and that's why I chose that and I chose gun rights because it's the only thing that was actually not really bad among all the things but it's still very important. I actually don't even own a gun myself and probably will never get one but I think it's right that people have the freedom to defend themselves., When deciding how much to pay sellers, I first consider my genuine interest in \"Fight Climate Change\" and the value of the T-shirt. If Iâ€™m passionate about this cause, I will offer more to support it. Once I learn that my payment can influence how many T-shirts sellers sell and potentially increase their earnings, I adjust my offer strategically. I might pay more to support \"Fight Climate Change,\" knowing that aligning with this cause can help boost sellers' success and reflect my values.\\n\\nEven though I donâ€™t support \"Gun Rights,\" I might still pay for it to influence the sellers. Before knowing about the market opportunity, I estimate that about 27% of sellers might show support for \"Gun Rights.\" After learning that my payment could impact their sales and earnings, this percentage might increase to around 37%, as sellers might see a strategic benefit in aligning with a cause that could resonate with certain consumers., What I was willing to pay sellers was more impulsive reasoning where I was thinking I would rather have a bonus than wait for a t shirt because I could always donate part of my bonus for gun rights. I automatically went with myself taking a bigger bonus and donating more money to gun rights myself rather than think about it. It seemed the most logical to me especially because if I received a high bonus I planned to donate a good chunk and not just a few dollars and for faith in public life my reasoning was when it comes to faith people who do not support religion being part of public life feel very strongly about keeping faith out of public life and would be less likely to support anything to do with faith regardless of any profit because in my experience it has seemed to be something they take personally and not an issue where they are able to easily see things from the perspective of others. Because of my experience I don't see selling more shirts having much effort on sellers who don't believe faith should be part of public life where gun rights are something they would be willing to accept because usually the people not for gun rights are intreated in regulation and not outright banning guns. So, I felt by picking bonuses for faith they will definitely have a better chance of getting more money by donating a good portion of my bonus to them myself if I get it. Hopefully this makes sense but if you would like me to clarify my reasoning more, please do not hesitate to message me and ask me. I want to help provide the best data I can for your research.]</td>\n",
       "    </tr>\n",
       "    <tr>\n",
       "      <th>11</th>\n",
       "      <td>10</td>\n",
       "      <td>34</td>\n",
       "      <td>10_views_company_politics_cares</td>\n",
       "      <td>[views, company, politics, cares, additionally, care, think, values, political, issues]</td>\n",
       "      <td>[worth, values, buy, money, purchase, products, retailers, companies, sell, company]</td>\n",
       "      <td>[views, care, think, values, political, position, companies, supports, social, sell]</td>\n",
       "      <td>[views, company, politics, values, political, issues, position, good, great, companies]</td>\n",
       "      <td>[As much as I support the causes and values the companies are championing, there is only so much I am willing to spend on a plain t-shirt. If there were different designs, a wider variety of sizing options, different style options (i.e. tanktops, hoodies, crop tops, etc), then I would be more willing to explore the site (more ad revenue) and perhaps bump my budget upward., I didn't see any real reason the t-shirt was worth not getting the money, I'd take a free shirt from anyone, but as for paying \\n1. Ideally it is from a company I largely agree with on values if I am to pay more and I know/can learn more about said company beyond it superficially supporting something.\\nOR\\n2. It is a product I cannot or only with great difficulty get a relative equivalent elsewhere, I'm looking to make as much money as I can for myself. People who agree with my political views are great, and I'm happy to hear it, but I'm not willing to part with a potentially substantial pay out because seller 2 thinks privacy is good. So in all cases I stopped at what I think a good deal on a T-shirt would be. Additionally, the list of values given was not particularly tempting for me. And lastly, I'm not a huge fan of forcing politics into shopping and pop culture. ]</td>\n",
       "    </tr>\n",
       "    <tr>\n",
       "      <th>12</th>\n",
       "      <td>11</td>\n",
       "      <td>25</td>\n",
       "      <td>11_need_money_instead_dont</td>\n",
       "      <td>[need, money, instead, dont, offered, rather, iâ, cash, tis, id]</td>\n",
       "      <td>[dollars, money, cash, buy, amount, pay, payment, valuable, want, payments]</td>\n",
       "      <td>[need, offered, cash, tis, id, bill, daily, sympathy, use, lieu]</td>\n",
       "      <td>[money, cash, convenient, preferable, force, sympathy, cwn, daily, plenty, preferred]</td>\n",
       "      <td>[I do not want a plain shirt and I do prolific to make money, so I choose the money. Thry cwn keep the shirt that I don't even want and I might get money., I already have a lot of shirts so the money would be more convenient and useful to me to use towards other needs in my daily life. The t-shirt also doesn't seem to have a brand so I am not sure of the quality of it. , The amounts offered in lieu of the T shirt are not life changing and will not make a difference much. tHIS IS TRUE UNTIL THE AMOUNT BECOMES SIZABLE ENOUGH THAT i COULD USE IT TO HELP PAY A BILL.]</td>\n",
       "    </tr>\n",
       "    <tr>\n",
       "      <th>13</th>\n",
       "      <td>12</td>\n",
       "      <td>23</td>\n",
       "      <td>12_guessed_asked_guess_basically</td>\n",
       "      <td>[guessed, asked, guess, basically, lie, shoes, respond, unbiasely, guesses, supposed]</td>\n",
       "      <td>[percentages, responses, guessing, feelings, opinion, chose, reasoning, guesses, random, people]</td>\n",
       "      <td>[guessed, lie, unbiasely, heads, coin, rhyme, flip, road, randomly, put]</td>\n",
       "      <td>[guess, tails, coin, complete, shoes, road, heads, flip, guesses, options]</td>\n",
       "      <td>[These were complete guesses, which is why they were mostly middle of the road. I felt the support for guns has less so I went lower on those options., Knowing what an individual would select has the same chance of guessing heads or tails on a coin flip. I selected options that seemed correct., I tried to put myself in their shoes and understand people based on an average view I have of them. I feel those percentages would be what I would get if I asked the question in a public place with 100 people being asked.]</td>\n",
       "    </tr>\n",
       "    <tr>\n",
       "      <th>14</th>\n",
       "      <td>13</td>\n",
       "      <td>22</td>\n",
       "      <td>13_exploit_try_profit_stance</td>\n",
       "      <td>[exploit, try, profit, stance, boost, human, understanding, potentially, guess, relevant]</td>\n",
       "      <td>[profit, customers, value, honesty, intentions, beliefs, incentives, seller, affordability, fundamentally]</td>\n",
       "      <td>[exploit, human, reflecting, consume, reap, expections, programs, fundamentally, persuaded, logic]</td>\n",
       "      <td>[profit, stance, boost, human, understanding, night, encouraged, modern, programs, logic]</td>\n",
       "      <td>[I can't pretend or guess that I know how people think and make decisions based on honesty or opportunity, however I do know that people can often be motivated by profit, and sometimes are willing to sacrifice their true beliefs in order to financially benefit. Therefore, I just went with the best case scenarios with what I was presented with. , I actually was confused but I perceived that if the seller supported the same value as myself I was thought to likely try to increase their potential profit....I didn't feel inclined to do that...I guess I feel supporting the same value I do didn't influence me to increase the sellers profit....had it been a value I didn't support however I likely would have made a choice to lessen the profit to the seller even tho I don't think I should do that or use that logic in either case, I think that just based on human nature regardless if they truly care about the cause or night that people will naturally be more willing to do something if it means a greater profit. The point of doing all of that work to start a company and sell things is to be successful so people are always looking for a boost where possible.]</td>\n",
       "    </tr>\n",
       "  </tbody>\n",
       "</table>\n",
       "</div>"
      ],
      "text/plain": [
       "    Topic  Count                                    Name  \\\n",
       "0      -1    120           -1_privacy_donate_cause_study   \n",
       "1       0     89         0_climate_change_justice_racial   \n",
       "2       1     79       1_company_support_business_causes   \n",
       "3       2     75           2_bonus_payment_rather_prefer   \n",
       "4       3     70       3_service_product_sellers_quality   \n",
       "5       4     57         4_based_thought_considered_much   \n",
       "6       5     53          5_lgbtq_rights_equality_gender   \n",
       "7       6     42                 6_plain_high_15_clothes   \n",
       "8       7     39    7_charity_donation_minimum_typically   \n",
       "9       8     38  8_bonus_sellerâ_confidence_opportunity   \n",
       "10      9     34           9_gun_sales_opportunity_still   \n",
       "11     10     34         10_views_company_politics_cares   \n",
       "12     11     25              11_need_money_instead_dont   \n",
       "13     12     23        12_guessed_asked_guess_basically   \n",
       "14     13     22            13_exploit_try_profit_stance   \n",
       "\n",
       "                                                                                 Representation  \\\n",
       "0              [privacy, donate, cause, study, right, seller, iâ, genuine, really, information]   \n",
       "1         [climate, change, justice, racial, faith, traditional, fighting, people, think, feel]   \n",
       "2    [company, support, business, causes, product, cause, someone, political, views, something]   \n",
       "3           [bonus, payment, rather, prefer, cash, personal, desire, currently, need, compared]   \n",
       "4   [service, product, sellers, quality, offers, items, reputation, prices, deciding, personal]   \n",
       "5              [based, thought, considered, much, quality, well, mainly, retail, guided, first]   \n",
       "6                    [lgbtq, rights, equality, gender, gun, gay, two, guns, advocates, support]   \n",
       "7                   [plain, high, 15, clothes, 10, spend, usually, material, amount, necessity]   \n",
       "8                  [charity, donation, minimum, typically, blank, donate, hold, tee, plain, 20]   \n",
       "9    [bonus, sellerâ, confidence, opportunity, accept, reward, seller, choice, online, instead]   \n",
       "10           [gun, sales, opportunity, still, benefit, fight, rights, donating, portion, might]   \n",
       "11      [views, company, politics, cares, additionally, care, think, values, political, issues]   \n",
       "12                             [need, money, instead, dont, offered, rather, iâ, cash, tis, id]   \n",
       "13        [guessed, asked, guess, basically, lie, shoes, respond, unbiasely, guesses, supposed]   \n",
       "14    [exploit, try, profit, stance, boost, human, understanding, potentially, guess, relevant]   \n",
       "\n",
       "                                                                                                       KeyBERT  \\\n",
       "0                      [donation, sellers, sales, money, charitable, seller, selling, purchase, value, donate]   \n",
       "1            [climate, capitalism, beliefs, endorse, sincerity, belief, values, profits, society, initiatives]   \n",
       "2            [endorses, charities, donate, values, ideology, sellers, money, supporting, political, purchases]   \n",
       "3                       [monetary, value, price, worth, money, considerations, amount, cost, payment, vendors]   \n",
       "4    [value, sellers, consideration, prices, evaluating, considerations, seller, negotiation, items, deciding]   \n",
       "5                               [value, thrift, tshirts, worth, costs, price, sellers, discount, cost, demand]   \n",
       "6                      [equality, advocates, values, sellers, lgbtq, endorse, lgbt, preference, rights, sales]   \n",
       "7                        [thrift, clothes, inexpensive, cheap, goodwill, spend, price, cost, buy, fashionable]   \n",
       "8                           [donation, donate, charity, donating, tee, value, worth, dollars, price, clothing]   \n",
       "9                    [purchase, money, seller, valuation, value, reward, prizes, values, payment, preferences]   \n",
       "10                        [sellers, sales, donate, seller, interest, donating, selling, sell, amount, tshirts]   \n",
       "11                        [worth, values, buy, money, purchase, products, retailers, companies, sell, company]   \n",
       "12                                 [dollars, money, cash, buy, amount, pay, payment, valuable, want, payments]   \n",
       "13            [percentages, responses, guessing, feelings, opinion, chose, reasoning, guesses, random, people]   \n",
       "14  [profit, customers, value, honesty, intentions, beliefs, incentives, seller, affordability, fundamentally]   \n",
       "\n",
       "                                                                                                   MMR  \\\n",
       "0               [privacy, seller, genuine, information, pay, donation, mind, incentive, money, wanted]   \n",
       "1               [climate, change, racial, people, think, feel, supporting, concerned, issues, beliefs]   \n",
       "2   [company, business, product, political, beliefs, supporting, people, aligns, generally, purchases]   \n",
       "3                  [bonus, payment, amount, chose, preferred, free, value, 50, financial, considering]   \n",
       "4        [service, product, sellers, quality, personal, features, negotiation, value, factors, budget]   \n",
       "5             [based, quality, retail, guided, materials, deciding, constraints, designs, brand, cost]   \n",
       "6               [lgbtq, rights, gender, guns, advocates, religious, issue, society, party, republican]   \n",
       "7                        [plain, clothes, spend, amount, 20, store, fake, goodwill, generally, design]   \n",
       "8                       [charity, donation, minimum, blank, tee, overall, clothing, cheap, color, buy]   \n",
       "9             [confidence, accept, reward, seller, option, payment, receive, supported, input, wanted]   \n",
       "10       [gun, opportunity, benefit, donating, portion, principle, group, public, earnings, declaring]   \n",
       "11                [views, care, think, values, political, position, companies, supports, social, sell]   \n",
       "12                                    [need, offered, cash, tis, id, bill, daily, sympathy, use, lieu]   \n",
       "13                            [guessed, lie, unbiasely, heads, coin, rhyme, flip, road, randomly, put]   \n",
       "14  [exploit, human, reflecting, consume, reap, expections, programs, fundamentally, persuaded, logic]   \n",
       "\n",
       "                                                                                             POS  \\\n",
       "0        [privacy, cause, study, right, seller, genuine, information, donation, mind, incentive]   \n",
       "1        [climate, change, justice, racial, faith, traditional, people, country, children, half]   \n",
       "2        [company, support, business, causes, product, cause, political, views, beliefs, people]   \n",
       "3                       [bonus, payment, cash, personal, desire, need, amount, free, use, value]   \n",
       "4     [service, product, sellers, quality, items, reputation, prices, personal, feelings, brand]   \n",
       "5                   [much, quality, retail, first, value, worth, materials, due, costs, designs]   \n",
       "6                [lgbtq, rights, equality, gender, gun, gay, guns, advocates, support, campaign]   \n",
       "7                [plain, high, clothes, material, amount, necessity, store, fake, hard, certain]   \n",
       "8                  [charity, donation, minimum, blank, tee, plain, cotton, one, clothing, cause]   \n",
       "9   [bonus, confidence, opportunity, seller, choice, option, payment, helpful, attempt, justice]   \n",
       "10    [gun, sales, opportunity, benefit, rights, portion, reasoning, faith, generous, principle]   \n",
       "11       [views, company, politics, values, political, issues, position, good, great, companies]   \n",
       "12         [money, cash, convenient, preferable, force, sympathy, cwn, daily, plenty, preferred]   \n",
       "13                    [guess, tails, coin, complete, shoes, road, heads, flip, guesses, options]   \n",
       "14     [profit, stance, boost, human, understanding, night, encouraged, modern, programs, logic]   \n",
       "\n",
       "                                                                                                                                                                                                                                                                                                                                                                                                                                                                                                                                                                                                                                                                                                                                                                                                                                                                                                                                                                                                                                                                                                                                                                                                                                                                                                                                                                                                                                                                                                                                                                                                                                                                                                                                                                                                                                                                                                                                                                                                                                                                                                                                                                                                                                                                                                                                                                                                                                                                                                                                                                                                                                                                                                                                                                                                                                                                                                                                                                                                                                                                                                                                                                                                                                                                                                                                                                                                                                                                                                                                                                                                                                                                                                                                                                                                                                                                                                                                                                                                                                                                                                                                                                                                                                                                                                                                                                                                                                                                                                                                                                                                                                                                                                                                                                                                                                                                                                                                                                                                                                                                                                                                                                                                                                                                                                                                                                          Representative_Docs  \n",
       "0                                                                                                                                                                                                                                                                                                                                                                                                                                                                                                                                                                                                                                                                                                                                                                                                                                                                                                                                                                                                                                                                                                                                                                                                                                                                                                                                                                                                                                                                                                                                                                                                                                                                                                                                                                                                                                                                                                                                                                                                                                                                                                                                                                                                                                                                                                                                                                                                                                                                                                                                                                                                                                                                                                                                                                                                                                                                                                                                                                                                                                                                                                                                                                                                                                                                                                                                                                                                        [I had a set quota in mind once I saw the Tshirts, and my willingness to pay sellers was more dependent on the quality and value of the tshirt rather than the sellerâ€™s political values. While I may be less inclined to purchase from a seller because I disagree with their political values, the amount of money Iâ€™m willing to spend on something in general is less likely to be impacted by the fact that a seller supports something I also support (and believe everyone should already be supporting). Hence there was little difference in how much I was willing to pay in the different scenarios., Honestly, I simply thought to myself how much would I be willing to pay for a plain old t shirt. I wouldn't pay more than $10 because I'm not into them that much anyways. They look too boxy on me. I started to make my answers exactly the same, because at the end of the day, when we're purchasing items, we don't usually know anything about the seller. So, it should only matter whether or not I wanted to buy the tshirt at that price. However, I couldn't help but have a picture come to my mind about a sleazy salesman trying to push some snake oil on me. That type of dishonesty is something I can't support. Therefore, I made my price lower the second time. , I was relatively similar on my election of what I was willing to pay the sellers in each scenario. I think I may have paid slightly more to the seller that supported the right to privacy without intentionally knowing it was to sell shirts. When I make a purchase, Iâ€™m am providing the seller my personal information to use in the course of business. I had slightly higher faith that they have effective privacy/data control practices. But overall, at the end of the day it is a plain white t shirt. I donâ€™t see myself paying substantially more for a product based on the sellerâ€™s beliefs without some other alteration to the product itself. ]  \n",
       "1                                                                                                                                                                                                                                                                                                                                                                                                                                                                                                                                                                                                                                                                                                                                                                                                                                                                                                                                                                                                                                                                                                                                                                                                                                                                                                                                                                                                                                                                                                                                                                                                                                                                                                                                                                                                                                                                                                                                                                                                                                                                                                                                                                                                                                                                                                                                                                                                                                                                                                                                                                                                                                                                                                                                                                                                                                                                                                                                                                                                                                                                                                                                                                                                                                                                                                                                                                                                                                                                                                     [For the first seller, when I didn't know their views, my willingness to pay was based on the product more than anything, tending to the higher side because I knew that the seller would also benefit form the higher price. With the seller who supported Racial Justice without knowing the selling benefits, I feel like they truly believe in the cause, so I was willing to pay them a higher price. However, for the seller who supported Racial Justice after knowing the benefits, I feel like their support isn't authentic, so I'm much less willing to give them money. I feel like this individual is exploiting the cause of Racial Justice for their own financial gains, and I feel that this is morally wrong., People who are trying to \"uphold traditional values\" tend to be along the conservative side (in America) and that side of politics has recently shown a higher tendency toward using capitalism to further their ideologies. Conversely helping climate changes tends to put an emphasis on less waste which would mean creating less goods that could end up in a landfill, if they are ACTUALLY trying to help climate change. The companies that are only looking for a sale opportunity probably care much less about where their t-shirt ends up. , The first was the hope that both the individual who actually supported the fight against climate change might invest some of that extra money into the funds to fit it. It was the same hope for the opportunist as well, but he'd receive less from me on the basis of not fully trusting his sincerity or the odds he'd invest it selflessly. As for the Faith in Public life, I feel that area is already rife with the grifting sort, out to bang the drum of protecting faith in public life, but in actuality are simply looking to line their pockets with the money of zealous fools]  \n",
       "2                                                                                                                                                                                                                                                                                                                                                                                                                                                                                                                                                                                                                                                                                                                                                                                                                                                                                                                                                                                                                                                                                                                                                                                                                                                                                                                                                                                                                                                                                                                                                                                                                                                                                                                                                                                                                                                                                                                                                                                                                                                                                                                                                                                                                                                                                                                                                                                                                                                                                                                                                                                                                                                                                                                                                                                                                                                                                                                                                                                                                                                                                                                                                                                                                                                                                                                                                                                                                                                                                                                                                                                                                                                                                                                                                                               [I believe it's worth it to pay a couple dollars extra to support a company that is trying to do good things in the world. It's respectable to advocate for groups that can't always advocate for themselves and need extra support, so I feel it's worth it to spend extra. As far as the company that didn't donate to the cause until they knew that it was going to benefit them, that's not cool. So that's why I chose that I would spend less with that particular company, because it's really only about their bottom dollar instead of about the people. I like to sort companies that are about the people, I solely focus on the product I am purchasing and not who is selling it to me. A sellers stance on social issues has no bearing to my decision making. In other words, I just want a product at the best possible price won't pay more just because someone's beliefs align with mine. When evaluating the scenarios, I viewed each transaction as a business transaction, and not as a way to support someone who shares my beliefs., When it comes to making purchases, my base-line expectation is political neutrality. I may be slightly more likely to purchase something from someone who shares my values, but it really don't tip the scales that much for me. I wouldn't pay much more than I would otherwise. On the other hand, I would not support a retailer who loudly endorses values I do not hold. There are too many other options available. And I would rather pay more to a neutral seller than less to a company who loudly endorses opinions I disagree with.]  \n",
       "3   [My reasoning/thought process when deciding how much I am willing to pay the sellers in the different scenarios is totally dependent upon the fact that the economy has crushed my finances and I am literally hungry in America trying to pay my bills in this inflation and now looming recession according to the news. Prices are up but my paycheck is not. I hold a PhD and manage a university library. You would think I make enough to buy staples like cream cheese but the last time I was at the store it was $7.99.  So when presented with an option to get a tee shirt or possibly get a bonus of $50, I selected the $50 because I am taking surveys to make extra money to feed my family. That was my reasoning/thought process when deciding how much I was willing to pay sellers in the different scenarios. Thank you., When deciding how much to pay sellers in different scenarios, my thought process would involve several key considerations:\\n\\n1. Personal Value and Utility\\nPersonal Use: I would assess how much I value the T-shirt for personal use. This includes considering factors like design, quality, and how often I would wear it.\\nAlternatives: I would compare the T-shirt to other similar items I could purchase, evaluating if I can get a better deal elsewhere or if this T-shirt is particularly unique or desirable.\\n2. Budget Constraints\\nFinancial Situation: I would consider my current financial situation and budget. This involves deciding how much discretionary spending I can afford without compromising other needs.\\nPriority: I would determine how high purchasing the T-shirt ranks among my current spending priorities.\\n3. Perceived Fairness and Sellerâ€™s Earnings\\nFair Price: I would reflect on what I perceive to be a fair price for the T-shirt, considering production costs, brand reputation, and market prices.\\nSupporting the Seller: If the seller is a small business or an individual artisan, I might be willing to pay more to support their craft and livelihood.\\n4. Experimental Context\\nBonus vs. T-shirt: Given that there's an option between receiving a bonus payment and the T-shirt, I would consider how much the monetary bonus is worth to me compared to the T-shirt. If I value the T-shirt significantly, I might indicate a higher willingness to pay.\\nRandom Selection: Understanding that a random selection could result in either receiving the T-shirt or a bonus payment, I would balance my maximum willingness to pay with the likelihood of being satisfied with either outcome.\\nScenario-Based Decision Making\\nIn different scenarios, these factors interplay as follows:\\n\\nHigh Personal Value Scenario:\\n\\nIf I highly value the T-shirt (e.g., itâ€™s a limited edition or has significant personal meaning), I would be willing to pay a higher amount.\\nI would still consider my budget and ensure Iâ€™m not overcommitting financially.\\nLow Personal Value Scenario:\\n\\nIf the T-shirt is of low personal value (e.g., itâ€™s a generic design or something Iâ€™m not particularly fond of), I would indicate a lower willingness to pay.\\nThe bonus payment might be more appealing in this case, influencing me to choose the monetary option over the T-shirt.\\nBalanced Value Scenario:\\n\\nIf I see equal value in both the T-shirt and the bonus payment, I would try to find a middle ground in terms of how much Iâ€™m willing to pay.\\nThis would involve setting a price that I believe is fair and reasonable, ensuring Iâ€™m content with either outcome.\\nFinal Decision\\nAfter weighing these factors, I would decide on an amount that reflects the T-shirt's perceived value, my financial situation, and the experimental conditions. My goal would be to make a decision that I feel comfortable with, regardless of whether I end up with the T-shirt or the bonus payment., When determining the amount I was ready to offer the vendors in various situations, I took into account various considerations. Initially, I assessed the T-shirt's intrinsic worth by considering its quality, design, and any personal liking I may have towards it. I next thought about my financial limits and how much money I could comfortably allocate for a T-shirt without impacting my finances.\\nThen, I considered the satisfaction or utility I would get from owning the T-shirt compared to getting the same amount of money as a bonus. This involved taking into account the extent to which I require or desire a new T-shirt in relation to how much the bonus payment could assist me in meeting other financial obligations or savings objectives.\\nMoreover, I considered how my choice would affect the seller's profits. I aimed to provide fair support to the vendors, particularly those who were putting in effort to promote and sell the T-shirts. So, I attempted to find a fair price that would sufficiently compensate the seller for their efforts, while also considering my willingness to pay.\\nFinally, I took into account the anonymity of the process, realizing that my decisions wouldn't be personally critiqued but would impact the seller significantly. This enabled me to make a decision based on the aforementioned factors instead of external pressure or bias, making it more objective.]  \n",
       "4                                                                                                                                                                                                                                                                                                                                                                                                                                                                                                                                                                                                                                                                                                                                                                                                                                                                                                                                                                                                                                                                                                                                                                                                                                                                                                                                                                                                                                                                                                                                                                                                                                                                                                                                                                                                                                                                                                                                                                                                                                                                                                                                                                                                                                                                                                                                                                                                                                                                                                                                                                                                                                                                                                                                                                                                                                                                                                                [My decision on how much to pay sellers is a balanced approach that considers the intrinsic value of the product or service, market conditions, fairness and ethical considerations, and strategic negotiation. By carefully evaluating these factors, I aim to make informed, fair, and mutually beneficial purchasing decisions., . Assessment of Value and Quality:\\n Product Quality: I evaluate the quality of the item or service. For example, if it's a T-shirt, I consider factors like material, craftsmanship, and design. Higher quality may justify a higher price.\\n Value for Money: I assess whether the product or service offers good value relative to its price. This includes looking at features, benefits, and whether it meets my needs or preferences effectively., Recognizing the Product or Service's Value:\\n\\nIntrinsic Value: The product or service's inherent value is something I take into account. This entails evaluating the item's overall usefulness, functionality, and quality. For example, I'm willing to spend more if the product delivers unique characteristics or fulfills a pressing need.\\nMarket Value: Another consideration I make is the market value, which is impacted by a number of variables including consumer feedback, brand reputation, and comparisons with other items in the market. This aids in determining the fair market value.\\n\\nFinancial Restraints:\\nPersonal Budget: I take into account my financial circumstances and budgetary restrictions. If a product is necessary but costs more than I can afford, I might explore for alternatives or determine how far I can push my spending limit to make that specific buy.\\nOpportunity Cost: I calculate the potential loss of spending more money on one item, or what I might have to give up. This aids in setting spending priorities for goods and services that provide the most value or advantages.\\n\\nPerceived Worth and Contentment:\\n\\nPerceived benefit: I estimate the level of benefit or satisfaction that the good or service will provide. I might be willing to pay more for a product, for instance, if it significantly improves my quality of life or offers large long-term benefits.\\nExperience and Trust: My propensity to pay may be influenced by my prior interactions with the vendor or brand. Good relationships from the past foster trust, which increases my willingness to confidently pay greater costs.]  \n",
       "5                                                                                                                                                                                                                                                                                                                                                                                                                                                                                                                                                                                                                                                                                                                                                                                                                                                                                                                                                                                                                                                                                                                                                                                                                                                                                                                                                                                                                                                                                                                                                                                                                                                                                                                                                                                                                                                                                                                                                                                                                                                                                                                                                                                                                                                                                                                                                                                                                                                                                                                                                                                                                                                                                                                                                                                                                                                                                                                                                                                                                                                                                                                                                                                                                                                                                                                                                                                                                                                                                                                                                                                                                                                                                                                                                                                                                                                                                                                                                                                                                                                                                                                                                                               [I made these decisions based on the fact these T-short sellers are dedicating time to creating a business. Regardless of their values I find it motivating they are trying their hardest to earn an income and sell consumer goods. I believe that shirts clothing are essential and they are doing a frat job by making these items, packaging, selling, and shipping.   , Quality of the T-shirt: I assess the quality of the T-shirt, including factors like fabric, design, durability, and craftsmanship. Higher-quality materials and unique designs might justify a higher price. Brand and Reputation: If the T-shirt is from a well-known or reputable brand, I might be willing to pay more due to perceived value and brand prestige., Mostly I was thinking about how much I am willing to pay for a T-shirt. I like to support good causes; I like to support sellers and businesses that have similar values to my own. However, I'm not willing to spend crazy amounts of money on a product that I could find more much cheaper elsewhere. There came a point, usually around the $20 mark, that I would prefer the money instead. It simply became a matter of value vs. perceived value. ]  \n",
       "6                                                                                                                                                                                                                                                                                                                                                                                                                                                                                                                                                                                                                                                                                                                                                                                                                                                                                                                                                                                                                                                                                                                                                                                                                                                                                                                                                                                                                                                                                                                                                                                                                                                                                                                                                                                                                                                                                                                                                                                                                                                                                                                                                                                                                                                                                                                                                                                                                                                                                                                                                                                                                                                                                                                                                                                                                                                                                                                                                                                                                                                                                                                                                                                                                   [For the control / neutral seller, I figure that a custom t-shirt was worth about $10.  That's how much my niece charged me for a custom t-shirt.  For the seller who supported LGBTQ+ without knowing, I paid $20 since their support was genuine without financial incentive.  For the seller who supported LGBTQ+ knowing that it could lead to greater sales, I split the difference between the two sellers at $16.  Yes, they had a financial incentive but at least they weren't one of those weirdos who were totally against LGBTQ+ like the bakery shop who refused to bake a wedding cake for a gay couple due to their \"religious\" beliefs., I'm a graphic designer, so I'd be much more intererested in buying tees that have a message or some kind of design on them. Just this year I've bought campaign merch that doubles as gifts, because I know some of the money goes back to a campaign I strongly support. But their merch also looks cool! So I just wouldn't pay a lot for a white tee, even if they donate $2 to a cause I care about. I'd probably rather straight up donate to the Trevor Project or Equality Florida. I did differentiate, though, between the seller who genuinely wanted to support LGBTQ+ rights and the seller who just wanted to make a sale and didn't care. That seller could turn around and donate to causes I consider hateful; I wouldn't trust that they'd handle my donation in the way they promise.,  If a seller indicates support for gender equality, I am more likely to pay a premium. Supporting businesses that align with my values feels like an investment in the kind of world I want to live in. I look for clear, transparent indications that the seller genuinely supports the values they claim. This might include certifications, detailed information on their practices, or third-party endorsements. While gender equality is particularly important to me, I also consider other values such as environmental sustainability, ethical labor practices, and social justice. Sellers who demonstrate a commitment to these values also positively influence my willingness to pay more.]  \n",
       "7                                                                                                                                                                                                                                                                                                                                                                                                                                                                                                                                                                                                                                                                                                                                                                                                                                                                                                                                                                                                                                                                                                                                                                                                                                                                                                                                                                                                                                                                                                                                                                                                                                                                                                                                                                                                                                                                                                                                                                                                                                                                                                                                                                                                                                                                                                                                                                                                                                                                                                                                                                                                                                                                                                                                                                                                                                                                                                                                                                                                                                                                                                                                                                                                                                                                                                                                                                                                                                                                                                                                                                                                                                                                                                                                                                      [Plain t-shirts are something that is very easy to come by, and I am not willing to pay a very large amount of money unless the quality is very good, the design is very special, or the designer is someone who supports causes that I value and that help the earth and society. The maximum I am willing to pay for a plain shirt is usually about 10-15 dollars, and the higher end of the amount would be for a seller that I wanted to show support for due to shared values., In most cases, I buy plain T-shirts on sale from Goodwill during Black Friday events. In years past, Goodwill has had $2 sales for T-shirts. I donâ€™t like to spend a whole lot on T-shirts, unless the T-shirt has a specific message for a specific event that I would be attending. I personally have sometimes bought â€œmessageâ€ T-shirts for as high as $15 or $20, depending on the message, but I would generally go for $10 or under for a plain T-shirt. This is regardless of the sellerâ€™s personal opinion on certain political or public policy issues. , I purchase out of necessity and not to be fashion conscious. I wear clothes until they become faded, wear out, threads start to fray about. So whether clothes are on sale or not, whether the clothes are fashionable or not, whether the clothes are made of high quality material does not matter to me.\\n\\nI buy stuff based on necessity, that is when I need to buy them. So the amount I was willing to pay sellers really is immaterial to me in all cases. If I know that the product is high quality then I will purchase it at that time.]  \n",
       "8                                                                                                                                                                                                                                                                                                                                                                                                                                                                                                                                                                                                                                                                                                                                                                                                                                                                                                                                                                                                                                                                                                                                                                                                                                                                                                                                                                                                                                                                                                                                                                                                                                                                                                                                                                                                                                                                                                                                                                                                                                                                                                                                                                                                                                                                                                                                                                                                                                                                                                                                                                                                                                                                                                                                                                                                                                                                                                                                                                                                                                                                                                                                                                                                                                                                                                                                        [Overall the shirt looked like decent quality, but nothing I would pay more for than a shirt that I feel like I could purchase at Target or Walmart. When it comes to the thought process when deciding how much to pay the sellers in different scenarios, I feel like I was somewhat more willing to pay more for the shirt when the seller wasn't influenced by monetary gain, but the baseline at what I would pay stayed the same whether or not the seller was supporting something or not. Overall, my prices were pretty firm on what I'd pay for the shirts.  , Well, I have owned a t shirt shop before and the \"information\" you provide was completely useless. I don't know if it is a light or heavy fabric, if it is 100% cotton or blend or any of the other myriad considerations one ponders when buying a t shirt. That being said... $14 is the MOST I would pay for a high quality blank shirt. That is just economics. All that donating stuff means nothing as most of the time it is just a scam. You wanted my honest opinion... you got it., When deciding the price I was willing to pay for a plain t-shirt, I first considered what constitutes a good price for such an item. Gildan sells plain white t-shirts for around $15, while brands like Carhartt offer thicker cotton t-shirts for about $20 each. I set my benchmark based on these prices.\\n\\nConsidering the numerous color options available, I assumed that these shirts must be relatively cheap to produce. If the brand was unknown, I anticipated some unusual marketing claims about why they were a \"better\" option, likely pricing their t-shirts around $30-$35. For me personally, that was the maximum I was willing to pay.\\n\\nWhen it comes to companies doing charity work, I expect to pay a premium. For plain t-shirts with no additional backing or cause, I would pay at most $25. For charity-based ones, I can see the price going up to $45-$50 per shirt. However, I would not pay more than $34 for just a basic plain t-shirt.]  \n",
       "9                                                                                                                                                                                                                                                                                                                                                                                                                                                                                                                                                                                                                                                                                                                                                                                                                                                                                                                                                                                                                                   [I initially preferred the bonus payment to the T shirts no matter how small the amount except 0$ but was willing to pick the T shirt instead of the $2 bonus on hearing the seller also supports Traditional values as most important like myself in order for the seller to benefit a little. The seller who supported after finding out about the opportunity to sell didn't matter too much nor made much of a difference to me even though the one who supported the same Traditional value as me without knowing about the opportunity would be a stronger supporter. For me, support is still support even if it was realized later. Hence I was willing to pay them both the same., I generally wanted a bonus instead of a t-shirt because receiving a t-shirt is too much trouble. I was willing to buy a t-shirt from someone that was willing to donate to Fight Climate change without knowing about the chance to sell beforehand for a higher price because I know that he is going to be down $2 no matter what. I will pay a higher amount from a tshirt for that person because he is already incurring a cost to help something that I believe in. Even for the seller that knows he might be using Fight Climate change to sell, he is still donating money in the end. It might feel a bit scummy to use a cause to sell tshirts, but money for a cause is money for a cause. It doesn't really matter for me if the intentions aren't pure, $2 is still going to Fight Climate change on a successful sale., Sellerâ€™s Support for Values:\\nNeutral Seller: For the neutral seller, my decision was based purely on the product itself (the T-shirt) and the price. Since there were no additional factors influencing my decision, I focused on the value I placed on the T-shirt alone.\\nSeller Supporting Racial Justice: Knowing that this seller supports a value that is important to me (Racial Justice) added a positive bias. I was more inclined to support this seller because their values aligned with mine, which made me willing to pay a bit more for the T-shirt.\\nSeller Supporting Racial Justice for Market Opportunity: Although this seller also supports Racial Justice, their support might be driven by the opportunity to sell more T-shirts. This made me slightly cautious, but I still valued their support for an important cause, which influenced my willingness to pay.\\nProduct and Price Consideration:\\nI considered the quality and utility of the T-shirt itself. Since the T-shirt is a basic item, I evaluated how much I would typically be willing to pay for such a product in a regular market setting.\\nI compared the T-shirt to the bonus payment options. For each price point, I weighed the value of receiving the T-shirt against the monetary bonus. This helped me determine the maximum amount I was willing to pay before preferring the bonus payment instead.\\nImpact on Sellerâ€™s Earnings:\\nI understood that my willingness to pay directly affected the sellerâ€™s earnings. This consideration made me more thoughtful about my choices, especially for sellers who supported values I cared about. I wanted to ensure that my decisions reflected my support for those values.\\nAnonymity and Fairness:\\nKnowing that my choices were anonymous and that sellers would not know my identity or specific decision scenarios, I felt comfortable making honest decisions based on my true preferences.\\nI aimed to be fair in my evaluations, ensuring that my willingness to pay was consistent with my genuine valuation of the T-shirt and the sellerâ€™s support for important values.\\nConfidence in Decisions:\\nI considered my confidence in the sellersâ€™ motivations and the quality of the T-shirt. For sellers who genuinely supported important values, I felt more confident in my willingness to pay a higher amount.\\nFor the neutral seller, my confidence was based solely on the product itself, leading to a more straightforward valuation.\\nOverall, my decisions were influenced by a combination of the productâ€™s value, the sellerâ€™s support for important values, and the impact on the sellerâ€™s earnings. I aimed to make thoughtful and fair choices that reflected my true preferences and support for values that matter to me.]  \n",
       "10                                                                                                                                                                                                                                                                                                                                                                                                                                                                                                                                                                                                                                                                                                                                                                                                                                                                                                                                                                                                                                                                                                                                                                                                                                                                                                                                                                                                                                                                                                                                                                                                                                                                                                                                                                      [People taking these surveys are generally poor and frankly are put off when you're talking about a $20 T shirt so that affects their decision even though they could get the T shirt for like nothing or two dollars, I believe they are poisoned by what was spoken of before in the text about a $20 T shirt. I also believe most people thinking money would be at stake for selling the T shirt would probably not talk about issues so much like gun control or racial issues or things like that. So the choices like I chose the race show thing as the least important because that mostly deals with the DEI stuff which is very discriminatory and it's bad and that's why I chose that and I chose gun rights because it's the only thing that was actually not really bad among all the things but it's still very important. I actually don't even own a gun myself and probably will never get one but I think it's right that people have the freedom to defend themselves., When deciding how much to pay sellers, I first consider my genuine interest in \"Fight Climate Change\" and the value of the T-shirt. If Iâ€™m passionate about this cause, I will offer more to support it. Once I learn that my payment can influence how many T-shirts sellers sell and potentially increase their earnings, I adjust my offer strategically. I might pay more to support \"Fight Climate Change,\" knowing that aligning with this cause can help boost sellers' success and reflect my values.\\n\\nEven though I donâ€™t support \"Gun Rights,\" I might still pay for it to influence the sellers. Before knowing about the market opportunity, I estimate that about 27% of sellers might show support for \"Gun Rights.\" After learning that my payment could impact their sales and earnings, this percentage might increase to around 37%, as sellers might see a strategic benefit in aligning with a cause that could resonate with certain consumers., What I was willing to pay sellers was more impulsive reasoning where I was thinking I would rather have a bonus than wait for a t shirt because I could always donate part of my bonus for gun rights. I automatically went with myself taking a bigger bonus and donating more money to gun rights myself rather than think about it. It seemed the most logical to me especially because if I received a high bonus I planned to donate a good chunk and not just a few dollars and for faith in public life my reasoning was when it comes to faith people who do not support religion being part of public life feel very strongly about keeping faith out of public life and would be less likely to support anything to do with faith regardless of any profit because in my experience it has seemed to be something they take personally and not an issue where they are able to easily see things from the perspective of others. Because of my experience I don't see selling more shirts having much effort on sellers who don't believe faith should be part of public life where gun rights are something they would be willing to accept because usually the people not for gun rights are intreated in regulation and not outright banning guns. So, I felt by picking bonuses for faith they will definitely have a better chance of getting more money by donating a good portion of my bonus to them myself if I get it. Hopefully this makes sense but if you would like me to clarify my reasoning more, please do not hesitate to message me and ask me. I want to help provide the best data I can for your research.]  \n",
       "11                                                                                                                                                                                                                                                                                                                                                                                                                                                                                                                                                                                                                                                                                                                                                                                                                                                                                                                                                                                                                                                                                                                                                                                                                                                                                                                                                                                                                                                                                                                                                                                                                                                                                                                                                                                                                                                                                                                                                                                                                                                                                                                                                                                                                                                                                                                                                                                                                                                                                                                                                                                                                                                                                                                                                                                                                                                                                                                                                                                                                                                                                                                                                                                                                                                                                                                                                                                                                                                                                                                                                                                                                                                                                                                                                                                                                                                                                                                                                                                                                                                                                  [As much as I support the causes and values the companies are championing, there is only so much I am willing to spend on a plain t-shirt. If there were different designs, a wider variety of sizing options, different style options (i.e. tanktops, hoodies, crop tops, etc), then I would be more willing to explore the site (more ad revenue) and perhaps bump my budget upward., I didn't see any real reason the t-shirt was worth not getting the money, I'd take a free shirt from anyone, but as for paying \\n1. Ideally it is from a company I largely agree with on values if I am to pay more and I know/can learn more about said company beyond it superficially supporting something.\\nOR\\n2. It is a product I cannot or only with great difficulty get a relative equivalent elsewhere, I'm looking to make as much money as I can for myself. People who agree with my political views are great, and I'm happy to hear it, but I'm not willing to part with a potentially substantial pay out because seller 2 thinks privacy is good. So in all cases I stopped at what I think a good deal on a T-shirt would be. Additionally, the list of values given was not particularly tempting for me. And lastly, I'm not a huge fan of forcing politics into shopping and pop culture. ]  \n",
       "12                                                                                                                                                                                                                                                                                                                                                                                                                                                                                                                                                                                                                                                                                                                                                                                                                                                                                                                                                                                                                                                                                                                                                                                                                                                                                                                                                                                                                                                                                                                                                                                                                                                                                                                                                                                                                                                                                                                                                                                                                                                                                                                                                                                                                                                                                                                                                                                                                                                                                                                                                                                                                                                                                                                                                                                                                                                                                                                                                                                                                                                                                                                                                                                                                                                                                                                                                                                                                                                                                                                                                                                                                                                                                                                                                                                                                                                                                                                                                                                                                                                                                                                                                                                                                                                                                                                                                                                                                                                                                                                                                                                                                                                                                                                                                                                                  [I do not want a plain shirt and I do prolific to make money, so I choose the money. Thry cwn keep the shirt that I don't even want and I might get money., I already have a lot of shirts so the money would be more convenient and useful to me to use towards other needs in my daily life. The t-shirt also doesn't seem to have a brand so I am not sure of the quality of it. , The amounts offered in lieu of the T shirt are not life changing and will not make a difference much. tHIS IS TRUE UNTIL THE AMOUNT BECOMES SIZABLE ENOUGH THAT i COULD USE IT TO HELP PAY A BILL.]  \n",
       "13                                                                                                                                                                                                                                                                                                                                                                                                                                                                                                                                                                                                                                                                                                                                                                                                                                                                                                                                                                                                                                                                                                                                                                                                                                                                                                                                                                                                                                                                                                                                                                                                                                                                                                                                                                                                                                                                                                                                                                                                                                                                                                                                                                                                                                                                                                                                                                                                                                                                                                                                                                                                                                                                                                                                                                                                                                                                                                                                                                                                                                                                                                                                                                                                                                                                                                                                                                                                                                                                                                                                                                                                                                                                                                                                                                                                                                                                                                                                                                                                                                                                                                                                                                                                                                                                                                                                                                                                                                                                                                                                                                                                                                                                                                                                                                                                                                                     [These were complete guesses, which is why they were mostly middle of the road. I felt the support for guns has less so I went lower on those options., Knowing what an individual would select has the same chance of guessing heads or tails on a coin flip. I selected options that seemed correct., I tried to put myself in their shoes and understand people based on an average view I have of them. I feel those percentages would be what I would get if I asked the question in a public place with 100 people being asked.]  \n",
       "14                                                                                                                                                                                                                                                                                                                                                                                                                                                                                                                                                                                                                                                                                                                                                                                                                                                                                                                                                                                                                                                                                                                                                                                                                                                                                                                                                                                                                                                                                                                                                                                                                                                                                                                                                                                                                                                                                                                                                                                                                                                                                                                                                                                                                                                                                                                                                                                                                                                                                                                                                                                                                                                                                                                                                                                                                                                                                                                                                                                                                                                                                                                                                                                                                                                                                                                                                                                                                                                                                                                                                                                                                                                                                                                                                                                                                                                                                                                                                                                                                                                                                                                                                                               [I can't pretend or guess that I know how people think and make decisions based on honesty or opportunity, however I do know that people can often be motivated by profit, and sometimes are willing to sacrifice their true beliefs in order to financially benefit. Therefore, I just went with the best case scenarios with what I was presented with. , I actually was confused but I perceived that if the seller supported the same value as myself I was thought to likely try to increase their potential profit....I didn't feel inclined to do that...I guess I feel supporting the same value I do didn't influence me to increase the sellers profit....had it been a value I didn't support however I likely would have made a choice to lessen the profit to the seller even tho I don't think I should do that or use that logic in either case, I think that just based on human nature regardless if they truly care about the cause or night that people will naturally be more willing to do something if it means a greater profit. The point of doing all of that work to start a company and sell things is to be successful so people are always looking for a boost where possible.]  "
      ]
     },
     "execution_count": 14,
     "metadata": {},
     "output_type": "execute_result"
    }
   ],
   "source": [
    "top_inf"
   ]
  },
  {
   "cell_type": "code",
   "execution_count": null,
   "metadata": {},
   "outputs": [
    {
     "data": {
      "application/vnd.plotly.v1+json": {
       "config": {
        "plotlyServerURL": "https://plot.ly"
       },
       "data": [
        {
         "hoverinfo": "text",
         "hovertext": [
          "It does not matter to me the values of the seller, for everyone has the right to earn a living decently, of course I will not buy from a criminal, so I clicked on the real market value of a t-shirt offered by the sellers without taking into consideration the seller value inclination or interest in mind.",
          "I considered their stand on some matters but mostly i considered the bonus available as i will be needing it for a different purpose.",
          "The price I would be willing to pay stayed the same, which is the price I would be willing to pay for a plain tshirt. Whether or not a seller supports or donates to a particular cause isn't important to me. When it comes to goods, I am just interested in the value I get for my money. If I want to donate or give money to an organization I will do that on my own time.",
          "I wanted to increase the potential for more sales so i tried to minimize my bonus to help the seller.",
          "It doesn't bother me if they felt motivated or not motivated so long as the donation would go to an organization that shared the values I have. I do think that the incentive would probably make them more motivated, but it just doesn't really particularly sway me in either direction. ",
          "Initially, I was willing to forgo larger cash payments for sellers who were going to donate $2 per shirt to LGBTQ causes.  But then I thought, if I took the cash, I could donate A LOT more than $2 to the cause, so then I opted for cash at higher levels.",
          "Well, I am willing to pay up to $20 for a plain T-shirt in general, so that's why the first two scenarios I went up to $18 for the shirts.  In the 3rd scenario the seller only supported my cause because they could get more money, so I chose to give them none, because that is deceitful.  ",
          "I had a set quota in mind once I saw the Tshirts, and my willingness to pay sellers was more dependent on the quality and value of the tshirt rather than the sellerâ€™s political values. While I may be less inclined to purchase from a seller because I disagree with their political values, the amount of money Iâ€™m willing to spend on something in general is less likely to be impacted by the fact that a seller supports something I also support (and believe everyone should already be supporting). Hence there was little difference in how much I was willing to pay in the different scenarios.",
          "I estimated about what I was willing to pay for a t-shirt versus getting a bonus and which would have more value for the amount paid. I was willing to pay a little more for a seller that held similar values so that they could donate that extra portion to the cause",
          "Just how much I would pay for a regular t-shirt from the store. ",
          "i was willing to pay the same amount to each of them. I was more concerned about the impact to me vs the impact to somebody else regardless of their beliefs.",
          "I tend to pay less to people who've got same values as mine.",
          "I can appreciate a seller wanting to contribute to a cause they believe in.  But I think that, if an opportunity to sell more product presents itself, most charitable efforts take less importance.",
          "I wanted to make sure the seller had enough earnings, but also receive a shirt to support the sellers.",
          "I was glad the first seller was neutral but I would pay a little more for a cause I believe in whether they knew about the opportunity or not . Same said if it was a cause I didnâ€™t support I wouldnâ€™t get a shirt at all ",
          "Just how much a shirt actually costs, I could always use a shirt but would rather have the cash.",
          "Genuinely, I have no use for a plain t-shirt at this moment. I answered the same for each scenario because it isn't worth my time to receive an item in the mail and to figure out what to do with it. ",
          "I have a strong intuition that few participants would agree to donate",
          "I would not purchase products from a company that supports things I don't support. ",
          "I wanted to make sure that the sellers donate the $2 for Climate Change.  I really didn't want the tee shirt.  In retrospect, I probably should have selected the tee shirt up to a certain amount so I could be sure they donate to the climate change issue.",
          "Initially, I considered only the cost of the t-shirt itself. However, knowing that the purchase would support a cause I believe in made me feel that paying a bit more was worthwhile.",
          "I used what I normally would look to spend on a t shirt.I added a few extra dollars on due to the fact they would donate to gun rights.",
          "It depends on the likelihood of money, if that makes sense? In the moment, a shirt is worth less to a lot of people compared to money that can help with more things. ",
          "I would pay the most for a T shirt by a seller that on their on accord supported the right to privacy as an important value to emphasize in their promotions.  ",
          "I have no idea. But I donâ€™t see people selling tshirt to promote trad values. Whiter expose bare fore arms. Thatâ€™s too much skin for trade values. ",
          "I didn't really care about the seller's opinion on the right to privacy. I decided how much I'd pay for the shirt on offer and selected the cash bonus above that price. I will say that if it the seller had expressed an opinion on more culturally divisive topics like gun rights or religion in government I may have been less willing to buy from them.",
          "I could buy a plain shirt anywhere else for around 10 dollars after that I'd rather have the cash .",
          "I was not really concerned with whether they knew about the upcoming selling of tshirts. I was more concerned with the organization they support. So I was more willing to receive a tshirt from a seller who might be like minded to me.",
          "First choice was simply based on the perceived value of the tshirt. \nSecond choice - I increased the amount by 2 to match the seller donation since they prompted to support my cause. \nThird choice - I similarly increased the amount by 2 plus another 2 for their unprompted support to Rights of Privacy ",
          "I just answered based on my gut feeling in relation to the benefit vs the cause. ",
          "My thought process stems from the fact that those who are truly passionate will support their causes free from any notoriety or financial gain. However, this will be a smaller number. This is why in my responses the percentage is smaller for those who move forward with donating without knowing about the sale. \n\nFor the others, it is an ability to market more product to appeal to a wider demographic. ",
          "I don't think people really care for donations. The economy is tough and I think people don't discretionary income to donate money. I don't particularly like being asked to donate money, it makes me uncomfortable and the people around me uncomfortable. I would donate if I itemized my tax return to use charitable donations as a deductions but for no other reason. Life is tough and I don't see myself donating.",
          "I'd pay about 20 bucks for a nice, solid-color T shirt. If I knew that the company I was paying had similar values, then I would feel better about giving them a little more moneyâ€”but not a lot more, since the money probably wouldn't have to do with fighting for the right to privacy.",
          "I was relatively similar on my election of what I was willing to pay the sellers in each scenario. I think I may have paid slightly more to the seller that supported the right to privacy without intentionally knowing it was to sell shirts. When I make a purchase, Iâ€™m am providing the seller my personal information to use in the course of business. I had slightly higher faith that they have effective privacy/data control practices. But overall, at the end of the day it is a plain white t shirt. I donâ€™t see myself paying substantially more for a product based on the sellerâ€™s beliefs without some other alteration to the product itself. ",
          "I really don't know. People take surveys like this to make a little extra money. Most surveys don't pay much, so why in the world would anyone be willing to give what little that they make away.",
          "I believe that i can find similar one which are free ",
          "I wanted to try to meet a balance between what I'm willing to pay for a t-shirt and ensuring that the seller gets at least some amount of payment.  Ultimately, however, I wouldn't spend all that much on a plain t-shirt.  To be totally frank, money's tight and I could use a monetary bonus a lot more than a shirt that'll probably just get buried in my laundry somewhere.",
          "although humans can change and not be trusted as well but i have to do so to support him",
          "Honestly, Iâ€™m doing this because I need money. Im doing just fine on t-shirts at the moment. Right at this moment I would prefer any amount of money over a new plain t-shirt, regardless who was selling it. ",
          "When the seller does not know that the donation will lead to further sales then they would have no incentive to even donate the money at all. But with an incentive that is known, the seller would then have an incentive ",
          "I am here to make money to pay off medical bills. I am being strictly monetary.",
          "I believe gender equality is a value most americans support and, conversely, the percentage of the population that does not espouse to the value is small and those in the middle that don't care. \nI read that about 75% of americans claim they are christian but I believe that number is much lower when it comes to actual practice so this value is more controversial than gender equality. so a business person is taking a risk of alienating non-christians from potentially purchasing their t-shirts.",
          "A plain tshirt does not hold a lot of value because I am not creative enough to design it. I would pay more for gender equality because I am very passionate for the cause, and I would pay more for the vendor who doesnâ€™t know about selling tshirts because that means they truly believe in gender equality. They didnâ€™t do it so they could make money. ",
          "I try to think of a small entrepreneur and what they might be willing to donate to the cause.",
          "My decision on how much I am willing to pay sellers is dependent on how much they support the same cause as I do.  I had to think if they we're supporint the cause to sell more or do they  really belive in the cause.",
          "I'm not interested in owning a t-shirt, so I'm not willing to pay. I feel like I donate to plenty of goodness through my own career (teaching in a title 1 school) and life style (thrifting, eating vegetarian, etc..). I know that more is to be done, but if I donated to every cause I support I wouldn't have enough money to live my own life. ",
          "I don't usually purchase plain T-shirts. Therefore I'm only willing to pay up to $6 for one, and only because I can get a fabulous color in a women's! ",
          "I want to give as much bonus payment as possible to the seller because of their donation to the gun rights",
          "First, under any circumstances, I needed the bonus money more than I needed a T shirt. With that in mind, I was willing to give up a $2 bonus in order to purchase a shirt from the seller that supported LGBT rights without knowing they were going to have a chance to sell. This is because that person is apparently genuine and good-hearted, and either has experience with the LGBT community and its needs, or has thought deeply enough about the topic to understand why our rights are so important to us. It is important for us to stick together, so I offered some small support to this person even though I needed the bonus more. ",
          "I weigh my options based on what there is to gain, particularly in the case of this study. ",
          "On average I was willing to pay 6 dollars for a T-shirt, therefore when 2 sellers were for the right of privacy, I was willing to pay $8 for the seller who would donate to the cause and $10 for the seller who would donate to the cause out of his earnings, to support him even more.",
          "To be honest, i found it a little confusing. I tried to correlate the expectation I had of the average person and their willingness to sell/give to the cause.",
          "Iâ€™m using my memory based off of the information I read about the T shirt sellers. Also, just guessing which I think people would prefer to support",
          "I would not pay too much for a plain T-shirt to begin with. I am willing to pay more to a company that supports a cause I believe in. I see it as also supporting the families who believe strongly in stuff I believe in. I did however lessen my threshold for the scenario where the seller could have taken advantage of the buyers without truly supporting what I believed in.",
          "When deciding how much to pay sellers, I considered several factors. First, I think about the sellers' motivation and how intrinsic values and incentives might influence their decision to donate. If sellers are informed that supporting a cause can increase their sales opportunities, they might be more likely to contribute. I also weigh the cost of the donation against potential benefits, ensuring the payment structure is financially feasible. Finally, I tailor the payment based on the specific context of the study to achieve the desired outcomes.",
          "For a cause I believe in, I would be willing to go higher on a shirt from them.",
          "I am willing to pay the seller who donates to fighting climate more than one who doesn't approx. $6.00 more.",
          "I didn't really think about the sellers at all, I just thought about my best interests. And I really don't need a t-shirt right now, I need money.",
          "I would not pay very much for a t-shirt regardless of the other factors.  I have plenty of t-shirts.",
          "Iâ€™m willing to pay more if itâ€™s going to a good cause. If itâ€™s just a plain T-shirt, it doesnâ€™t have much value.",
          "I don't really pay attention to what companies do or do not support to be honest. I buy what I want and don't pay attention to the different things they support, don't support, I don't go with canceling out people or companies for those reasons. ",
          "I compare prices to real life prices and the social cause they are donating to",
          "The independent person I was willing to spend a little less also when they weren't genuine in choosing gun rights when they chose it to get more sales so I spent more on the genuine gun rights advocate",
          "I think the T-shirt like this can cost up to $30, so I am willing to pay a few dollars more to a seller that supports the Right to Privacy, i.e. the value that I also support.",
          "I was more inclined to pay more for a shirt that would also benefit a cause I support. I would have done the same had the cause supported been almost any of the others listed at the start of the task. ",
          "I feel like people would rather support church merch.",
          "While the sellers were described as identical in most aspects, the information about their support for Racial Justice, a value I strongly align with, influenced my perception of them. This had an impact on my willingness to pay.  The information about whether the seller's support for Racial Justice was genuine or motivated by potential financial gain further impacted my decision. A sincere commitment to the cause made me more inclined to support the seller by paying a higher price for the T-shirt.",
          "As I knew almost nothing about the sellers, I mostly considered the amount I would be willing to spend on a t-shirt in real life.  In my area, the simple shirts I prefer are often available for under $10.  I decided I would rather have $10 or more than to have a t-shirt from a limited selection.  I appreciate a seller supporting a social justice cause I care about, so I increased my payment level by $2 to offset the seller's cost.",
          "I just imagined the percentage of average citizens interested in the varying issues. I thought the sellers would also be in this criteria. Then I envisioned how much the particular causes would mean to said sellers and viola! ",
          "When a seller is donating to a cause, I try to factor that in. I'll pay more. Hopefully I am incentivizing their behavior. Not for every cause, but most are deserving of support. ",
          "First I thought about what would be a fair price for the shirt. Iâ€™m willing to pay a little more than that if they just espouse that value but Iâ€™m willing to pay more if they mean it.",
          "I made the decision based on the bonus the seller would get, which would be a potential bonus for me as well.",
          "I am not willing to pay anymore for a t-shirt from one person than another.",
          "I was willing to pay a bit more for the shirt when I considered that an additional amount would be a donation to a cause I support. Iâ€™d pay even more when I perceived that the sellerâ€™s interest in my preferred cause was genuine and not only motivated by profit.",
          "When doing this study I chose based on the quality of the product, but also my chances of getting a bonus I had at the back of my mind. So I tried to formulate what would work best for me to maximize my bonus. ",
          "I pay seller low to all scenarios,  selling t-shirts for cause won't matter much. ",
          "It really only came down to the price of the T-Shirt. The support of right to privacy was not really a concern for me. When I did see that someone changed after they knew about the opportunity, I adjusted my payment by $2 because of principal. They really didn't care about the issue, they just made it known once they thought it could increase sales. I don't care for fake, I would have preferred no change at all.",
          "I was willing to pay to make their businesses grow",
          "I based my answers on how much I was willing to pay in association with the cause. Even if the seller was not aware of the organization selling their tshirts, my money would still be going to an organization.",
          "To be honest it was a random thing so Hopefully they will have a great business",
          "I made my choices based on my opinion of the value of the t-shirts. However, when the scenario changed and there was a $2 donation to Gender Equality, I felt it was worth changing my choices.",
          "Reason is somewhat trivial, I am knee-deep in t-shirts, no need for another, would rather have the money for Starbucks. Upped my threshold from $5 to $10 for the seller who supports privacy rights because I wanted them to also have Starbucks money.",
          "Iâ€™d be more willing to receive the shirt when my cause is supported and especially when the seller has altruistic reasons for doing so.",
          "I believe the t-shirts' value would not be over ten dollars, and I don't really want to sell or buy t-shirts.",
          "In looking at the product, no ties to it, $10 was the price I would pay. It's just a T-Shirt.  However, the most I would be willing to pay for any t-shirt would be $20.  Since right to privacy isn't a big deal in the public eye, I think it would be awesome for a company to recognize it whether they knew it could be a good market or not.",
          "A company endorsing an opinion doesn't mean they will really do anything besides say that.",
          "I WOULD HAVE PAID THE SAME NO MATTER WHAT THEIR IDEALS. I AM OF THE PERSUASION THAT ALL ARE CREATED EQUAL AND SHOULD BE TREATED AS SUCH, NO MATTER A DIFFERENCE OF OPINIONS.",
          "The average in my mind I would pay for a good shirt no more than 20 dollars.",
          "personally, I would not pay much for a t-shirt vs getting paid for my time and attn to a study. I was hoping for a bonus more than a t-shirt. I am not driven by what others would want me to do I suppose.  ",
          "I would not pay over $5 for a plain t shirt.",
          "No matter what seller thinks, I am only willing to spend $10-12 for a t-shirt.",
          "in  as much as his thought or plans aren't contradictory to mine",
          "Having a t-shirt shipped to me would undermine the cause I chose as most important to me since I would have to give up my home address, therefore there's no amount of money I would be willing to pay to give that up. Also money will always be more valuable in my life than a t-shirt. I don't think many people would choose a t-shirt over money, but since it's more of a hypothetical decision there may be people that like the idea of a donation and spreading awareness for their cause. I don't see many people in favor of theocratic practices being on this platform and filling out this study so I assume there are far less that would select this cause.",
          "I first thought of the price of a Tshirt that I was willing to pay.  The extra $2 is helpful, whether the seller was trying to sell more shirts or not.  So I was willing to pay that extra $2",
          "I have done many thousands of surveys...the fact that SO many researchers put out junk information in hypothetical questions that are not true...it is just pointless so I am just going for the money. Sorry but true.... ",
          "I am big on privacy, in fact, before I took this survey I was reading about ways to stay secure. Yes, I would support a business more if they take privacy more seriously, but T-shirts aren't exactly something that get me out of bed to support more. ",
          "When an individual makes a contribution solely out of an earnings promise (scenario one) (with no additional information) they seem to be doing this out of a true desire for promoting a value or effort they deem important. When the contribution is overtly connected with a marketing opportunity (possessing new information of sales possibilities), I want to believe their efforts are a genuine as the previous scenario of not knowing, however, .. it does seem to me that a contribution strictly out of earnings with no connection to sales opportunities is a true and deeply held belief in the cause. (i.e. scenario one)",
          "Personal details about one's life dictates the willingness to pay sellers. I can't afford to be willing to pay more to a seller even if they show more integrity regarding their willingness to donate to a cause without incentive. If I was more financially sound my responses would differ",
          "I will not pay a company if I willingly know that theyâ€™re only faking support for minorities to help drive business and put money in their pockets. Itâ€™s much more respectable for the companies to be straightforward and honest about their views and what they believe if putting their views into their business is important to them. Lying for the sake of fattening your wallet will always be scummy.",
          "Wanted to help sellers who were willing to donate 2.00 to my cause, which is very important. Wanted sellers to be successful.",
          "I was thinking about what causes and etc would this represent ",
          "If I could just go find a t shirt elsewhere for the same price. I'm not exactly hurting for a new shirt, but it would be fiscally poor for me to accept the chance of less money than a shirt is worth. ",
          "I only have so much money to spend and even if the seller would make more money by the higher price I would pay, I am only willing to spend a reasonable amount of money for a T-Shirt. ",
          "The sellers reason for supporting right to privacy has no influence on my decision to purchase a t shirt, I purchase clothing if I need it and usually at low prices so regardless if they by default supported right to privacy or knew about a potential financial incentive for support privacy rights I was only willing to pay 4 dollars for the shirt.",
          "I thought about the amount of cost of a t-shirt and the amount of the bonus, in addition to the right to privacy.",
          "I would pay more for a tshirt to the company that had no idea any of the sales would go to their organization because that means they are supporting that organization wholeheartedly without any monetary influence.",
          "Based on what i personally would pay for one at Walmart or something Iâ€™m not a big spender",
          "As a person with very low income, I don't have the privilege of being able to donate money, even to causes I support. However I did this exercise as if I were able to donate as best as I could.",
          "As someone on a very tight budget with little room for clothing and other extra purchases, I am typically inclined to select ways to earn money rather than spend it.",
          "i have a lot of t shirts and i do not really need any more.  therefore, i am not willing to spend much for one.  taking a cash bon us is more practical and easier.  i would buy one just to help the seller out.  i felt minimally more inclined to help those who shared my opinion.",
          "I have a lot of t shirts and probably wouldnâ€™t wear it. I picked a low amount so it would save people the trouble of shipping something to me",
          "I would pay more to increase the seller profit for the ones that would donate without any monetary benefit expectation as their reason would not only be for expectation of increased sales.",
          "I assumed how much the t shirt was worth so depending on that I either chose the t shirt or a bonus more than the t shirt. I assumed the t shirt was worth around $15",
          "I chose based on how much I wanted the particular shirt. And with the values I agreed with that were selected based on genuine belief I am willing to pay slightly more. The one that did it only for marker points I am willing to pay slightly less than the one that is neutral. I like the shirt and some of the colors are cute but I know nothing about it and the bonus payment in most cases would be more helpful. But I did try to be truthful on how much I might be willing to spend. Although I think I overestimated my genuine feelings because plain tshirts I'm not willing to spend much on ",
          "In all honestly, I'm saving up for a family vacation and could really use the money.",
          "Honestly, I simply thought to myself how much would I be willing to pay for a plain old t shirt. I wouldn't pay more than $10 because I'm not into them that much anyways. They look too boxy on me. I started to make my answers exactly the same, because at the end of the day, when we're purchasing items, we don't usually know anything about the seller. So, it should only matter whether or not I wanted to buy the tshirt at that price. However, I couldn't help but have a picture come to my mind about a sleazy salesman trying to push some snake oil on me. That type of dishonesty is something I can't support. Therefore, I made my price lower the second time. ",
          "I'm not willing to pay a lot for a basic t-shirt so my choices were pretty low. I was willing to pay slightly more for those who had similar values as me but still not much. I did go slightly lower for the seller who was told their choice to disclose their stance would have an impact as I figured a few would have ulterior motives. However, I didn't want to punish them too much in case they were genuine.",
          "The value of the shirt plus the donation. I really wish the donation was a percentage instead of a set dollar amount. I would have paid more. ",
          "Honestly do not like plain T shirts at all and chose to pay zero for all regardless of seller. Therefore, when I was presented with either the opportunity for a cash payment or said T shirt I chose the payment in all instances as I place more value on that then any sales for a T Shirt regardless of their message or views.",
          "I am willing to pay the extra 2 dollars so the vendor gets his full sale. I appreciate what they are doing and would be willing to cover the losses.",
          null
         ],
         "marker": {
          "color": "#CFD8DC",
          "colorbar": {
           "title": {
            "text": ""
           }
          },
          "opacity": 0.5,
          "showscale": false,
          "size": 5
         },
         "mode": "markers+text",
         "name": "other",
         "showlegend": false,
         "type": "scattergl",
         "x": {
          "bdata": "IkPGQMwo3EACw7tAqsreQFnmTEB/2cxA2cfzQLlG1UAPnPBAlb8HQW/DL0BLNiVAz+5MQKGnAkHGo8xAzW0FQR5SDEF88UVAkCojQEIp0EAmq+hAcODpQFnR6kBywvVA4VLNQOIl90AxTA9Bq8TGQCGc20BVXylA0IVJQI0JSUBbjfVAPvv1QAArR0ALh59AHDsIQW7mAEAFsQVBLE5TQICsBUEe7aRAkabLQGnH3UCxiW9AMVPKQGHaCkEP+8pAc2VVQHcmMECCBPZAakBFQMa4xkAmcflAoWxMQMng20ASh3lAgegDQeXACkHjzvJAGzgjQCUyW0CZITBA7sn0QASN0ECMfrFAPtaPQM+080DFQ3pAtJJnQGBC90DS3txAdZcJQZZO1UAm5JFA3Q4DQbMv90DNditA7OjBQJBOMUD4GclANNn1QBQx00DEDA1BE2L0QFunGkDt6ypA6SoHQd1yAUGawQpBseQJQcD0BECM9QFBY6XzQMzlRkA7EfZAn19AQLesUUDUkiNAzHNgQNatDUAEJw1BvuwJQX579kATpfhAXtbEQONJCEFvSjRAwPoFQax0DUEySQ5BAn5LQNJc7ECLJNRAaDgSQRgI9EDu6dRA29zmQCXvCkGBG3FAu3vBQA==",
          "dtype": "f4"
         },
         "y": {
          "bdata": "biDdQCpIFEFc6bxAVmAVQWaO30ArXMNA92O+QG5QoEDo/v1AqMbHQKpW4ECc7eZA0DvfQHrN2UBZM7VAHXPOQPmM0kB3J95A47TDQBs8vUCGY8tA/qfLQMsosECWqHxAdFyjQFV1ekD8PNlARLO5QIroxED3mPxA6EviQOCx20BGCX5ALKR8QO9d40CAJgJBvO3QQK2U9kBCkdpAJ2/hQNVe3UBpFZZAN0utQA+4zUCeTt9AEhCsQGnXxEDQ6ANBZDmZQHTk/kBYb35AiM3eQIawu0CZIaxA3q/hQEw3pkBrn+dAK6LOQDG1xUAffa9AxM3EQGrk4UAkJeBACwh/QCKUv0BY9YFAa1G7QO0Ww0Cy6dFAP/LjQLjYtUA2cxVBKuTKQA2Zw0DfKgxB1ULPQJmFeUC17dpA9uTHQJxe1UDkg7VAuuN8QF5tuEDAmcxA95F8QFUPxkAZmuJAEazEQGo+AEGQj8RA7tzIQJP0/UDUPPxA3bjCQPuK40CnJntAvKjoQEV54ED3nL5AmRvjQJOhAkGmotBAHWfKQMK1ekC2VoBAHGq6QL2AxkCZAtdADtHdQE9000CMYc1AbU3gQEI37EBOyOxAOn/nQKw1wkC/y59AZAfKQJ+e1ECpoOlAPvzKQA==",
          "dtype": "f4"
         }
        },
        {
         "hoverinfo": "text",
         "hovertext": [
          "I was willing to pay more for the shirts that supported racial justice. ",
          "T-shirt is not more important than fighting climate change ",
          "I think many people honestly hold traditional values. However, there has been such a strong push to change our values to be \"inclusive\" of nearly everything under the sun lately. I think many would say whatever they felt \"politically correct\" in order to generate sales and increase income even if it wasn't what they honestly felt. Many follow and few actually lead in our current times.",
          "Most t-shirts don't fir me right so I'd usually prefer cash. I prefer helping those contributing to racial justice issues.",
          "I was trying to consider what would affect someone more between the 2 choices and how they would react to them. Christian initiatives are very niche and do not connect with all. Where as fighting climate change  is more appealing to all.",
          "I chose 2% for the first because that was what was shown to me.\nI chose a high number for the faith based because I think faith based people enjoy making a public show of their alleged faith in order to sell things to other hypocritical faith based consumers.",
          "I have a lot of shirts so I really dont want another one. But I was willing to buy a shirt from a seller that have similar beliefs. So if the seller fights climate change, I would be more likely to support.",
          "In todays world, people don't want to know about God or Christianity.  They are more concerned of the climate and what is currently happening.",
          "I think most people are concerned about our planet. I am not saying all, but most. Meaning if they can do SOMETHING to help out our planet then they would. I am not so sure about the faith one because our country was founded on faith and even though faith is still strong, its not as strong as it once was. ",
          "Traditional values I would think would have a higher ranking because not all people are within the Christian faith.",
          "Christians are generally known for being a generous faith and not so concerned with profits ",
          "I can't really afford to give money to fight climate change, I do it in other ways such as minimizing the need for driving my car, eating less meat, recycling....",
          "I think there is less interest in Faith in Public Life as there is in Climate Change. I do think that there are many who are concerned with Faith but not on the same scale. ",
          "If i'm being honest, a plain t-shirt is not very valuable to me.  However, if I needed to purchase this t-shirt for a reason, I would generally be willing to pick the lowest price.  If a company expressed support for racial justice ahead of time, I would be willing to pay a few extra dollars.  But to only announce your support after you realize you could make an extra dollar by supporting a cause is a little suspect.  I would feel like you are only giving lip service and therefore not as interested in buying your product.",
          "I need money to afford to live (rent, food, utilities, etc.) more than I need a t-shirt. If my financial situation was less precarious I would be more willing to forgo cash to support a seller who is supporting racial justice. ",
          "I think it's likely that more sellers will list climate change as their top concern because it is a more talked-about issue. I also think that sellers would be aware that more buyers would feel that way as well, so they would be more likely to say it if they know it will impact sales.",
          "I don't feel people's faith is as strong as their belief in more liberal beliefs these days.",
          "General thinking is fighting climate change is the more trendy belief people would go with compared to Right to privacy which is why I skewed down on those numbers slightly.",
          "I didn't see any seller mentioning them supporting traditional values.",
          "Traditional values is very much a political football, so even sellers who see traditional values as a threat may openly back it to gain a larger share of the market. Climate change is different imo as it affects everyone and is not touted in the same way as right-wing support for values ",
          "It doesn't seem to be as many professing Christians as compared to those of the LGBTQ+ community. ",
          "The faith and family folks are a fringe subset of our population and I feel like many sales would be lost due to lack of interest in the general population.",
          "Given my support for climate change initiatives, I considered whether the T-shirt was produced sustainably and if purchasing it aligned with my values regarding environmental responsibility.",
          "My thought process was just based on their willingness to fight for climate change, but how much that willingness was based off of just wanting more money or actually caring about the issue. ",
          "I have a lot of t-shirts already, so really don't care about buying another. However, the company supporting traditional values deserves a sale to a point. Money is tight for me so the thought of getting a monetary bonus is very appealing. The climate  activists are radical and desrve no support from me.",
          "I believe more people are supporting fighting climate change and not supporting God. ",
          "just how much I was willing to pay a bit more if they supported racial justice and how much of the bonus I was willing to not have.",
          "I have absolutely NO idea. I feel more places are about faith than they are about racial justice. I have no clue, I just did my best. I feel more people would say they are about something if they think it'll increase their profits ",
          "I feel like maybe half of the population agree that God should be mentioned back in schools, possibly less than half actually.\nAs for the climate change, I feel many are concerned about this for the future of their children and children's children.  ",
          "Racial justice is something that most people want, even people who aren't of color, so more people would be willing to purchase a shirt relating to it. \"Traditional values\" are usually racist, homophobic and misogynist, and most people are not on board with that because we're moving beyond that as a country. So, I don't feel a lot of people would pay for a t-shirt relating to that.",
          "I don;t mind spending money on projects that align with my beliefs. It's sometimes hard to tell who is just telling you what you want to hear. I have to go with my gut or intuition. I looked at the t-shirt as donation.",
          "Personally I feel that those committed to climate change would be more likely to support the cause, with or without knowledge of the chance to sell the T shirts as compared to the other group.",
          "i need to support sellers who support family values because it effects us all. climate change is not proven.",
          "I want to be part of a larger group of people to help fight climate change. I want the sellers to be able to use their power to help with this, maybe be able to talk with, and explain to others what the future may hold for our children and grandchildren.",
          "The climate change I agree with, the one on faith I have no interest in supporting.",
          "Traditionally values is not that big a selling point, but Racial justice is 100% a marketing tactic.",
          "I think society is more likely to support LGBTQ rights than faith because it's such a big issue right now. And people want to be put in a bad light.",
          "I think climate change is an issue more people/sellers care about",
          "I value sincerity highly, so I wasn't interested in paying for the shirt from the seller who claimed they supported traditional values after learning about their earning incentives. The value I placed on the shirt for the other two scenarios was pretty low simply because I don't want a shirt too badly, but I was willing to at least give the chance to support sincere people a little bit",
          "People who are trying to \"uphold traditional values\" tend to be along the conservative side (in America) and that side of politics has recently shown a higher tendency toward using capitalism to further their ideologies. Conversely helping climate changes tends to put an emphasis on less waste which would mean creating less goods that could end up in a landfill, if they are ACTUALLY trying to help climate change. The companies that are only looking for a sale opportunity probably care much less about where their t-shirt ends up. ",
          "im able to buy tshirts in my local area for $3, so iâ€™d rather get a bonus than the tshirt. i was willing to pay $2 for a shirt if the seller supported racial justice",
          "I'm not necessarily interested in getting a new t-shirt, so I would prefer the money. However, knowing the seller supports racial equity makes me more likely to support.",
          "I am willing to pay a little more for sellers who support fighting climate change, however in my opinion, paying more than $40 for a T-shirt seems ridiculous ",
          "point is that I really believe in combating climate change and will assist in doing so when needed. ",
          "I was willing to pay what I viewed as a reasonable 'base' amount for the T-shirt without them promoting gender equality. However, if they were to endorse gender equality that influenced my decision to pay more money. \n\nIn considering for my willingness to pay for the T-shirt, I am assuming the material is high-quality, cotton or polyester, made in the United States (instead of outsourced to sweat shops in a 3rd world country), free shipping included, and quick turn-around of less than a week shipping from date of order.",
          "Understanding that a lot of these companies that have social issues immersed in their company are more about the issue than the textiles. Sometimes the textiles are used as advertisement or an ability to have those who believe in the cause have a symbol of solidarity or symbolic holding for pursuing the cause.",
          "I think sellers would jump on supporting christian values because its a hot topic. Often used the wrong way to push a personal issue.",
          "I think gun rights are more acceptable as a need. The country is probably split in half about guns. Climate change I believe is not something that half the country believes in, so that's why the numbers are lower in my estimate. Guns are also talked about much more on the news than climate change is.",
          "I feel like people who are for upholding traditional values are more likely to admit it if they feel like it will positively influence them, because they tend to have very strong beliefs. People who support climate change are a smaller group, and while they have some people that are strongly in favor of climate change, it is not something that people are willing to claim if they don't truly care about it. That's why I chose a smaller percentage of people who would claim to favor climate change if they thought it would have a positive outcome for them.",
          "I would not necessarily spend more on a tee shirt sold by someone simply saying they support fighting climate change without knowing specifically how they intended to do that. I would definitely not support someone promoting faith in public life because the fact that they would do that would mean it was a company whose values I would not share and I would not want them to get my money.",
          "I decided based on the shirt and their opinions about racial justice and Christianity being more involved. I was more favorable towards sellers who agreed with my views on racial justice.",
          "It really came down to how much I would want to pay for a t-shirt. Although we agree about climate change, I donate to that cause in my own way so I didn't factor that in. ",
          "I don't want a crummy t-shirt. Also, there's some irony to the idea of a seller spending resources on the manufacturing and shipping of a t-shirt to fight climate change. I would rather just donate money directly to the cause, without having a portion of my donation subtracted to pay for the creation of these t-shirts.",
          "I would most likely to stick to their values with gun rights but climate change criers are just jumping on the latest social craze and most would take advantage for the $",
          "having faith in public life is not a popular political issue but environmental issues like climate change is a more popular political issue",
          "The belief of the sellers did not matter to me when deciding how much I was willing to pay for the shirt. This is because I purchase things based off of the perceived value of the shirt, not the seller. If I wanted to support a cause I value, I would donate to it directly.",
          "I think people on issues not involved in faith are much more open without considering the financial issues.",
          "I was willing to pay more for the shirts that involved racial justice than I was for the shirts that were involved with faith",
          "People today know that race baiting is very profitable and would jump on any bandwagon that sees big profits.",
          "I think more people are jumping on board the climate change train and would probably think it would be a good way to cash in. Therefore I gave them a higher percentage.",
          "I think people think more about religion than gender equality.  So, I picked a higher percentage based on that, especially after they knew it could help them sell more t-shirts.",
          "I was willing to pay more for the T-shirt from the company that stated they support racial justice BEFORE being told they may sell more products. I try and support companies that have held similar values to mine for a long time, not just because they become aware that supporting justice will increase sales in customers who shop based on company values.",
          " I think that the scenarios are quite different as to how people see the subject on the T-shirt  I think the climate change t-shirt would cause more anxiety with some people and might cause negative interaction and the faith based t-shirt would have a more calming affect on people.",
          "the process when deciding how much you were willing to pay sellers in different scenarios was mainly the willingness to support racial justice or the willingness to endorse it whether know it will bring them profit or not at least they did allow it and that alone is enough ",
          "christainity is important to a lot of people as well as climate change I feel the younger gen go for climate more than christainity..   so it is a great way to hit both markets",
          "I was willing to pay more for sellers who supported racial justice without knowing about the opportunity for increased sales. I believe that these people genuinely support the values I believe.\n\nI did not want to pay as much for those who only supported racial justice when they perceived a benefit for themselves. They may be people who would just as easily sell white supremacist T-shirts at a White Power rally.\n\nThe people who were unaware of any cause and opportunity to increase sales would receive what I thought was a reasonable price for a T-shirt.",
          "I was thinking about what the seller might do to sell tee shirts, then thought perhaps they believed in something and it was against what they believed in so I chose low percentages. That they just wanted to sell tee shirts to anybody, and not have a certain group.",
          "I think that, at least in the public consensus, racial justice is a much more enjoyed cause than upholding traditional values.",
          "I want to support individuals who are fighting for climate change, since I believe that is a great thing to fight for.  I care more about supporting a cause that means so much to me.",
          "I support businesses that fight climate change and donâ€™t support businesses that support theocracy ",
          " Upholding traditional values I believe is not a priority or important to people as of today. The world is constantly changing with people having different views on issues. People are allowed to chose whatever makes them happy and seen as long as its not illegal.",
          "For the first seller, when I didn't know their views, my willingness to pay was based on the product more than anything, tending to the higher side because I knew that the seller would also benefit form the higher price. With the seller who supported Racial Justice without knowing the selling benefits, I feel like they truly believe in the cause, so I was willing to pay them a higher price. However, for the seller who supported Racial Justice after knowing the benefits, I feel like their support isn't authentic, so I'm much less willing to give them money. I feel like this individual is exploiting the cause of Racial Justice for their own financial gains, and I feel that this is morally wrong.",
          "I think that in society right now racial justice is more understandable than forcing someone to follow anotherâ€™s religious beliefs.",
          "It doesn't change much, if any, for me. I have plenty of shirts, but I am very money poor and have lots of bills to pay to have a roof over my head. But if I was going to endorse one it would definitely help if they too believe in supporting climate change issues. As for public support of Christianity, I believe we must all retain our individual beliefs and not impose on others. ",
          "I believe that a large percentage would want to support measures fighting climate change either because they think it would sell more t-shirts or would personally like to support the cause themselves, or both. Iâ€™m willing to pay a small bit more for those I perceive as contributing more to society.",
          "If the seller wanted to contribute to climate change out of their own unmotivated generosity I would be more willing to buy their T-Shirt.",
          "I am more willing to support a company that holds the same values as me. So if I see a company that supports racial justice I would be more willing to buy from them than from another competitor. However in the case where the seller supported racial justice AFTER someone told them they can sell more shirts that way that is not genuine and I cannot be sure that company holds the same values that I do. ",
          "I think there would be more receptiveness to fighting climate change than to invoke a religious cause. The vendors are doing this to make money, and bringing religion into the business severely limits their market, but it's different when it comes to the environment.",
          "If I know some of the money is also going to support the fight against climate change I am more willing to part with it.",
          "Two out of three sellers would most likely have chose something other than climate change is why I made my choice of answers",
          "The sellers beliefs didn't have a impact on my choices. I simply selected how much I would be willing to pay for a plain T-shirt.",
          "If I believed they actually supported taking action to combat climate change I was more willing to pay more for the shirt in the hope that some of that money would be used to fight climate change.  If someone was not being truthful in their answer (ie, the third example where the seller only made their position known after being told the information they were told), I would not pay as much since they were probably being dishonest about the claim that they cared about fighting climate change.",
          "I think that everyone is at least on some level aware of climate change and how important it is and even if they donâ€™t agree with it, they can acknowledge that if they put in a donation for the cause, itâ€™ll increase their sales. However, with gun rights, I believe that only very specific brands support gun rights and even then, I donâ€™t really think that they would do much funding for it. And knowing that thereâ€™s a chance for sales, people might be inclined to buy less if itâ€™s supporting gun rights. ",
          "Climate change is supported by more natural people.  Gun right are supported by rich people",
          "Racial justice is a hot topic in the current day.  Most companies are pushing a narrative that diversity is a strength for our nation.",
          "I am extremely poor financially, but have plenty of shirts. Also, being poor limits what I can donate to help climate change, though I do what I can otherwise.",
          "I thought basically that a plain Tshirt was not appealing to me. I did think that those that were pro racial justice. I respected I chose slightly higher but I was not impressed with the shirts.",
          "Those who support fighting climate change likely seems lower than those wanting to uphold traditional values. But companies would claim to support them if sales were meant due to capitalism. ",
          "The first was the hope that both the individual who actually supported the fight against climate change might invest some of that extra money into the funds to fit it. It was the same hope for the opportunist as well, but he'd receive less from me on the basis of not fully trusting his sincerity or the odds he'd invest it selflessly. As for the Faith in Public life, I feel that area is already rife with the grifting sort, out to bang the drum of protecting faith in public life, but in actuality are simply looking to line their pockets with the money of zealous fools",
          null
         ],
         "marker": {
          "colorbar": {
           "title": {
            "text": ""
           }
          },
          "opacity": 0.5,
          "showscale": false,
          "size": 5
         },
         "mode": "markers+text",
         "name": "0_climate_change_justice",
         "text": [
          "",
          "",
          "",
          "",
          "",
          "",
          "",
          "",
          "",
          "",
          "",
          "",
          "",
          "",
          "",
          "",
          "",
          "",
          "",
          "",
          "",
          "",
          "",
          "",
          "",
          "",
          "",
          "",
          "",
          "",
          "",
          "",
          "",
          "",
          "",
          "",
          "",
          "",
          "",
          "",
          "",
          "",
          "",
          "",
          "",
          "",
          "",
          "",
          "",
          "",
          "",
          "",
          "",
          "",
          "",
          "",
          "",
          "",
          "",
          "",
          "",
          "",
          "",
          "",
          "",
          "",
          "",
          "",
          "",
          "",
          "",
          "",
          "",
          "",
          "",
          "",
          "",
          "",
          "",
          "",
          "",
          "",
          "",
          "",
          "",
          "",
          "",
          "",
          "",
          "0_climate_change_justice"
         ],
         "textfont": {
          "size": 12
         },
         "type": "scattergl",
         "x": {
          "bdata": "ZZuOQIylsEC5eHVAku6RQHeWoUCXgZlA1FyyQO7Gi0Af4YxAZWdtQPBbe0B3XadAea+IQJLbjEDcx4xAXf+cQF/SgkDXWo1AVr2RQKvRmUCdPoBA08pyQDLIukDqraJAhGu8QFADjUA1t9RAXgaFQJt2i0DIiopACpLEQCDrq0AERp5AxNimQJEQo0C01oFA0sV4QOsunUCCY7tALsCqQKCjj0C4nY5AJdS3QF3PpUDtt8ZAHpy9QOhIcUBfAINAVtSWQO0/rUB9m5hANIDEQO2js0CHU5JAcF6KQI1cvkAhF3tAMwOQQJdTgkC9dZZAZsOZQF+9iUAvAK5AiOSDQK2lmkAtnoZA/C67QFqNfkBduqZAMPufQD+VckC0rYVAuHJ4QHcdrkAsaKVA2meyQNC2g0AGtKNAv1alQGEpnUCr8b5AECu0QOjAk0CBxpFAQbSBQAZhs0CLRpZAREWaQPfkpUAmY5pA",
          "dtype": "f4"
         },
         "y": {
          "bdata": "MtmyQDwjfkB+XJ1AoKOuQNQQckAdppdAypp/QEwbe0CAuXVAzbOZQJQsjkA0rGpAh2l8QGDFr0CT+K9AT+J5QHrjhEBpmXZAXVqQQPN6gEDyLIlAgY+UQIRFjEAq8WlA+uqGQPsPeECwWg1BGA6vQAyWdkDL061A4gaaQIZ5dkALNnxA78V/QBGHakBrDq1AJNmJQPfNe0Bw8bFASGaBQP1PsUCoz65AziSEQNl1aUBf/6lA+HWSQON1l0CkRGxAOsZ9QLEse0C+zrdA/LKhQGuTf0DAAGlACjN4QJv4rkAEkotADNCyQLk+r0CpvH5AACyWQLMfs0A5dHpAOaW6QPsBekAuU7ZAgZmpQDLSpUAJUmhAh5p6QLYZm0CI77hAK+yeQAukfUA3TmxAD4+BQO4FskB5KnVAZeJlQHBBfkATl65AdauDQJ4QaUAWs2lAXhiuQCuRgEDbrbZAcDR3QJp5ZkCwWZFA",
          "dtype": "f4"
         }
        },
        {
         "hoverinfo": "text",
         "hovertext": [
          "I solely focus on the product I am purchasing and not who is selling it to me. A sellers stance on social issues has no bearing to my decision making. In other words, I just want a product at the best possible price won't pay more just because someone's beliefs align with mine. When evaluating the scenarios, I viewed each transaction as a business transaction, and not as a way to support someone who shares my beliefs.",
          "I prefer to help and support the business of a seller who mostly aligns with my ideology but all the same I would support a seller with different ideologies and interest to mine if their product is good. But I would like to support the ones who have same or similar interest and ideology to mine on most occasions.",
          "I would buy from sellers who supported causes that I agreed with.  I wouldn't buy from sellers who supported causes that I don't agree with. ",
          "I would be willing to pay a small percentage more knowing a company supports, especially if they donate towards a cause that is important to me.",
          "I don't necessarily base my purchasing decisions on whether the seller has the same values. Obviously if they support something offensive to me and I'm aware of it I will not purchase from them, but most of the time that's not a factor when buying from independent sellers.",
          "I felt then people find out then they are less likely to support",
          "I was thinking of the cause behind it and thinking of how willing people would be towards that ",
          "I want to be sure I know my money is going towards someone who will value it or put it towards good causes, otherwise I don't think I can support said sellers since they may use that money for things I don't agree with.",
          "I was willing to give a few more dollars to a organization that aligns with my view points. Bur within reason, I will not pay 40 for a shirt for example",
          "It depends on what/if any political associations they have",
          "I would be willing to spend slightly more on a product if the product supports a cause that is important to me. I also believe that sellers will seize an opportunity to gain sales by supporting certain points of view.",
          "I think that if someone was going to donate money to a cause that I care about, then I would likely buy from them even at a higher price.  I feel like I am telling the company that I support them.",
          "I would like to purchase from sellers who I have some shared believes with and also I would like to support the business of the people I strongly share same value with.",
          "I thought about their motivation for supporting the value.  If they were more genuine and didn't know they could benefit I felt I could pay more.",
          "I believe they'd care a lot more after seeing the business opportunities ",
          "because of what they were supporting and willing to donate to the cause.",
          "Their believes shows who they are and what they could do if given an opportunity",
          "I found the willing to pay a bit confusing. If they were willing to donate out of their own profit in support of a Value I would be willing to pay more. ",
          "I didn't change the amount I was willing to pay based on the scenario where people expressed support after the fact simply because people will say lots of stuff when money is involved. With that said I increased the amount I was willing to pay slightly to those who expressed support before the fact because do feel like it is important to support people who share this value. Ultimately though it doesn't change the way I value a sellers product very much by learning that they also believe in being decent humans as that shouldn't be an issue in the first place. ",
          "I would much rather support a company that is straightforward and honest about their reason for donating to a certain calls or just their morals in general. I would be willing to pay a lot less for a product from a company that I knew was only supporting a good cause for self motivated ",
          "I feel like if they know it will be public and they think the cause will be supported by people, they may partake as it gives people a sense of social responsibility and goodwill by purchasing. People may also be more willing to pay a higher price. ",
          "I reasoned that they were willing to support the course of some values and willing to do something for that course.",
          "i would always give more to a company that is aligned with my views",
          "If a company openly expresses its stance or political values on things, I am willing to sacrifice a few dollars as long as it's being contributed toward something I stand for or agree with. In cases where values are just not something I agree with, I would only purchase if it was something I wanted/needed, but wouldn't think twice about paying more for it to go toward their cause .",
          "I liked the opportunities to have money donated to a cause that is important to me.",
          "I'd pay more for someone whose values align with mine, as we need all the supporters we can get and I want to encourage them. ",
          "I'm a very poor person so I'm not willing or able to pay more for something just because I believe in a cause. Some of us are just trying to survive ",
          "I chose to support the people who support the same causes as I do, especially if they do it in a genuine way. For example, the seller who supported LGBTQ+ equality in a genuine way made me want to give them a somewhat larger amount of money compared to those who did not support the LGBTQ+ or only supported them because they would get more money out of it.",
          "I see my benefit first, then I see if I can contribute to the cause I care about.",
          "It means more to me if the company is doing something ethically correct for reasons that match the company's values. Simply hooking yourself to a cause for an ad campaign is kind of sleazy, even if it does provide some benefit. They can also cause harm...",
          "I would be willing to pay close to the same amount based on if its a good cause or not.",
          "I would like to think most sellers would not care so much about what they support would matter in making profit therfore being a good company. But I feel most people in business have a very straight forward thinking of \" how can I make the most money?\" So I feel by them promoting their values, in their mind if it aligns with most of society, so will the money coming in. ",
          "I thought about how they would affiliate in their personal lives. I thought about whether they might've been liberal or conservative personally, and whether they seemed like the type to support/oppose these issues.",
          "I would rather give more money to the people supporting the causes I support as opposed to ones I'm not interested in. ",
          "Like myself I do not most peoples political beliefs affect to a great degree their business dealings.  Maybe I am being hopeful.  I hope not.",
          "If a percentage of my purchase was going to a cause I believe in, I'd be willing to pay a little more for that item.",
          "It's just natural to side with people with similar views as you. Same reason you speak about things you have in common when on a first date.",
          "I don't make that much money right now so I don't care that much about donating to charities unless I know exactly what kind of organization they are. I didn't get that information, so I would rather receive as much money as possible.",
          "I feel that a low percent of the sellers would get involved with political statements so I guessed at the lower end of the spectrum however I wasn't certain either way.",
          "My whole thought was to appreciate them within my reach; for supporting a good cause.",
          "The sellers are independent of me and their views do not impact my decisions. I do not buy to make the sellers money and I am not influenced by political views when making my purchases (e.g., should I buy Chick-fil-A, listen to an influencer, or buy a product advertised on CNN or Fox News).",
          "Sellers with Faith in Public beliefs hold better values over all and are more trustworthy",
          "I feel it is human nature to lean support towards who share you beliefs and values.",
          "if a seller is supporting issues i agree with i a more likely to pay more money to support that business. ",
          "I am more likely to support someone who has nothing to gain and is just generally a good person rather than someone who broadcasts their \"views\" because they are after money. The price point was more dependent on how much a I wanted a shirt over just the bonus payment. ",
          "Anyone of faith, who is willing to donate part of their earnings, is someone I support and seems selfless within their actions, and who I would support.",
          "I would have to know more if I met them in person and learned more about who they are and what they represent.",
          "When it comes to making purchases, my base-line expectation is political neutrality. I may be slightly more likely to purchase something from someone who shares my values, but it really don't tip the scales that much for me. I wouldn't pay much more than I would otherwise. On the other hand, I would not support a retailer who loudly endorses values I do not hold. There are too many other options available. And I would rather pay more to a neutral seller than less to a company who loudly endorses opinions I disagree with.",
          "When I buy products, I generally think about how useful the product is to me, it's build quality, if i need it in the first place etc.  It's a very pragmatic purchase for me.  That is my first consideration.  Generally, I would buy the product and pay a slightly higher price to a seller that is supportive to org's that I would support.  I would in turn pay a slightly higher price to a seller that supports a cause having been informed of the cause later in the process, although it does not make that much difference to me personally.",
          "My reasoning was based off of shipping costs and costs of materials as well as willingness to spend based of majority demographic of the typical person to support each cause",
          "I would want to support someone with the same beliefs who is willing to be outspoken",
          "In some of the scenarios the person knew about the opportunity ahead of time and it was mentioned they may be driven to support the cause just to get sales. Which necessarily wouldn't be a bad thing but you want them to continue the support even after the market. Therefore I was willing to pay more to those who didn't know about the market and the possible rise in sales which made me feel they were more genuine in their reason for supporting the cause. ",
          "I thought that any time a company thinks they can earn more by supporting a cause, they will most likely support the cause because they may benefit financially from it. ",
          "I feel that people may be willing to give more if they are in support of what the majority of people support and believe in.",
          "It didn't matter to me what the sellers supported; I don't trust donations on purchases. I would rather donate directly to the organizations ",
          "The values of the company had little effect on my decision, nor do I think a monetary donation is the ideal way to achieve them. My decision was almost entirely practical.",
          "I chose in the manner I did because most people when knowing something is related to a cause will want to participate. Even if they don't really care for the cause. They fear being ostracized and have a need to be politically correct or go with the flow of the majority. Sad behavior but that's the \"New\" people.. ",
          "My only willingness to pay is only to help out a small business,if they are a small business",
          "I believe it's worth it to pay a couple dollars extra to support a company that is trying to do good things in the world. It's respectable to advocate for groups that can't always advocate for themselves and need extra support, so I feel it's worth it to spend extra. As far as the company that didn't donate to the cause until they knew that it was going to benefit them, that's not cool. So that's why I chose that I would spend less with that particular company, because it's really only about their bottom dollar instead of about the people. I like to sort companies that are about the people",
          "In general I am more supportive of a company that will promote the causes to which I myself am devoted. However I do not see much value or integrity in connecting social conscience with capitalist enterprise.",
          "I don't believe they would donate unless they were getting higher sales to cover the cost of donations. ",
          "I really didn't consider whether they knew or supported the same causes as myself. I just thought about my desire for the t-shirt vs cash.",
          "I am willing to pay more for an item if it goes to support an organization that I believe in. I'm not willing to support something that I really hate and that has messed up our country.",
          "I felt that it didn't matter to me too much about whether they support the scenarios or not.  I am there to do business and I don't really care what they support in general.  I'm not there to buy their support, I'm there to buy their product.  I like their product regardless.  If they support a cause I like, good.  Maybe I'll come more often but most likely it won't affect anything because it's a product I'm buying for, not their causes. ",
          "I would pay more to show support for something I value, but not much more.  And vice versa.",
          "if a company thought that could profit if they donated to something they would donate",
          "If they were willing to give $2 towards the cause, I was willing to pay $2 more. ",
          "I wanted to support creators who shared similar values to myself and would give them more money if they did.",
          "I felt a sense of satisfaction in supporting companies that contribute to social causes.Also ,I prefer to support businesses that align with their personal values and beliefs.",
          "I'm willing to pay a little more to sellers who support things that I support when their backing is real. If I believe their support is only to sell more product I may still buy from them but my decision will be based solely on how the price compares to the open market.",
          "I do not want to support people with views that I feel are not constitutional and good for all.",
          "the donation to my favored cause mage me willing to support the donation ",
          "They support something I support,  why not chip in 2 dollars as well",
          "I am a community support person, so I am willing to support my neighbors, however, this goes against my views. ",
          "Because I choose that to show support to their company or makers so they can produce more and kick start a large business",
          "I always want to support small business owners and I understand the importance of freedom of speech ",
          "As both causes are controversial to both ends of the political spectrum, some sellers will be cautious to show outward support. Money is always a driving factor, so knowing there will be better profits will generally have sellers easing up on their caution for support. Only sellers who are truly passionate about a cause will show support without knowing the market demands it, and I'd prefer to support the sellers I agree with because their views and purpose are genuine.",
          "Based on what they support im willing to give more to causes i believe in",
          "Charities are near and dear to me because they have helped me and my family get through plenty of rough times from when I was a child to even now as an adult. ",
          null
         ],
         "marker": {
          "colorbar": {
           "title": {
            "text": ""
           }
          },
          "opacity": 0.5,
          "showscale": false,
          "size": 5
         },
         "mode": "markers+text",
         "name": "1_company_support_business",
         "text": [
          "",
          "",
          "",
          "",
          "",
          "",
          "",
          "",
          "",
          "",
          "",
          "",
          "",
          "",
          "",
          "",
          "",
          "",
          "",
          "",
          "",
          "",
          "",
          "",
          "",
          "",
          "",
          "",
          "",
          "",
          "",
          "",
          "",
          "",
          "",
          "",
          "",
          "",
          "",
          "",
          "",
          "",
          "",
          "",
          "",
          "",
          "",
          "",
          "",
          "",
          "",
          "",
          "",
          "",
          "",
          "",
          "",
          "",
          "",
          "",
          "",
          "",
          "",
          "",
          "",
          "",
          "",
          "",
          "",
          "",
          "",
          "",
          "",
          "",
          "",
          "",
          "",
          "",
          "",
          "1_company_support_business"
         ],
         "textfont": {
          "size": 12
         },
         "type": "scattergl",
         "x": {
          "bdata": "dKlEQLTRVECOQUVAx2YMQGQxT0AttCZAP4UNQPl5VkCY2tJA4UR2QCVxIEBo4xRATs5XQHE0JECuO0lAFwwRQCZBA0DGBTxALX80QJiUE0CjxUJAiTQLQMN5CkALshdAsPD7P3K8JEBrSA9A/ZUWQDfjIkBXnxNAxOosQEMuV0BSsQtA7EUNQJGPSUBm+xNABb/3P1JhIkAT+3pACQkOQJIOSUBSsVhAxEL4P7QyV0CiBihAFrwMQERKBUCTOEhAUU0wQPWoR0CrQPQ/JMwxQIv8FkB0VRBAamMjQGtgCEDXMAtADtMrQLjFCUB2UgdA+3U8QP/sDUD/yhFAvS4mQGl6JECKZh5AloIrQLQP/T+G4gBAC4JUQAiB9D/+0hRAn28TQObZ+D/qCwNAVc5GQMYlS0BpUQpA/24KQAjPJ0A=",
          "dtype": "f4"
         },
         "y": {
          "bdata": "M0XEQNtzzUCEP8tA787MQJX/x0Cl7u1AxH/6QM6szkCKEblAA93OQKvXz0BTC8xAQsbOQFAW7EDYKsFAZwTuQOcR8kD6bd5A84PsQLsdyUAY5eJAeqX0QOjAykDVgMdAairIQCgT6UCpit9A+Hi1QOye8kA4t8VAxnXdQLe2wUDKnvJA9JTcQCu6wUBAJdxAWJ3zQEwX1UAUAtBA2WfuQCNmxUBRJcJAx37zQBII0ECtwOpAlFHaQCWE7UCyGsVAJ8PMQL8w0kA3N/FA0dTtQIhOx0A0W+FATffNQJkKykAwHfBADAbcQJamyUAGvMdA4AvcQGWx70B5Zd5AjiXEQEk86UAtUslALGXcQLzaxUCdnsZAJabPQH6h8EB1KNlACWDZQEE87kBMlsZAJn3GQDGPyEAixttAjm7RQDKP10A=",
          "dtype": "f4"
         }
        },
        {
         "hoverinfo": "text",
         "hovertext": [
          "I balanced how much I wanted the T shirt with how good the bonus money offer was.",
          "I don't need a t-shirt and I wouldn't take one from a random internet site without knowing the exact details of the company etc. so other than $0, the bonus money is always more valuable to me. \nThe seller's values or whatever don't matter to me at all.",
          "I do not really want the T-shirt so the only time I picked the T-shirt was when the bonus was $0",
          "Receiving a free t-shirt over a $0 bonus seemed the most beneficial category, with even minimal monetary bonuses being the second-best option. I calculated seller agreement of categories at 100% as ultimately sellers want to sell their product, and agreeing with common social norms is the logical stance for them to take.",
          "My reasoning/thought process when deciding how much I am willing to pay the sellers in the different scenarios is totally dependent upon the fact that the economy has crushed my finances and I am literally hungry in America trying to pay my bills in this inflation and now looming recession according to the news. Prices are up but my paycheck is not. I hold a PhD and manage a university library. You would think I make enough to buy staples like cream cheese but the last time I was at the store it was $7.99.  So when presented with an option to get a tee shirt or possibly get a bonus of $50, I selected the $50 because I am taking surveys to make extra money to feed my family. That was my reasoning/thought process when deciding how much I was willing to pay sellers in the different scenarios. Thank you.",
          "I'd prefer the bonus over a shirt, but am willing to forego a very small amount if it means supporting someone who shares my values",
          "I tried to balance the expected cost of the t-shirt along with my desire to get a nice bonus payment. I think I made good decisions.",
          "I prefer the cash bonus to having another t shirt. The price seemed to be close to what it would cost to order a t shirt online  or at a major retailer. ",
          "  I'm willing to pay for a good, quality t-shirt but at this point in my life I could use some extra money so once it hit $40, I would rather have the bonus in cash.",
          "I don't want a t-shirt so I'd rather have any amount of bonus payment. If the choice were between no payment and a t-shirt, I'd take the t-shirt.",
          "wasn't willing much, but i loved the idea of plain shirt and a bonus,",
          "I based it on how much I think the t-shirt would be worth. So, in the first 2 scenarios I decided 12 dollars is the rough value i'd give the shirt, Anything above I would prefer the bonus because it is worth more at that point. In the last scenario I did decide to buy the t-shirt at a higher amount just because the person selling seemed to genuinely care about the right to privacy principle.",
          "I have chosen the bonus payment for each row because I value monetary compensation over a T-shirt in this case. Currently, I am focused on earning and saving as much as possible to fund my college education, so finances take precedence. I am living in the moment.",
          "As a general rule where bonus was 0 of course i chose the shirt. otherwise there is zero bonus or item. after that i chose the bonus because i do not really need a shirt so from $2 upward I took the bonus",
          "I was willing to accept the t-shirt for any cost less than $4, but from $4 onward, I preferred the cash bonus. This is because I don't necessarily need any new t-shirts, and I don't want to engage in needless consumerism for the most part.",
          "It was mostly dependent on if I would prefer getting a good bonus payment or a free tshirt. The gender equality swayed my decision a little mad made me give up a little of the bonus.",
          "I wouldnâ€™t mind paying more but I could use the bonus more than anythjng ",
          "Looking at the bonus payments.",
          "I basically would always prefer the bonus money but I figured it would be cool to have a t shirt that I got as a prolific bonus payment because Ive never received an item as a bonus before. The sellers values had very little influence over my decision.",
          "I thought about what I would want. I will mostly prefer the bonus money to the t-shirt ",
          "Simply waying options between bonus payment and a t-shirt",
          "Pretty much any amount over $12, I would rather have a bonus payment because that affects my earnings.",
          "I would rather have bonus than t-shirt. It is more valuable to me. Also I rarely ever give donations or make purchases by what they give to someone or some cause. My purchases are made by need of item.",
          "What was important to me is how much of a bonus I would make in cash. When I'm looking at sellers, I don't pay attention to their values. I pay attention to how much the shirt cost. If given the chance to make cash in hand versus get something free, I more than likely will take the cash in hand.",
          "From my viewpoint, I am not a materialistic person and I would be willing of the shirt scenarios. I could have gone 50/50 on the decisions but decided on the greed for me to get the bonus. Which explains why there is not much change. ",
          "I would rather the bonus payment for majority of the choices because I rather donate to a specific organization to my choosing than to buy an item I won't use to help a cause. If I don't desire the item, I think it would be wasteful to pay a higher amount for it and receive the item than to just personally donate the funds I receive.",
          "tbh I just chose the shirt when I got a $0 payout and would've preferred the bonus all the other times ",
          " you will receive the bonus payment of randomly selected amount . for given amount money, you indicate that",
          "When determining the amount I was ready to offer the vendors in various situations, I took into account various considerations. Initially, I assessed the T-shirt's intrinsic worth by considering its quality, design, and any personal liking I may have towards it. I next thought about my financial limits and how much money I could comfortably allocate for a T-shirt without impacting my finances.\nThen, I considered the satisfaction or utility I would get from owning the T-shirt compared to getting the same amount of money as a bonus. This involved taking into account the extent to which I require or desire a new T-shirt in relation to how much the bonus payment could assist me in meeting other financial obligations or savings objectives.\nMoreover, I considered how my choice would affect the seller's profits. I aimed to provide fair support to the vendors, particularly those who were putting in effort to promote and sell the T-shirts. So, I attempted to find a fair price that would sufficiently compensate the seller for their efforts, while also considering my willingness to pay.\nFinally, I took into account the anonymity of the process, realizing that my decisions wouldn't be personally critiqued but would impact the seller significantly. This enabled me to make a decision based on the aforementioned factors instead of external pressure or bias, making it more objective.",
          "I would decide how much to pay based on how much I value the T-shirt compared to the bonus money. If I think the T-shirt is worth more to me, Iâ€™d be willing to pay a higher amount.",
          "For the most part, I based my decision on the realistic value of the t-shirt.  Above a certain value I can buy something better with the bonus payment.",
          "A bonus payment is more important to me than a t shirt. I also donâ€™t entirely believe that someoneâ€™s pay is actually affected by my decisions.",
          "Since it was a plain tee shirt, I would have rather taken the bonus money over the shirt every time. The exception to this was when the bonus was $0, in that case I would prefer the tee shirt. ",
          "I really don't need a tshirt. I like to help people out but this is not a product I desire. Any amount of bonus would be better than a plain tshirt. Maybe if it had a cute logo on it, I would be more interested in getting it.",
          "I am currently unemployed and I need cash a lot more than a plain t-shirt.  So, I chose to opt for the bonus cash in almost every case.  ",
          "I considered the value of the shirt and my desire for it versus the bonus payout. I also took into consideration the sellerâ€™s support for the cause/value. ",
          "When deciding how much I was willing to pay sellers, I considered how much I valued the T-shirt compared to the bonus payment. I based my choices on the perceived worth of the T-shirt and the cash value I would receive if I chose the bonus.",
          "Though a seller may have shared similar values, I would have preferred a bonus for the most part than a T-shirt.",
          "I really don't care if they donate to a specific cause, and was looking at how much the shirt would be valued at vs the bonus payment.",
          "I thought about it in a practical sense. I really don't need any more t-shirts, so I preferred the bonus.",
          "In each scenario I chose the lowest amount of bonus that would make my endeavors profitable.  I really do not have any need for a t shirt.",
          "I set target for the bonus so if it is not up to the bonus I will not pay ",
          "I wasn't willing to pay any of the sellers in any of the scenarios because a plain white or colored T-shirt isn't something I would be interested in paying for in the first place, so any amount of potential bonus is more valuable to me, regardless of what values the seller holds.",
          "Getting a free t-shirt compared to $0 is obvious. For the rest, however, I'd rather have a cash bonus",
          "As interesting as the study is, to be honest, I would rather have the bonus than a tshirt. ",
          "I do not currently NEED any more shirts, but I would like to have one that represents an issue important to me.  I do need money currently, so if the bonus is more than the $10 or so I would be willing to pay for a t-shirt I would prefer to have the money.  If it is less than $10 I feel like I would get more value out of a shirt.",
          "best choice for me was a tshirt that i liked made by someone who supported gender equality. in that case i needed no bonus.",
          "i used my past experiences buying and paying for goods, especially plain clothes, to establish an average price point for a blank t-shirt. Once I determined this baseline, I stopped paying more unless the price exceeded the market value, in which case I decided for the bonus.",
          "I was more interested in a bonus opportunity than receiving a t shirt or helping someone else get high earnings.  So at $ 2 I would rather have the money. At $0 I would take the t tshirt.",
          "thought about the amount of bonus",
          "I chose the bonus payment over the T-shirt for all of them except the bonus payment of zero because I don't want a T-shirt and the bonus payment would be more useful.",
          "I considered the value of the T-Shirt versus the bonus payment. My willingness to pay was influenced by how much I valued the T-Shirt and how it compared to the financial benefit of the bonus. I aimed to balance both personal preference and potential outcomes for the sellers.",
          "i prefer the bonus because i would like to use the money for something else",
          "I was never told how much the T-shirt actually cost so I chose an arbitrary bonus schema and stuck with it.",
          "I figured that I would rather go for the n bonus payment as I'm not big on t shirts. ",
          "I don't want and didn't want a t shirt and would rather have what ever bonus was available.",
          "I'm essentially not willing to pay anybody any money--I'm greedy and want all the (potential) bonus for myself.  If they're giving me a t-shirt for \"free\" ($0), then that's fine.  Otherwise, no dice.",
          "I thought of the value of the t-shirt over the money anything over ten dollars or twelve dollars of bonus payment I found more valuable and would help me more than the t-shirt would do for me.",
          "When deciding how much to pay sellers in different scenarios, my thought process would involve several key considerations:\n\n1. Personal Value and Utility\nPersonal Use: I would assess how much I value the T-shirt for personal use. This includes considering factors like design, quality, and how often I would wear it.\nAlternatives: I would compare the T-shirt to other similar items I could purchase, evaluating if I can get a better deal elsewhere or if this T-shirt is particularly unique or desirable.\n2. Budget Constraints\nFinancial Situation: I would consider my current financial situation and budget. This involves deciding how much discretionary spending I can afford without compromising other needs.\nPriority: I would determine how high purchasing the T-shirt ranks among my current spending priorities.\n3. Perceived Fairness and Sellerâ€™s Earnings\nFair Price: I would reflect on what I perceive to be a fair price for the T-shirt, considering production costs, brand reputation, and market prices.\nSupporting the Seller: If the seller is a small business or an individual artisan, I might be willing to pay more to support their craft and livelihood.\n4. Experimental Context\nBonus vs. T-shirt: Given that there's an option between receiving a bonus payment and the T-shirt, I would consider how much the monetary bonus is worth to me compared to the T-shirt. If I value the T-shirt significantly, I might indicate a higher willingness to pay.\nRandom Selection: Understanding that a random selection could result in either receiving the T-shirt or a bonus payment, I would balance my maximum willingness to pay with the likelihood of being satisfied with either outcome.\nScenario-Based Decision Making\nIn different scenarios, these factors interplay as follows:\n\nHigh Personal Value Scenario:\n\nIf I highly value the T-shirt (e.g., itâ€™s a limited edition or has significant personal meaning), I would be willing to pay a higher amount.\nI would still consider my budget and ensure Iâ€™m not overcommitting financially.\nLow Personal Value Scenario:\n\nIf the T-shirt is of low personal value (e.g., itâ€™s a generic design or something Iâ€™m not particularly fond of), I would indicate a lower willingness to pay.\nThe bonus payment might be more appealing in this case, influencing me to choose the monetary option over the T-shirt.\nBalanced Value Scenario:\n\nIf I see equal value in both the T-shirt and the bonus payment, I would try to find a middle ground in terms of how much Iâ€™m willing to pay.\nThis would involve setting a price that I believe is fair and reasonable, ensuring Iâ€™m content with either outcome.\nFinal Decision\nAfter weighing these factors, I would decide on an amount that reflects the T-shirt's perceived value, my financial situation, and the experimental conditions. My goal would be to make a decision that I feel comfortable with, regardless of whether I end up with the T-shirt or the bonus payment.",
          "I went with my gut and chose off of initial instinct. I preferred the bonus usually over the tshirt. ",
          "In all cases I prefer the bonus except when the bonus is zero. This is because I have plenty of T shirts and donâ€™t need anymore. ",
          "I wouldn't really pay much for a pain t shirt as its not something I would typically wear and am tight on cash. I chose the bonus payment for most and would save it for a more interesting shirt",
          "When deciding how much to pay for a T-shirt, I consider:\n\n1. Perceived value: How much I value the T-shirt based on its quality and design.\n2. Comparison with alternatives: How the price compares to similar options available in the market.\n3. Budget constraints: What I can afford and consider fair.\n4. Seller's incentive: Ensuring the seller is adequately compensated while keeping the price reasonable.\n5. Personal satisfaction: Weighing my preference for the T-shirt against the attractiveness of the bonus payment.\n\nThis approach helps me balance my desire for the T-shirt, market fairness, and the impact on the seller.",
          "I wasn't really willing to pay the sellers anything. I opted for the bonus because it was there. I know I won't get it, but that is always going to be my choice. I'd rather have a chance of a bonus than not. That's it.",
          "I always chose the opportunity for a bonus payment versus a shirt, regardless of the seller's values. While I would like to support others, I'm taking this survey to earn some extra money, as I would expect most others are.",
          "It was more about the overall value of the shirt to me vs the amount of the bonus",
          "I really would rather have the bonus, but I thought it would be ok to have the t shirt if all I got was 2 dollars. I choose the t shirt over getting less then $6 once because one seller was donating $2 to my cause before they knew about selling t shirts and their potential bonus. The other seller that donated probably did it to sell more t shirts, so I stayed the same and only said the t shirt if my bonus was less then $4. ",
          "I would have rather have had the bonus than to have a shirt",
          "I just thought in a pragmatic and cynical way, a bonus larger than $10 sounds better than $4 or $6. Also, a new tee is always welcome, but only if it's rather cheap",
          "I prefer the bonus payment over the t shirt in all cases except when the bonus is 0",
          "I personally do not want that t-shirt, nor do I need it - I desperately need the money and can't let the opportunity to have a bonus slip.",
          "I simply have no need for an extra T-shirt that I will not use. I chose to bonus payment every time regardless of the values supported by the vendor. ",
          "I basically would pay the seller up to a point I would spend an amount on a t shirt. Past the point of how much I would spend on a t shirt I would request the bonus instead.",
          "I just chose to receive any bonus at all other than the T shirt because I do not want the T shirt unless it's free.",
          "I currently don't have a stable address, so I'd rather have the bonus pay.",
          null
         ],
         "marker": {
          "colorbar": {
           "title": {
            "text": ""
           }
          },
          "opacity": 0.5,
          "showscale": false,
          "size": 5
         },
         "mode": "markers+text",
         "name": "2_bonus_payment_rather",
         "text": [
          "",
          "",
          "",
          "",
          "",
          "",
          "",
          "",
          "",
          "",
          "",
          "",
          "",
          "",
          "",
          "",
          "",
          "",
          "",
          "",
          "",
          "",
          "",
          "",
          "",
          "",
          "",
          "",
          "",
          "",
          "",
          "",
          "",
          "",
          "",
          "",
          "",
          "",
          "",
          "",
          "",
          "",
          "",
          "",
          "",
          "",
          "",
          "",
          "",
          "",
          "",
          "",
          "",
          "",
          "",
          "",
          "",
          "",
          "",
          "",
          "",
          "",
          "",
          "",
          "",
          "",
          "",
          "",
          "",
          "",
          "",
          "",
          "",
          "",
          "",
          "2_bonus_payment_rather"
         ],
         "textfont": {
          "size": 12
         },
         "type": "scattergl",
         "x": {
          "bdata": "6sABQYJi70CBlwBBlsfnQIcR7kDiT/tAmEgBQadW7UAnLPdAKzMCQcNLAkGjaPRAzgH4QFsc9EBIf+5AA/TrQITH5kAiAuhA1YT3QMYwAkGjIgBBPKDpQHMq8kCs4O5Ah6v3QDfW6UAxTgBB+grnQJqH8UDzrPlAl1v/QEs/AUE2o/VAQzkCQYsB9kC+NfNAc1D2QF5K7EDR0/dA5pbzQHf0/UDK8+VA5yHuQAnb/kDaSPdAEGL/QOK/7EAd+vVAnrb0QKAb50BdHf5AXln3QJ2n6EAOvQBBU+QAQaelAkFnvwBB1BsCQY5c80DcuPFALWP1QMnDAEGn2/JAu5PjQHVI7UBSI/pAJ+vxQCgK/UCEhvlAJxUAQXRPBUEKGf5ASrPxQBujAEEnvudAHbH2QA==",
          "dtype": "f4"
         },
         "y": {
          "bdata": "AF0OQfY+CEEpBhJBO3cKQQzo/0AQAApBf/MLQR2kC0GzZQpBz+kPQYbPD0EG7QBB/oYSQZFgEEGQ+wxBjrMQQekwGEH7xxdBWbcRQcnyDkFaPBFB6iEYQS5QDUFmiQVBSOIGQRfyFkH54BFBYgoYQVlvAkHF1AZBtt0KQSmsC0GQcRFBu5AIQQwJEkHFPQVBwgkDQYHTB0EAwAZBzjkPQaEzDEHeyBdBMIsDQWYxEUGebghBexoJQdIlEEHxBQJBVCsPQREYGEETjxFBT6QEQUxUF0Fcsg9B/20RQVzmD0FjkQ9BqcgIQVKXA0HGbxBB1jISQZRyCUEMXgFBPtYWQYszCkF4Yg1Be+sOQdSnEUEbLwxBo8kRQZUaDUH2NBFBqJgFQXHQEUGgShhB5mcNQQ==",
          "dtype": "f4"
         }
        },
        {
         "hoverinfo": "text",
         "hovertext": [
          "My decision was based on my desire for the product.  The Seller's information made no difference in my decision regardless of what they knew about me.",
          "If they chose to sell before they know about it is one thing but to sell after they know is totally different.",
          "Not knowing I think makes them more likely because there's no incentive for a sell that would make them seem greedy.",
          "The amount I was willing to pay sellers in different scenarios was based on the fact that they support the same course I do support which is Fight Against Climate.",
          "Without having definitive information I would have to assume a neutral position for the sellers. Therefore, I made my decisions on what I would prefer without taking into account any 'possible' alliance.",
          "as far as his agender to what is value doing",
          "I really went with my intuition. The amounts I were willing to pay were based on my gut feelings.",
          "i pay to the seller depend on how much need i have for that thing/stuff, if i desperately need it i pay higher, otherwise lowest or no buying.",
          "I wasn't sure just did what I felt that is correct in the scenarios ",
          "The sellers values contributed greatly to my choices.",
          "It was not so much about how much I was willing to pay as opposed to if I thought the sellers for simply after a money grab.",
          "I wanted to be fair not selfish but at the same time when the seller is supporting climate change fight, I was willing to pay more to them.",
          "I personally just wanted to pick the option that gave me the best benefit. I was more interested in how I could give myself the best outcome, instead of focusing on how I could help a seller. ",
          "I chose the way I did by how much the sellers values aligned with my own and whether or not they did what they did just out of their own kindness and not because of what they thought they should do to get buyers.",
          "When deciding how much I was willing to pay sellers in different scenarios, I based it off personal beliefs, perception of the product, and the authenticity of the seller.",
          "My decision directly impacts how much the seller earns, as their variable payment is tied to the amount I am  willing to pay.\n\n\n\n\n\n\n",
          "I am not that concerned about a seller's personal position with regards to this value propositions.  I have a dollar amount that I am will to pay and nothing more that that makes sense to me financially.",
          "Sellers beliefs played a roll into what I would pay",
          "My decision on how much to pay sellers is a balanced approach that considers the intrinsic value of the product or service, market conditions, fairness and ethical considerations, and strategic negotiation. By carefully evaluating these factors, I aim to make informed, fair, and mutually beneficial purchasing decisions.",
          "The greed in the world makes a difference on what sellers will do to sell something.",
          "I was willing to pay the last seller more because I felt that I had something in common with them I should have done that with the first one too",
          "I want to get the most money out of it as i could",
          "I assessed the product's value, market prices, seller's reputation, urgency of my need, my budget, and potential for negotiation to decide a fair price.",
          "  I balance between offering a wage that is attractive enough to hire the seller but \n  not so high that it eats into my potential profit.",
          "I chose to pay more to the sellers that were willing to donate to a cause that is important to me.",
          "I am a diehard bargain hunter. My decisions were based on price alone.",
          "I focused on whether or not clothing garment sellers in general wanted to uphold a certain set of values when selling. Most I can think of already don't.",
          "I really wasn't willing to pay any of the sellers based on the values I chose because I don't think the sellers would really care about that",
          "i followed my trading instinct",
          "I like to support businesses that uphold my values. I am also still poor, so I have to take into consideration how much I'm willing to pay. I answered honestly with the prices and if I had more money, I'd be willing to buy at higher prices.",
          "I decided how much to pay sellers based on either their knowledge or lack thereof. It shows their willingness to help and incite positive change.  ",
          "my decision is based on several factors like the value perception,my budget and affordability ,comparative pricing. my decision is a balance of perceived value, personal financial considerations, and the context of the scenario presented",
          "Knowing the potential sale is better ",
          "Depends on what they were offeing.",
          "I looked at the value",
          "I will pay so as to have a good product",
          "I feel the without/with knowing didn't really matter as much to me. The basis would have been what organization they chose in the end. That says a lot to me about the seller.",
          "Deciding on how much to pay to the sellers is based on the moral lives of the people ",
          "I basically took a stab in the dark. I've never really thought about this before. And I tried to get as close as to what I think would be the right amount, but I'm probably WAY off unfortunately",
          "I am looking at the quality of the product and how long it can last to make a higher payment",
          "I made the decision based on personal experiences and also in order to have a fair deal",
          "My thought process when deciding how much i was willing to pay was based on my financial situation presently and not on whether the sellers knew of preferences before or after the order.",
          "I think that sellers have the mindset of making as much sales and profit as they can make. This is the main reason that will decide their actions ",
          "i sometimes thought sellers would do anything for money and sometimes i had hoped that they would have morals and contribute that to their product selling ability",
          "Quality: The seller offers a high quality product or service so i am willing to pay more of the added value.",
          "i think the prices to my pocket reflexes my decision ",
          "I'm willing about the same from each seller, regardless of their personal leanings,",
          "I chose the scenarios according to how I felt I would be willing to pay for these items. ",
          "I always prioritize quality of the product and values of the brand when making purchasing decisions. ",
          "Very few act morally, most lean toward greed no matter their thought on the outcome.",
          "Honestly, I was just being greedy and wanted to make the most of myself despite the seller.",
          "I put myself in the sellers position and thought what I would be willing to do",
          "When deciding on how much am willing to pay the the sellers, I will consider the what they stand for, example those that stand for fighting climate change, I put more in consideration.",
          "When I was deciding how much I was willing to pay sellers in different scenarios, I thought about a few things. First, I considered the value of the item to me. How much would it improve my life? By considering all of these factors, I was able to come up with a reasonable price that I was willing to pay for the items I was interested in.",
          " perceived value, brand reputation, product quality, and unique features. ",
          "My reason for paying sellers didn't change much. I did choose to pay a little less for the seller who chose my values for profit and more for the seller who chose my values without knowing about the sale but the difference was very small.",
          "I based my decision on whether I thought the seller cared about the issue or whether they were cynics (like me) and thought they could make more profit by pandering to my concerns. ",
          "I think we all born listen to ourselves and very few actual see outside themselves I think I would more inclined to do more with the money than what the seller would",
          "My process involved my ascertaining what I would pay in reality.  I wanted to help the sellers and give them an advantage to make more money.",
          "My process was more of a gut feeling about how the sellers might react.  People don't always display their true feelings for different reasons and even if I had intimate knowledge of their true feelings, that would not guarantee their behavior.  In other words, all a wild guess on my part.",
          "Before deciding how much i was willing to pay, i considered the strive to be truthful about my willingness to pay, as I understand that my decisions can impact the seller's earnings.\n\n",
          "my answers were consistent across all sellers- I would want to know more about the sellers first (and their reasonings) before giving them more in terms of asking price",
          "The scenarios didn't matter much. I considered what directly impacted a very significant concern of mine, my wallet. I chose what I would be willing to pay regardless of the values element.",
          "Recognizing the Product or Service's Value:\n\nIntrinsic Value: The product or service's inherent value is something I take into account. This entails evaluating the item's overall usefulness, functionality, and quality. For example, I'm willing to spend more if the product delivers unique characteristics or fulfills a pressing need.\nMarket Value: Another consideration I make is the market value, which is impacted by a number of variables including consumer feedback, brand reputation, and comparisons with other items in the market. This aids in determining the fair market value.\n\nFinancial Restraints:\nPersonal Budget: I take into account my financial circumstances and budgetary restrictions. If a product is necessary but costs more than I can afford, I might explore for alternatives or determine how far I can push my spending limit to make that specific buy.\nOpportunity Cost: I calculate the potential loss of spending more money on one item, or what I might have to give up. This aids in setting spending priorities for goods and services that provide the most value or advantages.\n\nPerceived Worth and Contentment:\n\nPerceived benefit: I estimate the level of benefit or satisfaction that the good or service will provide. I might be willing to pay more for a product, for instance, if it significantly improves my quality of life or offers large long-term benefits.\nExperience and Trust: My propensity to pay may be influenced by my prior interactions with the vendor or brand. Good relationships from the past foster trust, which increases my willingness to confidently pay greater costs.",
          "I don't personally need any of those items at this time. If I was actively shopping, I would be willing to pay more. As such, it would need to be cheaper if I were to buy from any of the sellers. Prices were more determinant than values expressed by sellers. ",
          "i went with my gut instinct",
          "the amount i was willing to pay the sellers in different scenarios was based on the agreement and also the profit each of the sellers would gain",
          "I tried to base it on what I've seen in the world and what I assume those sellers' morals are based on their beliefs.",
          ". Assessment of Value and Quality:\n Product Quality: I evaluate the quality of the item or service. For example, if it's a T-shirt, I consider factors like material, craftsmanship, and design. Higher quality may justify a higher price.\n Value for Money: I assess whether the product or service offers good value relative to its price. This includes looking at features, benefits, and whether it meets my needs or preferences effectively.",
          "I chose within my budget and weighed the options..",
          null
         ],
         "marker": {
          "colorbar": {
           "title": {
            "text": ""
           }
          },
          "opacity": 0.5,
          "showscale": false,
          "size": 5
         },
         "mode": "markers+text",
         "name": "3_service_product_sellers",
         "text": [
          "",
          "",
          "",
          "",
          "",
          "",
          "",
          "",
          "",
          "",
          "",
          "",
          "",
          "",
          "",
          "",
          "",
          "",
          "",
          "",
          "",
          "",
          "",
          "",
          "",
          "",
          "",
          "",
          "",
          "",
          "",
          "",
          "",
          "",
          "",
          "",
          "",
          "",
          "",
          "",
          "",
          "",
          "",
          "",
          "",
          "",
          "",
          "",
          "",
          "",
          "",
          "",
          "",
          "",
          "",
          "",
          "",
          "",
          "",
          "",
          "",
          "",
          "",
          "",
          "",
          "",
          "",
          "",
          "",
          "",
          "3_service_product_sellers"
         ],
         "textfont": {
          "size": 12
         },
         "type": "scattergl",
         "x": {
          "bdata": "MwRsQOzJXUDVBV1A5GaAQM3Id0C1/JVAOfBmQHzvdUABuWBAb1WPQKP3dkCuKn5AcCN7QNMbd0BjUXpAExZ4QA1TbECr12xAyBWDQPsSYkCDXoBATWuUQJF2jUCIx31AAeN9QN94jEAlEJFAky16QKg7bkAFtnJAy/RxQGZui0BG82hAbTFuQPafg0AJppRAU09rQOTQY0DXMltATyuUQKyoiEA0L3BAj69eQAa2YEBD/5ZA5l+QQB9me0CS0FxAHrKSQKusPkDj/oBAaFiAQESIdkAMFoBAo+aWQCzpeUDizGhAUC5rQKKHe0CglmhAaYh4QAB6ekBY02tAKZOUQDD+dkC0cFVAmlJ9QKJlYEDmGpdA8UqLQCWxfEA=",
          "dtype": "f4"
         },
         "y": {
          "bdata": "Nnz/QDJt+kCAF/1AHfTtQJPz/0DgHQlBCGMJQcHsBEF5fwxBYRYKQfnPBEEdE+9Ay4YAQUBjBUF5FwZBb8IDQTm3/kDBHQJBjwIIQfiF+UDeegJBX3kFQVvmCUGpmwZBxETxQHDqCkF8AMdAV8sEQRCFC0GFIeNA6/wCQU5PC0FejABBK9n0QEOTCUFNfQVB9pX+QATyAkEsWwpB9WcGQRUsC0GwrAFBxOT6QARR+0BwhwhB8kMJQbMvBEGc8AtB1nsLQRVa8UDXRQNBuzcHQS8040CSnAZB700JQVU5BEFZ+PpAQUz8QCpjBkHlfgRBq3wGQWBeBUEDTgtBmT8JQbnCBEHjgQxBFa0EQeyIAUGsCwlBeuQLQfpxA0E=",
          "dtype": "f4"
         }
        },
        {
         "hoverinfo": "text",
         "hovertext": [
          "Well I thought about #1 I need some new shirts, #2 I asked myself what would I be willing to pay for a wide variety of colors and sizes that seem premium, #3 I thought that if every employer was selling the same thing then I would buy it the same, I would be disappointed if I was lied to about their endorsement views. I decided to go with a set price I'd be willing to pay if I was just shopping.",
          "I considered how much a plain white t shirt would be worth and chose to take an amount above that.",
          "What I thought was the value of the t shirt on the market",
          "I made these decisions based on the fact these T-short sellers are dedicating time to creating a business. Regardless of their values I find it motivating they are trying their hardest to earn an income and sell consumer goods. I believe that shirts clothing are essential and they are doing a frat job by making these items, packaging, selling, and shipping.   ",
          "Mostly I was thinking about how much I am willing to pay for a T-shirt. I like to support good causes; I like to support sellers and businesses that have similar values to my own. However, I'm not willing to spend crazy amounts of money on a product that I could find more much cheaper elsewhere. There came a point, usually around the $20 mark, that I would prefer the money instead. It simply became a matter of value vs. perceived value. ",
          "The amount I selected is based on how much I would pay for the same t-shirt on the clearance rack in the clothes department of a discount store. I am frugal and currently focused on saving for retirement so the money is more important to me than the t-shirt. ",
          "My reason and thought why deciding how much I was willing to pay the sellers in different scenarios is what I was willing to pay for the T-shirt at the moment.",
          "My first amount was based strictly on what I think a shirt would cost online.\n\nThe second was paying a little more to reward a business whose values I respect.  I still cannot afford to pay much more for a tshirt, though.\n\nI will not pay any additional amount for a token nod or pandering technique.",
          "The reason behind my thought when deciding how much I was willy to pay sellers was based on how many T-shirts they were to sell.",
          "my decision is guided by how much I value the T-shirt, my budget constraints, the potential impact on the seller, and how I want to balance these factors to make a thoughtful choice.\n\n\n\n\n\n\n",
          "The main contributor for me is how much I am willing to spare when it came to the money. And how much I think the t shirt is worth it.",
          "I really don't want or need a t shirt so I chose the cross over point that was lowest or near to it.",
          "It depended upon the tshirt as well as if my rights are still intact ",
          "My decisions were mainly based on the designs of the shirts. I don't really like plain shirts all that much, but I can always use new clothes. Therefore, I had some mild interest in making a purchase.",
          "I decide how much Iâ€™m willing to pay based on the perceived value of the T-shirt from each seller and my personal budget constraints. I aim to balance my interest in the T-shirt with the potential financial impact on both the seller and myself, ensuring my choices reflect my genuine valuation.",
          "The first scenario was a starting amount I would pay with no more information. The second scenario I would pay slightly higher due to the value being promoted. The third scenario I would pay more due to the seller not knowing about the contest. I feel that means they are truly devoted to the value, not just trying to sell more shirts.",
          "I based it on paying for a plain t-shirt and if I could give a donation to the right. ",
          "I based it on what I valued the tshirts at.  Though they said they support the cause (either before or after knowing), it did not mention their proceeds going towards the cause, therefore there was no extra value.",
          "When it's something I support, I'm willing to pay more. As for why there is difference in the amount between the listed sellers; it's a lottery and even though I desperately need the money, I'd like to get as much for the seller (if mine is chosen) as possible. I followed the instructions as best I could and I chose what I would have been willing to pay for the T-shirt at that moment if I were in a good place financially and had the financial means to do so. ",
          "I first determined how much I'd pay for a plan/solid colored t-shirt. I then based my answers around that base amount going to the seller, plus any additional money to cover a donation for a cause I agreed with.",
          "My decision was not based much on the sellers views. I had a value in mind in which the money is worth more to me than the shirt regardless of the sellers views.",
          "I based it mainly on how much I could get a similar T-shirt for from a retail location, mainly local thrift stores. I was willing to pay slightly more for the one sold by the person who indicated they agree with me before they knew it could be profitable, but only slightly, since me getting money directly does more good for me than slightly boosting the finances of someone who agrees with me politically.",
          "I thought of what a t-shirt usually costs. I then decided what I would be willing to pay.   I did not take into consideration what their donation practices might be.",
          "First, I had to decide how much a t-shirt is actually of value to me, then I considered that if a seller is willing to help out a cause that is important to me I would be willing to pay more, whether or not they knew about the ability to sell t-shirts to help the cause or not.",
          "I have a limited income, and I chose the first amount based on what I could afford and what I thought was the value of the t-shirt. I also feel strongly enough about supporting traditional values that I was willing to pay $2 more when I knew that would be donated. I didn't care if the seller knew before or after. ",
          "I tried to reason how much a t shirt seller would have to sell it for to make a profit but I don't know what their cost for a t shirt is so I guessed. I wouldn't want them to lose money but I also need a big bonus lol. I was willing to pay more to the sellers who also value the faith in public opinion.",
          "I thought about how I value a t shirt and where Iâ€™d rather just have cash.",
          "I thought about what I thought other people would be more interested in buying today.",
          "I considered both the value and quality of the T-shirts when deciding how much to pay. I evaluated how the price compared to the market and the overall quality of the product to ensure a fair and satisfactory purchase.",
          "I based my decision on what I am actually willing to pay for  similar shirt in real life.",
          "I based it on how much I would pay for the shirt out of my own pocket. Then once I knew they supported gun rights, I felt like I wanted to support them more.",
          "I went by the price of a t-shirt in a thrift store for how much I wanted the shirt vs money",
          "I compared the average market price of the t-shirts to the prices at which the they were willing to sell for and  i made my decisions based on how much it costs on the market. ",
          "Quality of the T-shirt: I assess the quality of the T-shirt, including factors like fabric, design, durability, and craftsmanship. Higher-quality materials and unique designs might justify a higher price. Brand and Reputation: If the T-shirt is from a well-known or reputable brand, I might be willing to pay more due to perceived value and brand prestige.",
          "Based on the value of the shirt and the views of the seller. ",
          "When deciding how much I'm willing to pay to sellers in different scenarios. Consider the quality of the T-shirt. is it made of high quality materials?. Will it last long?. Determines more demand of the T-shirts needed and reflect on how much I pay for it.",
          "I considered how much a plain t-shirt is worth to me and decided how much I'd be  willing to spend. I gave more for a person who I believed was more genuine in their  support. ",
          "I mostly thought about how much a shirt would be worth if Iâ€™m able to choose the color and decided how much money would mean the t-shirt is the worse choice.",
          "For the most part I just thought about what price point I would by a plain t shirt for. ",
          "My willingness did not really increase or decrease in these particular scenarios. I just thought I need more money than a tshirt! ",
          "I completely based it on the amount of t shirt mostly of how much I am willing to pay for a plain shirt and the bonus. Makes no snese to pay 20 plus dollars for a plain shirt no matter the cause usually. ESPECIALLY LGBTQ causes.",
          " The traditional values is always important to me and that is the first reasoning and secondly the price of the T - Shirts is primarily what motivated or influenced me well in my willingness to pay sellers.",
          "I was thinking about how much a regular shirt costs and I can go get one from Target for about $6. So that is why anything over that, I'd rather take the money. Then once it was stated that the seller would donate $2, I increased my number to $8. It did not make a major difference if the seller knew or didn't know because I was not going to go above $8 for a shirt. ",
          "The scenarios didn't matter in my decision.  I had a fixed price for the shirt and the rest didn't matter.",
          "My responses were made based on the image of the shirt.",
          "Their values had absolutely no effect on my decisions. I strictly considered what a plain T shirt is worth to me in dollar amounts.",
          "I based the sell rate of sellers tshirts on the amount \nIt would cost to buy a better quality tshirt. ",
          "i based my decision on how much I was willing to pay for shirt. Then I considered what that meant for my opponent. Then I considered if the right for privacy mattered to me.",
          "When deciding how much to pay sellers, I considered the value I place on the T-Shirt and my budget. I also thought about the seller's earnings and their support for values important to me, like Racial Justice. Balancing my desire for the T-Shirt with a fair price that supports sellers aligned with my values guided my decisions.",
          "Their values did not sway me. I am not a fan of this T-shirt style and none of the sellers carry my size (XS).",
          "I must admit, I was rather confused.  I couldn't really see the correlation between causes and tshirts",
          "In the first scenario, I just decided how much, at most, I would pay for a plain tee no matter the value supported by the seller. In scenarios 2&3 I decided I'd be willing to pay a little more because they support my value and will make donations.",
          "I thought mostly in terms of what the t-shirt would cost in a retail situation, and then add a little more based on whether I liked the support as well.",
          "I thought about how much I'd be willing to pay for a similar shirt if I was making the purchase on my own.",
          "I based my thoughts on how much I want or don't want a t-shirt. The shirts appeared to be of low quality, so I had little interest in the T-shirts",
          "Well, I looked at the prices and decided how much I would pay for a shirt in that scenario. ",
          "I really did not keep that information in my head when reading through the T-shirt selection options. So, I basically guessed. Sorry.",
          null
         ],
         "marker": {
          "colorbar": {
           "title": {
            "text": ""
           }
          },
          "opacity": 0.5,
          "showscale": false,
          "size": 5
         },
         "mode": "markers+text",
         "name": "4_based_thought_considered",
         "text": [
          "",
          "",
          "",
          "",
          "",
          "",
          "",
          "",
          "",
          "",
          "",
          "",
          "",
          "",
          "",
          "",
          "",
          "",
          "",
          "",
          "",
          "",
          "",
          "",
          "",
          "",
          "",
          "",
          "",
          "",
          "",
          "",
          "",
          "",
          "",
          "",
          "",
          "",
          "",
          "",
          "",
          "",
          "",
          "",
          "",
          "",
          "",
          "",
          "",
          "",
          "",
          "",
          "",
          "",
          "",
          "",
          "",
          "4_based_thought_considered"
         ],
         "textfont": {
          "size": 12
         },
         "type": "scattergl",
         "x": {
          "bdata": "2q3YQNVd6kDxAOtAgIPXQG7X2UCj3OpAYmXNQAOf50D1YNBAsqfQQJUy30A//ulAC3/KQNadz0BqKctA2d34QDrhy0Cs0cxA5Kz4QD5y4UBAWdVAhUXKQNkl4kAEB+1AgT3iQObXzkCff99AC8neQLLJzECjytlASxfKQIe84UCPydBACLTIQCKt10BUN8lAkJXZQEEZ30D9LeFA6VH1QIymyUB1V85AXIvoQJOC10BeRMVAsH3PQHSRz0CGuMlAm27IQGkkzkBkKr9A5xLPQHqH5UAccOBA8IrNQCOq3kBcVdJA/DXYQA==",
          "dtype": "f4"
         },
         "y": {
          "bdata": "rBThQAeR4ECa7N1A8cypQFnn1kCGgONARALjQBzPw0Cw5OFANyjfQH2HzUAuAeVAKlbIQPaL30C1U+hArmLEQFTJyUDERspAMmLBQF9H4kAue9hA87DMQFgczUC/mMZAJ5LBQEFt0kDLFORA3lvkQB1Y40CTUNxAHE7LQLKA4kDTbOJANYDoQCnP2kC3I+dA/RLKQKDc40BvbeVAuq/KQEvVxkC8I9NA7V7AQGOS3UDR5+BAOu/VQK0F5EDcUMpAMbHlQFD51UD9KN9AzFjVQEWyzkB/3ORAtkPiQHqk40CB0ONAlaDXQA==",
          "dtype": "f4"
         }
        },
        {
         "hoverinfo": "text",
         "hovertext": [
          "I hope that more people would be for racial equality and I feel like it would be more because of the society we live in and people being more excepting than they were 70 years ago.\n\nI chose 50% for gun rights because that's always been a sensitive subject, especially for conservatives who won't even bat an eye on the subject even if there's a deadly school shooting.",
          "I think it depends on the issue and how they value how important the issue is to the general public. I think LGBTQ issues would be regarded as more important than the right to privacy. ",
          "To be honest, it did not really impact my choices much but I did give more preference to the seller who indicated they support gender equality. ",
          "I would definitely try to support sellers that openly support the lgbtq+ cause",
          "it was base on the seller who would want to endorse gender equality",
          "I was willing to pay sellers who endorsed gender equality more because I knew that the money would be going towards a cause I care about.",
          "I think that mostly all companies would have to endorse LGBTQ because of cancel culture. Some would endorse guns but a lot less.",
          "People who believe in Gun Rights seem to be very passionate about that. They are very outspoken and donate a lot of money to the NRA and other groups. They also spend a lot of money on guns.\n\nAlthough I believe that people like me are passionate about Racial Justice, I don't believe they spend as much money as the other group sadly. I do see them attending protests and rallies, etc. but the money part is not a priority. I'm that way and I think others are the same. ",
          "I believe most people want a right to privacy, it is basic human nature. Lgbtq is a growing stance, becoming accepted every day.",
          "Gun rights are important to people for both hunting and protection. Religion shouldnâ€™t be in public life. People have different beliefs I think it would be a disaster.",
          "I think the people even a little engaged with gender equality will be more willing to support it than someone indicating faith in government. That type of person won't want any money going to the government. ",
          "I figured I got this survey because Iâ€™m a republican so a lot of democrats probably are taking it too. The policy I agree with they wouldnâ€™t. The lgbtq they would. ",
          "I'm a graphic designer, so I'd be much more intererested in buying tees that have a message or some kind of design on them. Just this year I've bought campaign merch that doubles as gifts, because I know some of the money goes back to a campaign I strongly support. But their merch also looks cool! So I just wouldn't pay a lot for a white tee, even if they donate $2 to a cause I care about. I'd probably rather straight up donate to the Trevor Project or Equality Florida. I did differentiate, though, between the seller who genuinely wanted to support LGBTQ+ rights and the seller who just wanted to make a sale and didn't care. That seller could turn around and donate to causes I consider hateful; I wouldn't trust that they'd handle my donation in the way they promise.",
          "I feel the majority of companies wish to promote traditional values and then would follow through on that obligation.  The 3 companies that we looked at in the scenario sound like they would.  I feel that some might give lip service to the LGBTQ+ rights but then may change course because it doesn't agree with their values.",
          "I felt the sellers who are only wanting to support the lgbtq and faith because of sales will not be loyal to that and are being dishonest.",
          "Gender equality equates theoretically to 50% of people being female so that might have a decent size of sellers interested in supporting.  However, los of people are religious so faith would probably bring in more support.",
          "Gun rights are more volatile than privacy in my opinion",
          "While gun rights are a defining issue with the republican party, it is also an important issue with left leaning democrats and independents. Therefore, gun rights as enshrined in the constitution, is almost a non-partisan issue which makes it a a majority opinion. This is why is I chose 70%. It could be higher, but there are still people like me who wouldn't mind it if we were more like Japan that  \n has such strict gun laws that hardly anyone owns a firearm.",
          "I reasoned that right to privacy isn't as emotional or divisive as LGBT plus agendas, so there would be less incentive overall. I assumed at least more than half participants are pro LGBT and even more would sell after knowing the buyer supported the sane issue. ",
          "I feel that there are many people who would want to uphold the traditional values more so than those who stand with gender equality and they may be more willing to pay sellers more.",
          "I think that businesses would be more willing to support queer rights (at least in the US) because that is a bigger market than those who are religious.  Also when supporting religion in public life there are many divides. Even if they were donating to a Christian organization there  are hundreds of different denominations that often don't get along. Americans who support queer people is a larger market.  ",
          "Most people support gender rights and oppose expanding gun rights. Also, venders will pander to anything to make a buck.",
          "The reasoning for the gender equality is that many women do not make as much money. The reasoning for the gun rights is that the majority of gun owners are willing to pay to preserve their rights to own guns. ",
          "I just went with my gut. I do not support gay rights so the seller than upholds values is more my style.",
          " If a seller indicates support for gender equality, I am more likely to pay a premium. Supporting businesses that align with my values feels like an investment in the kind of world I want to live in. I look for clear, transparent indications that the seller genuinely supports the values they claim. This might include certifications, detailed information on their practices, or third-party endorsements. While gender equality is particularly important to me, I also consider other values such as environmental sustainability, ethical labor practices, and social justice. Sellers who demonstrate a commitment to these values also positively influence my willingness to pay more.",
          "I think I would most support the seller who supported gender equality without knowing it increased sales the most. They are authentic in their support. Sellers would just changed after knowing it would increase sales I support less they really don't care about the cause just more sales. But they get a little support because it still would help even if they really don't care",
          "I am more likely to purchase a seller's t-shirt if they align if with my personal beliefs. More individuals are likely proponents of LGBTQ+ equality than are gun right advocates. ",
          "I do not support LGBTQ+. I think it's not a good cause. These are peoples choices, we don't need to be donating to them just because \"they're different\"",
          "Rainbow washing is a thing, and companies will often say that they support LGBTQ+ issues so that they can sell more. If someone says they support it before they know how it can affect their sales, it is more likely that their support is actual support and not just to make sales. ",
          "Gun support in america seems like a bigger market in general, and companys don't risk as much backlash as they would if they supported LGBTQ+ rights",
          "I am not for supporting Gun rights because they do Not have enough Laws in place right now to keep Guns out of the wrong hands. I have never witnessed in Gun holders Stop a potential shooter or a mass-shooting to date. So, I do not see a good enough argument to stand by the Gun Right Advocates.\n\nOn Racial Injustices, I would buy as many T-shirts to support the cause for racial equality. I would not purchase or in any way want to support any cause was raising dollars for Gun Rights. I think they have enough money.",
          "While I would be slightly more likely to financially support a seller who supports LGBTQ+ rights, ultimately it doesn't mean I would pay a much higher price for the product. Comparing the seller who knew about the opportunity to sell and the one who didn't, my answer did not change because I felt that it was somewhat unlikely that that particular person had changed their answer after learning of the opportunity to sell.",
          "Corporations or small businesses virtue signalling makes me less likely to consider them - especially if it's something I truly care about. I have a strong distaste for LGBTQ activism so I would move far away from anything mentioning it.",
          "I treated everyone equally.",
          "I am willing to pay the most for a seller that endorses gender equality without knowing that that is a strong value of mine. I think that is a person like me with respect to many shared values and I want to support their business. I paid the lowest to the person with no value preference because I am not that interested in getting a T-shirt. I paid h middle amount to the person who espoused gender equality once they found out it was important to me, but I kind of regret that decision now, since they may have only espoused that to sell me a t-shirt.",
          "FOR THE UPHOLD TRADITIONAL VALUES I FEEL THEY TOTALLY AGREE WITH ME BECAUSE WE ALL GREW UP IN A GOOD SOCIETY AND THOSE VALUES ARE A PART OF OUR FAMILY. SO I CHOSE A LITTLE HIGHER IN WILLING TO PAY. FOR THE LBGTQ I CHOSE LOWER BECAUSE ALOT OF PEOPLE ARE LEERY OF THE GAY PEOPLE.",
          "Gun rights advocates seem more forceful and opportunistic to me so I though more would capitalize on the opportunity ",
          "LGBT rights are alot more mainstream and widely accepted so the risk to reward of selling would be higher",
          "if they support the cause knowing or not knowing but still show their support shows me they believe in equal rights",
          "For the Faith in Public Life value, I believe overall the percentage would be less for support after revealing who would be willing to pay sellers than the percentage re: LGBTQ+ Rights support after revealing who would be willing to pay sellers.  Currently, I think there is more support for LGBTQ+ Rights in our society.  This campaign has been promoted over the last two decades in various venues.   ",
          "As a strong supporter of gun rights, I am inclined to provide additional financial compensation to sellers who share my belief in the importance of these rights. Conversely, given my comparatively lower priority on LGBTQ+ rights, I would be less willing to offer premium prices to sellers whose business practices align with those values.\n\n",
          "I want to support the LGBTQ community therefore donating money was a good option",
          "I based off the actual concept of each right. Racial equality seems to hold a higher prevalence in terms of the fight for it, whereas gun rights tend to have more controversy surrounding them. I based the percentages based on this, ranking the gun right sellers with a lower percentage. ",
          "I was willing to pay whatever the vendor was asking especially if they supported a cause I supported specifically gender equality. ",
          "If a vendor made the decision to send two dollars to an LGBTQ+ organization before he/she knew that selling his/her wares would be an option, I was willing to pay two dollars more for a tee shirt being sold.  That two dollars I paid would essentially go to the organization.  If the decision is made to support an organization after one knows a market will become available, the reasons behind that decision are suspect.  I don't think it matters to whom the two dollars is donated.  I would probably feel the same way about the vendor regardless.",
          "When I found out that the shop was endorsing or backing LGBTQ rights it allowed me to want to spend extra money there so then the owner gets extra money. ",
          "I do not believe gay rights are at the same level as other peoples rights and because of that people are more prone to ignore or disassociate with gay people and gay rights. \n",
          "i dont like guns much and i have seen to much violence in this world and it hits home, on the other hand i want people to have the same chance",
          "I was willing to pay more to a seller who, without potential economic gain for themselves, said that they supported gender equality. I was still willing to pay more if they did know about the potential to sell more, but the unprompted support of gender equality made me feel like they were more genuine. ",
          "I do not think opinions on gun rights would change under either scenario, however with lbgtq rights I think it would go up.",
          "If it's for profit, support for LGBTQ+ means very little. Unwavering support is much preferred",
          "I think sellers who have values that represent objects that inflict violence on society are more apt to be vocal about these rights when it comes to making money, especially in today's political climate.  ",
          "For the control / neutral seller, I figure that a custom t-shirt was worth about $10.  That's how much my niece charged me for a custom t-shirt.  For the seller who supported LGBTQ+ without knowing, I paid $20 since their support was genuine without financial incentive.  For the seller who supported LGBTQ+ knowing that it could lead to greater sales, I split the difference between the two sellers at $16.  Yes, they had a financial incentive but at least they weren't one of those weirdos who were totally against LGBTQ+ like the bakery shop who refused to bake a wedding cake for a gay couple due to their \"religious\" beliefs.",
          null
         ],
         "marker": {
          "colorbar": {
           "title": {
            "text": ""
           }
          },
          "opacity": 0.5,
          "showscale": false,
          "size": 5
         },
         "mode": "markers+text",
         "name": "5_lgbtq_rights_equality",
         "text": [
          "",
          "",
          "",
          "",
          "",
          "",
          "",
          "",
          "",
          "",
          "",
          "",
          "",
          "",
          "",
          "",
          "",
          "",
          "",
          "",
          "",
          "",
          "",
          "",
          "",
          "",
          "",
          "",
          "",
          "",
          "",
          "",
          "",
          "",
          "",
          "",
          "",
          "",
          "",
          "",
          "",
          "",
          "",
          "",
          "",
          "",
          "",
          "",
          "",
          "",
          "",
          "",
          "",
          "5_lgbtq_rights_equality"
         ],
         "textfont": {
          "size": 12
         },
         "type": "scattergl",
         "x": {
          "bdata": "zaJQQH+fVkA9Mx1ALz8+QHL3G0B2+BpAras2QJU8XECYvVpAxJZYQMXWHkAP/1RAe+pGQL1wN0CAJ01AaWkdQNn8WEAlml9Af2FKQC+2HEB2jThAauJSQOx4VUCpvlhASg0cQKsQHkBuK1RArHUzQDWdN0DGXUlAP/VcQNCURkCBpjRAIDEYQOPEH0BDcltAbjRXQEgRR0Dk6h1AyX5OQEAMTkCbXTBAgAVdQJL3IEAocEJAQd5SQPYaV0DlElhAlNcbQF+dV0A6IjZAh2haQH88S0DQMEFA",
          "dtype": "f4"
         },
         "y": {
          "bdata": "bfGEQMOiiUDvn6JA3pKUQPgookA9RqtAi8qMQBK6c0CfeYtAtoB1QMf2n0Dg9olAbgKYQFo7jUCOfJZA5GqgQHFDdUAjF3dAMoCOQPH2oEB+Oo5A56t8QKPOe0DVaaZAgQ2iQAWBokD+lJJAg4GRQB3YjkDzcoJAGlN0QBXGkUDSlI1AnMqzQIwbpkBxvp5A+O90QIAYjUD6mKJAiCaNQMvfkkC80ZZA91J0QHiJrUChVZhAw92aQCi+ikDfF3ZAorOkQDzqdUAQm41AZ9G3QGLJlkCqO5JA",
          "dtype": "f4"
         }
        },
        {
         "hoverinfo": "text",
         "hovertext": [
          "I think I was pretty consistent of what I would have been willing to pay. The shirt was neutral and nothing on it, I do not think it would warrant a high cost of paying for it when it is so plain to I decided to pay a cheaper price.",
          "I usually buy plain t-shirts locally for less than $5, and I am very picky about fit and material. Without seeing and feeling a t-shirt I'm not too willing to risk buying it for much at all. I selected not to pay the last retailer anything for a shirt because I felt like they were using the support of a cause in a fake way just to make money. ",
          "I only care about the product and it's price.  A seller's values have no effect on my buying preference. In this case I wouldn't pay more than $10 for a plain t-shirt regardless of who is selling it. ",
          "I think that most T shirts would cost about the amount of money I chose as the highest that I would pay",
          "A plain white tshirt is a simple product so I chose a low dollar amount as if I were considering buying a simple product. I would have increased the amount willing to spend if the shirt had a design or corresponded with a cause I believed in. ",
          "The amount I pay is really just dependent on how much I value the shirt. The other factors don't effect that. I wouldn't pay more than $10 for the shirt described regardless. ",
          "Simply for me, I don't need, nor want a plain t-shirt so $2 is more valuable than something I won't use.",
          "We are a large, low-income family, so I don't spend much on clothing at all.  So, to be completely honest, I would pay very little for a plain Tshirt, especially if I can't try it on. I would pay more to help someone I know, but, with so little margin, even that isn't much.  I'm a fan of thrift store prices.  ",
          "I thought the shirt was worth atleast $4 and I need a new shirt.",
          "I consider myself to be lower middle class. I'm not willing to pay very much money for a plain t-shirt. If I wanted a plain t-shirt, I would go to the thrift store. For a very high quality shirt that supports a cause, I'm a bit more inclined, but as I indicated, I'm not willing to pay more than $20 for a plain t-shirt, and I'd be hard pressed to even spend that much. (I understand that the shirt probably needed to be plain to minimize bias, but that's my reasoning)",
          "Plain t-shirts are something that is very easy to come by, and I am not willing to pay a very large amount of money unless the quality is very good, the design is very special, or the designer is someone who supports causes that I value and that help the earth and society. The maximum I am willing to pay for a plain shirt is usually about 10-15 dollars, and the higher end of the amount would be for a seller that I wanted to show support for due to shared values.",
          "I was willing to pay as much as the value of the t shirt. I was not willing to pay more than what it was worth. ",
          "I generally think shirts are overpriced so $8 is about where I feel t-shirts should be priced. I do not have a need for t-shirts at this time which also impacted my willingness to pay",
          "Based on price I usually pay for a plain T-shirt and willingness of seller to contribute before knowing they had an opportunity to sell more shirts.",
          "I really don't need a TShirt, so part of me didn't want to indicate I'd buy one for any price, but some of the prices were a good deal, so I set a low price and just went for it.",
          "For me, a clean, brand new T-shirt is worth between $10-$20 each. Past that threshold, the monetary reward makes more logical sense. ",
          "I don't put a very high value on T-shirts regardless of who a seller is. ",
          "Well to be honest I based my decision on how much I pay for a t-shirt at Walmart or Kohl's and on average is between 10 and $15 so I base my decision on that.",
          "In general I would never pay more than $15-$18 for a tshirt. Designs affect my decision to pay more and so do shirt meanings.",
          "For the most part I base my answer off how much I am willing to spend on a plain t-shirt. I also don't appreciate people people fake to sell products.",
          "Plain T-shirts are rather cheap, so I decided to maximize the amount I would pay for a T-shirt at $12.",
          "I purchase out of necessity and not to be fashion conscious. I wear clothes until they become faded, wear out, threads start to fray about. So whether clothes are on sale or not, whether the clothes are fashionable or not, whether the clothes are made of high quality material does not matter to me.\n\nI buy stuff based on necessity, that is when I need to buy them. So the amount I was willing to pay sellers really is immaterial to me in all cases. If I know that the product is high quality then I will purchase it at that time.",
          "In most cases, I buy plain T-shirts on sale from Goodwill during Black Friday events. In years past, Goodwill has had $2 sales for T-shirts. I donâ€™t like to spend a whole lot on T-shirts, unless the T-shirt has a specific message for a specific event that I would be attending. I personally have sometimes bought â€œmessageâ€ T-shirts for as high as $15 or $20, depending on the message, but I would generally go for $10 or under for a plain T-shirt. This is regardless of the sellerâ€™s personal opinion on certain political or public policy issues. ",
          "I usually have a limited budget so I can allow a little bit of money for better causes but I'm usually very strapped so paying a large sum of money on a single item of clothing would be ill advised. I do make an effort to spend a couple more dollars if it means that it's going to a good cause though. ",
          "A plain t-shirt is just that. However, when tied to a cause it adds a value to me or a purpose actually is a better way to say it. A plain t-shirt's purpose is to clothe me. A plain t-shirt that's covers me and is going to a business that supports something I value, is added value to that t-shirt. ",
          "My willingness to pay certain amounts did not change with scenarios. It was based on how much the shirt was worth to me. How much I would definitely pick one up if I saw it for that price. Since it is something I could get in a second hand store for pretty cheap, I was not willing to spend much on it.",
          "I think a fair value for a good made T-shirt can easily range up to 20$ but I don't see the value of one after that amount personally.",
          "My decision was based on economics.  I will not pay more that $24 dollars for a T-shirt no matter what is on it.   I tend to stick to my budget limits and even if it's something I feel strongly about, I will not pay more than $24.  ",
          "At the end of the day everyone has a million shirts so you really have to make it appealing. Not everyone will want shirts and the price point makes a big reason why",
          "Any t-shirt cost inexpensive  I am willing to pay.  Because I buy t-shirts from Macys and Old Navy for the same cost.  If I knew how the it like, fabric and design must clearer than I might buy for $20 - $25.  No, more then the price stated.  ",
          "I kept in mind the value of the shirt. If I were to go out and purchase a plain t-shirt from a shop, I thought about the amount I would be willing to pay. On average in my area, a plain t-shirt costs between $8 and $15. ",
          "I was able to pay a bit more when it was indicated that the seller would be allocating some of the money to a cause I care about. Otherwise, I chose what I would actually pay for a t-shirt like this in real life, and didn't go beyond that number.",
          "I honestly was just thinking that I didn't really want a plain t-shirt no matter who the sellers were.",
          "I would pay more even if it was a plain shirt if I knew the seller had the same intentions that I did.",
          "Just my general thought on the price of T-shirts. They are common, so I am not willing to go above a certain price, regardles off material, cause, etc. They are just T-shirts.",
          "Since Tshirts are something I have plenty of, I see a value up to a certain point, say $16.  After that I would rather have the value I could use for something else.",
          "Try to stay consistent with the amount of money I am willing to spend on a plain t-shirt.",
          "without knowing the quality of the shirts, threat count, softness, reviews and so on its hard to pay up without seeing it",
          "Generally speaking, the amount I would be willing to pay for a Tshirt varies little on what they seller supported but more on what I am truly willing to pay.  There are only a few topics that would make me not willing to pay anything: if someone was pro-life, I would not be apt to pay as much. I was hoping to make choices that provided the seller with as much earning potential as possible if I was chosen through the lottery.",
          "My choices were based on how much I would spend for any color plain shirt. I don't think I would spend more than $10-12 unless it was specifically for athletics or keeping dry and warm during camping.",
          "My reasoning was honestly paying little as possible as I would not pay a high amount for a basic plain t-shirt even in various colors. ",
          "I would pay the exact amount I find suitable for any-shirt regardless of the sellers values. I pay for the products not the seller.",
          null
         ],
         "marker": {
          "colorbar": {
           "title": {
            "text": ""
           }
          },
          "opacity": 0.5,
          "showscale": false,
          "size": 5
         },
         "mode": "markers+text",
         "name": "6_plain_high_15",
         "text": [
          "",
          "",
          "",
          "",
          "",
          "",
          "",
          "",
          "",
          "",
          "",
          "",
          "",
          "",
          "",
          "",
          "",
          "",
          "",
          "",
          "",
          "",
          "",
          "",
          "",
          "",
          "",
          "",
          "",
          "",
          "",
          "",
          "",
          "",
          "",
          "",
          "",
          "",
          "",
          "",
          "",
          "",
          "6_plain_high_15"
         ],
         "textfont": {
          "size": 12
         },
         "type": "scattergl",
         "x": {
          "bdata": "BywAQXWYAEHX5AFB7coIQeO7+ED5rgFBZ3b4QAghB0FdQvpAFvMBQQwoBEGxxP9AH00IQeo3AkGxsANB8HUFQWlABEHDyfpA/tEIQSfMAEHNfPZAEmL/QOArAUFVNPlAMMIDQb3M/UDXAQlBVAX1QBG+CUFRiQdBnV4GQS5WAEFeRQNBg8cCQekrCkH5BwdBFQT8QJlNAEHirwZBPnf7QEFAA0HF6QBBI2ECQQ==",
          "dtype": "f4"
         },
         "y": {
          "bdata": "WHS7QOJ3skA64cBAWNO8QCEIzED/47lARBq9QO2+uUDutLxAwXSuQGFhsEDu1LpA+Gm8QKvDyUAFzMFApT67QJzOw0Dgf9FA2JS6QFqww0B/QM9Aan28QAuNsEAcdL5AHzivQO6Xv0AsW71AoIHQQNORvkCzGblAVN+2QInPukCdQsZAIIfAQKwkvkCoRLlAwOLTQDupuEA7JblA8zfQQOw5yEBKnrlA4MS+QA==",
          "dtype": "f4"
         }
        },
        {
         "hoverinfo": "text",
         "hovertext": [
          "I think it matters moreso on how much I'd pay for the shirt and then after that, even if its for a cause, I wouldn't pay for a tshirt",
          "I'm not really confident (about the sellers) they would hold their end of the deal, not always the case, but people who offer to donate while selling stuff always seemed sketchy to me. Also I wouldn't spend too much on a tee shirt in real life, I am really cheap when it comes to spending. ",
          "A T-shirt does not hold very much value to me. The values of the seller didn't matter to me as far as I can make the donation myself with the bonus money to a charity of my choosing. ",
          "I usually buy good-quality T-shirts only when they're on sale, so I have a low threshold for something that is regular price and may be just average quality. When presented with sellers who would also donate to a cause I favor, I may be willing to underwrite the donation, but not go much higher than that.",
          "How much I perceived the value of the shirt anywhere I could buy it, plus extra for supporting climate a bit",
          "I would pay what I thought the T-Shirt was worth even if they are going to donate.  People have the opportunity to donate even if I don't buy a t-Shirt so if they are that committed to it my purchase should not matter.",
          "At the end of the day it's a basic t-shirt. I wouldn't pay no more than $20 even if it was a donation I wouldn't pay any more than that.",
          "I felt a plain shirt is valued at $20. If the seller is willing to donate 2 dollars to a cause I support I would be willing to split that donation with them and up my value of the shirt to $21",
          "Overall the shirt looked like decent quality, but nothing I would pay more for than a shirt that I feel like I could purchase at Target or Walmart. When it comes to the thought process when deciding how much to pay the sellers in different scenarios, I feel like I was somewhat more willing to pay more for the shirt when the seller wasn't influenced by monetary gain, but the baseline at what I would pay stayed the same whether or not the seller was supporting something or not. Overall, my prices were pretty firm on what I'd pay for the shirts.  ",
          "I have a minimum that i would pay for a plain T, and I am willing to support a group i feel strongly about but only for up to an extra few dollars.",
          "I didn't value a T-shirt very much to begin with so my willingness to pay was probably much lower than others. Regardless of whether they knew or not I thought at least giving them some profit to pay for the cause I support made more sense. At the same time I wouldn't price the value of the shirt over $8 without know more about it, so that explain my $10 minimum.",
          "I was willing to pay more for the tshirt if they were going to be donating to a good cause.",
          "I went with what I normally would spend for a t-shirt. ANd if they were going to promote a cause I am interested in and believe in I am willing to pay more. However, if it was all for gain, then I wouldn't be willing to pay as much because screw them",
          "I selected the exact same amount in each case. It's a purely economic decision and not an ideological one. I feel no kinship towards any of these T-Shirt sellers regardless of whatever farcical causes they support. It's a T-Shirt for Pete's sake.",
          "Whatever benefits me the most but honestly just a plain t shirt is not a lot to me, maybe if it was comfort colors and had HARRIS slogan with the BRAT album cover then I would want the t shirt more than lets say 10$.",
          "I decided how much I would pay  based on my desire for the option I chose.  I did indicate I would pay a little more for the t-shirt if the seller was donating money for gender equality (whether they were aware it could help them sell more t-shirts or not).",
          "I decided based on the value of the tshirt and if the seller supported more of my cause.  I would not care as much if it were I cause I was not passionate about.",
          "I was only willing to pay what I felt the tee shirt was worth reguardless if there was a charity involved or not",
          "Just wondering on the quality and the actual look of the shirt.",
          "Well, I have owned a t shirt shop before and the \"information\" you provide was completely useless. I don't know if it is a light or heavy fabric, if it is 100% cotton or blend or any of the other myriad considerations one ponders when buying a t shirt. That being said... $14 is the MOST I would pay for a high quality blank shirt. That is just economics. All that donating stuff means nothing as most of the time it is just a scam. You wanted my honest opinion... you got it.",
          "Personally I have large medical bills and money is tight.  I would not spend more than 6 for a tee shirt no matter what the cause as I know I can get one for this price locally.",
          "For the sellers supporting a cause I believed in, I was willing to give them the $2 they were going to donate. But I don't really need a t-shirt and it seems like a waste to manufacture and purchase and ship one that I don't need, so I wasn't willing to pay a lot of money for something like that. Overall I would rather just take the money and then I can spend or donate it however I see fit.",
          "I'd rather have the cash than a tshirt to the bare minimum so i left to to be a straight donation",
          "T-shirts don't typically cost a large amount of money so I wouldn't typically invest more than $20 for one but since a donation goes to a cause I care deeply about I feel compelled to buy a T-shirt at a higher price to support the seller. Despite the scenario was one seller knowing about the donation and the other one not did not make a difference to me.",
          "if i were to choose to donate anything above the 2$ mark i recieved i could donate myself without using the shirt and donate a larger amount",
          "I never spend much money on clothing, preferring to thrift shop for unique items that I really want, so $8 is about my ceiling for a plain tee shirt. I was willing to add the $2 which would be passed on to the cause I support. It did not matter to me whether the company knew or did not know.",
          "It was just a blank t-shirt, not very exciting or interesting. I would've maybe had interest in paying \"more\" for the shirt if it had some kind of unique design on it, but in regards to just blank color block tees, I much rather have the money.",
          "I would take the shirt over the money at a value $2 higher, because they are supporting a good cause, no matter whether it is motivated by profits or implicit.",
          "I'd always rather money than a plain white tshirt, regardless of the charities/causes involved",
          "I will buy the seller's T-shirts if they donate to the organization I support.",
          "I thought the shirt was about $17 or so value. Not much more evaluation otherwise. I care about the issue but not enough to allow a donation to sway me.",
          "I chose the same response for all because there is only a certain amount that Iâ€™d be willing to pay for a plain shirt. The donation has no effect on whether Iâ€™d pay more or less. The only thing that would determine this is what type of material the shirt was made from or if there was an image on the shirt.",
          "It was a plain shirt so I wasn't really going to pay more than 10 or 15 dollars. But when I saw the sellers supported a cause, I would pay them a little bit more.",
          "Other than the $2.00 donation for gun rights I see very little personal value in the tshirt",
          "The t-shirt does not hold much value and with the number of participants, it is unlikely that donations ($2) would add up to impact the Right To Privacy Value positively.",
          "Clothing doesn't hold much value to me even if the clothing itself were inherently valuable, so my cutoff is probably lower than most people. However businesses sharing values I often feel a sense of comradery with and thus am willing to pay a bit more.",
          "I considered what plain t-shirts typically cost and what I typically will pay for them. I feel like $20 is worth more than a plain t-shirt, which is why I would take the t-shirt up to that amount. I would support someone a few dollars more if they held similar values. ",
          "When deciding the price I was willing to pay for a plain t-shirt, I first considered what constitutes a good price for such an item. Gildan sells plain white t-shirts for around $15, while brands like Carhartt offer thicker cotton t-shirts for about $20 each. I set my benchmark based on these prices.\n\nConsidering the numerous color options available, I assumed that these shirts must be relatively cheap to produce. If the brand was unknown, I anticipated some unusual marketing claims about why they were a \"better\" option, likely pricing their t-shirts around $30-$35. For me personally, that was the maximum I was willing to pay.\n\nWhen it comes to companies doing charity work, I expect to pay a premium. For plain t-shirts with no additional backing or cause, I would pay at most $25. For charity-based ones, I can see the price going up to $45-$50 per shirt. However, I would not pay more than $34 for just a basic plain t-shirt.",
          "I donâ€™t like paying more than an item is worth even if it means they will give more charity.  I would buy the tee shirt for the amount I feel is fair and give charity.",
          null
         ],
         "marker": {
          "colorbar": {
           "title": {
            "text": ""
           }
          },
          "opacity": 0.5,
          "showscale": false,
          "size": 5
         },
         "mode": "markers+text",
         "name": "7_charity_donation_minimum",
         "text": [
          "",
          "",
          "",
          "",
          "",
          "",
          "",
          "",
          "",
          "",
          "",
          "",
          "",
          "",
          "",
          "",
          "",
          "",
          "",
          "",
          "",
          "",
          "",
          "",
          "",
          "",
          "",
          "",
          "",
          "",
          "",
          "",
          "",
          "",
          "",
          "",
          "",
          "",
          "",
          "7_charity_donation_minimum"
         ],
         "textfont": {
          "size": 12
         },
         "type": "scattergl",
         "x": {
          "bdata": "FKvmQOnP3kB01OJAsE0AQclh4kATNeNAIKjkQEvL9UCImM9ApXzfQCAp7kApt9dABGTvQMfJ4EDRvuNAyarIQDeCxkABFd5AQn3TQIjh8EBcnOpA/yTgQDJu3ECD/N9ArzfeQAh26kAdb/NAqzHiQGY52UCVwd5AxlrlQDTx3UDzePxAq+/kQGTq5kADZ/pARfTsQAGF/0D1IuRA67TkQA==",
          "dtype": "f4"
         },
         "y": {
          "bdata": "52mwQK1Ju0CxP7xAElKzQCv6qEDfS7ZAhyCwQJEZt0AyYbFAl36yQCNVvEBI/atAhS3JQDG0v0DZ5r1AxvmyQEwMxUA8rLFAGguzQGkMtUB807NAf2G7QKmKsUBTPb5AE5y0QIBUvEBPK8pAZsS0QEiprkCx77tAsz+rQKA+vEBdY7lA+2ikQGJrpUBXQblAby64QPy7r0CwxbVAQDK2QA==",
          "dtype": "f4"
         }
        },
        {
         "hoverinfo": "text",
         "hovertext": [
          "In general, the T-shirt was not that appealing to me since it was just a plain T-shirt. I felt like a bonus under $10 was equal to the cost of the T-shirt. Because the seller was going to donate the money out of their earnings, I decided to increase my choice to a bonus under $14 because I felt that was sufficient to cover the donation.",
          "I chose what I was willing to pay the sellers in different scenarios based on whether they knew before or after they knew or didn't know their opportunity to be able to sell their t shirts in the market. It showed me who would be willing to sell their t shirts with or without knowing information first before making their decisions. It has shown me that some sellers were more willing to sell their t shirts no matter what the decisions or other outcomes were before or after they made their decisions to sell their shirts.",
          "I need money desperately right now, so I selected as much money (around 18 dollars) as I though would possibly be a helpful bonus to me while still leaving a little room to win a T-Shirt for amounts of money that wouldn't be quite as helpful.",
          "I initially preferred the bonus payment to the T shirts no matter how small the amount except 0$ but was willing to pick the T shirt instead of the $2 bonus on hearing the seller also supports Traditional values as most important like myself in order for the seller to benefit a little. The seller who supported after finding out about the opportunity to sell didn't matter too much nor made much of a difference to me even though the one who supported the same Traditional value as me without knowing about the opportunity would be a stronger supporter. For me, support is still support even if it was realized later. Hence I was willing to pay them both the same.",
          "I decided how much I was willing to pay sellers in different scenarios by the number values that were offered. I believe that I will feel better if I choose the t-shirt over the money to show support to the seller. Also, I feel that up to a certain amount, I am willing to choose the t-shirt. However, I also chose the money because I believe that the t-shirt may not be as valuable. ",
          "I wasn't sure if I fully understood what was being asked but I read everything and tried my best. I tried to base in on how much I would like a tshirt vs a bonus payment. But I was willing to pay more for the tshirt when I knew my purchase helped out the charity/organization in question. ",
          "It only mattered whether I wanted a T-shirt or not. I do not want one but would take on versus getting nothing. It would have been different if they supported causes I don't like, then I would have always picked the bonus even at 0 dollars. ",
          "The shirts are of similar quality, so it made sense to reward sellers that showed support for topics that I care about. If they expressed support BEFORE there was any other inducement revealed, that was even better.",
          "I honestly didnâ€™t really want or need a free t-shirt so I put that I would rather receive bonus payment. I was willing to give the seller $4 who was willing to donate $2 for every purchase towards Fighting Climate change because it implied a genuine desire to support a good cause. I wasnâ€™t as willing for the seller to chose to donate after the incentive to gain profit was present because it felt scummy and a false attempt to feign support in order to earn more.",
          "I considered cost of an average blank shirt, if it was more than the reward, then Iâ€™d selected the reward. When factoring in donations to a cause, I was willing to spend a little more.",
          "I am personally not a fan of online shopping for clothing items. Therefore, my willingness to choose the T-shirt over the bonus payment was very slim with a certain threshold. I am also fairly frugal with my money and would not spend more than $14 on a T-shirt purchased online. However, I would support a business that supports my values to a larger extend than one that is simply virtue signaling or does not represent similar values as I.",
          "Well how much I was willing to pay sellers did not change in any of the scenarios. I have plenty of t-shirts at home so I would only be willing to get a t-shirt if it were free. If the t-shirt isn't free, I'd rather just get money instead, which is why I was unwilling to pay above $0 for a t-shirt no matter the scenario.",
          "I picked what I thought was a reasonable price for a plain white t-shirt as a cash bonus in the 1st choice. For the 2nd choice I added a couple dollars to the price for the donation for the seller who donated without knowing about the ability to make money. I added  4 dollars to the price and a cash bonus for the seller who knew they would make money. It just seemed like a good idea at the time.",
          "I thought it was more valuable to me to get a bonus compared to a tshirt where I don't know much about them besides what they support.",
          "Firstly, I wasn't that willing to pay much for the T-shirt since I need the bonus money more than I need a T-shirt. But when I was given the opportunity to spend some money on a T-shirt and money from that purchase would go toward a value I felt deeply about, I was willing to pay a little. Finally, I was willing to pay more for the T-shirt from a seller who agreed to donate without having knowledge of the opportunity to sell because it seems like that persons views are more genuine.",
          "I don't have a lot of money, so any amount of extra bonus given to me is very helpful to my life and is far more important to me that giving someone else a small bonus just because we share one value. I pretty much gave the same responses to each seller with the exception of the last one because I thought \"I would have pledged part of my sales with the hope that the buyer would buy more shirts from me\" if I were in the seller's position. ",
          "I'm probably underbidding on the price of the shirt, but I'm more interested in the bonus payment and can't afford to give excess money away. However, I gave a slight bump to the scenario with the good cause seller identified..even though, as I understand it, the purchase price is not directly going to the cause.",
          "I needed to be reasonable by comparing the prizes to those online and in market stores. I had to be realistic and moderate in my approach.  ",
          "i picked to take the bonus instead of the shirt because the seller supported racial justice just to gain more sells but I wanted the shirt more because the other seller support was legitimate ",
          "Base line: I prefer a monetary award. The seller who chose my value without considering profits went up a single notch, that's all.",
          "I really wasn't attracted to the t-shirts, since I buy all my clothing from thrift stores. Therefore, the choice in each scenario was easy: I chose the t-shirt if and only if there wasn't the option of receiving any remuneration otherwise. Thus, I simply chose the t-shirt in case I would receive 0$ otherwise. The details about the seller (what they believed in, whether they knew in advance, etc.) didn't affect my choices in the least.",
          "I was more willing and likely to choose a t-shirt over the bonus if the seller supports a cause that I really believe in, like climate change.",
          "Sellerâ€™s Support for Values:\nNeutral Seller: For the neutral seller, my decision was based purely on the product itself (the T-shirt) and the price. Since there were no additional factors influencing my decision, I focused on the value I placed on the T-shirt alone.\nSeller Supporting Racial Justice: Knowing that this seller supports a value that is important to me (Racial Justice) added a positive bias. I was more inclined to support this seller because their values aligned with mine, which made me willing to pay a bit more for the T-shirt.\nSeller Supporting Racial Justice for Market Opportunity: Although this seller also supports Racial Justice, their support might be driven by the opportunity to sell more T-shirts. This made me slightly cautious, but I still valued their support for an important cause, which influenced my willingness to pay.\nProduct and Price Consideration:\nI considered the quality and utility of the T-shirt itself. Since the T-shirt is a basic item, I evaluated how much I would typically be willing to pay for such a product in a regular market setting.\nI compared the T-shirt to the bonus payment options. For each price point, I weighed the value of receiving the T-shirt against the monetary bonus. This helped me determine the maximum amount I was willing to pay before preferring the bonus payment instead.\nImpact on Sellerâ€™s Earnings:\nI understood that my willingness to pay directly affected the sellerâ€™s earnings. This consideration made me more thoughtful about my choices, especially for sellers who supported values I cared about. I wanted to ensure that my decisions reflected my support for those values.\nAnonymity and Fairness:\nKnowing that my choices were anonymous and that sellers would not know my identity or specific decision scenarios, I felt comfortable making honest decisions based on my true preferences.\nI aimed to be fair in my evaluations, ensuring that my willingness to pay was consistent with my genuine valuation of the T-shirt and the sellerâ€™s support for important values.\nConfidence in Decisions:\nI considered my confidence in the sellersâ€™ motivations and the quality of the T-shirt. For sellers who genuinely supported important values, I felt more confident in my willingness to pay a higher amount.\nFor the neutral seller, my confidence was based solely on the product itself, leading to a more straightforward valuation.\nOverall, my decisions were influenced by a combination of the productâ€™s value, the sellerâ€™s support for important values, and the impact on the sellerâ€™s earnings. I aimed to make thoughtful and fair choices that reflected my true preferences and support for values that matter to me.",
          "I am usually willing to pay a little bit more for a good cause that I believe in, but I am not currently in a great financial situation, so I cannot pay too much for products right now regardless of what the seller believes. I saw the option for a t shirt or 0 dollars in bonus, so I decided to take the t shirt option.",
          "I was willing to accept the T-shirt to up to $20 bonus when the organization supported what I thought was most important, climate change. When I didn't know the organization supported climated change, I was willing to accept the t-shirt to up to a $10 bonus. When the organization supported causes I like, I'm willing to accept a t-shirt over money. ",
          "I don't find a plain t-shirt very attractive. I'd rather possibly have a bonus, even if it's for a relatively small amount like two bucks. Didn't really care whether they supported 'fight climate change' or whether they knew about the market opportunity in the task",
          "My reasoning was the same for all three. It's better to have the opportunity to receive a t-shirt than to receive no bonus payment. In my current financial situation, bonus money would always have more value for me than a t-shirt. If I had been in the market for that shirt, I would have selected the seller who made the choice to fight climate change without knowing that such a choice would affect their sales. It seemed disingenuous to support the sellers who would express support for a cause predicated on the possibility of earning more money as a result. ",
          "I highly value a quality t-shirt over a bonus. I only decided to offer slightly less to the seller if he knew about supporting a cause before selling the shirts. I donâ€™t know enough about the seller to determine whether or not they are honest.",
          "I feel the sellers knowing about the opportunity for higher pay would lean towards this option since it would increase their profit. Some of these individuals may or may not truly believe in the cause they are advocating for when selling their merchandise. In these instances, I felt a lack of authenticity. This made me less likely to buy their shirt.",
          "I generally wanted a bonus instead of a t-shirt because receiving a t-shirt is too much trouble. I was willing to buy a t-shirt from someone that was willing to donate to Fight Climate change without knowing about the chance to sell beforehand for a higher price because I know that he is going to be down $2 no matter what. I will pay a higher amount from a tshirt for that person because he is already incurring a cost to help something that I believe in. Even for the seller that knows he might be using Fight Climate change to sell, he is still donating money in the end. It might feel a bit scummy to use a cause to sell tshirts, but money for a cause is money for a cause. It doesn't really matter for me if the intentions aren't pure, $2 is still going to Fight Climate change on a successful sale.",
          "I went off real life things I've done. I recently spent more money than usual on clothing because the company supports mental health initiatives.",
          "Each scenario I input my best opinion towards satisfaction and payout. I valued tshirt price as a shirt i would purchase online, average about 10-20 dollars. I estimated what I would accept or prefer as a tshirt. I also considered if I would even like a tshirt. I also input the values in question. These values also changed due to price option, faith, or privacy.. rated and judged according to my own prefered tier. ",
          "As a larger man I do not like the fit of a random t-shirt nor do I wear plain t-shirts. I prefer graphic tees and the ability to test the fit or know the brand that fits me well. Therefore I did not put much need on the tshirt side and preferred any payment. I decided to switch the $2 bonus to the t-shirt for someone that supports right to privacy as more of a donation to them for their view.",
          "I tried to be fair and be honest. I didn't really want to pay too much for a T-Shirt. I did agree to pay something in order to show my support for them however. I just feel the bonus payment would be more beneficial to be honest.",
          "I would rather receive a bonus or a free T-shirt than to attempt to increase sales for the seller.",
          "Based on the selection of Racial Justice, I wanted to reward the seller in some way given the importance of this value to me. However, I also selfishly wanted to get a bonus. When the seller did not know that they could increase sales, I opted to for the bonus at a higher value than I did when the goal of the seller was to sell more T-shirts.",
          "First i thought about the shirt itself, what the value of the shirt is to me versus the bonus money. Then i thought about the values of the seller and how sincere they were. For someone who honestly wanted to help climate change i was willing to pay more, but if their decision was driven by sales, i was not.",
          "I was willing to pay sellers without taking the bonus when I felt that they came into the cause (example racial justice) with good intentions, meaning they did not need an incentive to support the cause.",
          null
         ],
         "marker": {
          "colorbar": {
           "title": {
            "text": ""
           }
          },
          "opacity": 0.5,
          "showscale": false,
          "size": 5
         },
         "mode": "markers+text",
         "name": "8_bonus_sellerâ_confidence",
         "text": [
          "",
          "",
          "",
          "",
          "",
          "",
          "",
          "",
          "",
          "",
          "",
          "",
          "",
          "",
          "",
          "",
          "",
          "",
          "",
          "",
          "",
          "",
          "",
          "",
          "",
          "",
          "",
          "",
          "",
          "",
          "",
          "",
          "",
          "",
          "",
          "",
          "",
          "",
          "8_bonus_sellerâ_confidence"
         ],
         "textfont": {
          "size": 12
         },
         "type": "scattergl",
         "x": {
          "bdata": "AbPhQMt8x0CtfutA+hXWQCPAxUDoBNtAojLdQFRp10CMDtdAi37qQK/w4kALCt5AKTbdQKIv4EChBdpA/n/VQDwD20DRxONA75DfQJVCwkCFitJAsSTfQD8ckkB/Y+BA2XPZQMMe2UBZR9hA1RDbQG7z4EDHm9NARL2jQAayx0BFy+NAoEDaQN721kBUio5AKALkQF/Oz0DmrNRA",
          "dtype": "f4"
         },
         "y": {
          "bdata": "Ak0HQSq150CGK+xA91MFQTp/60AYtQRBWIYKQduJBUErYwRBg7fxQB19CUFpT/ZAq6cDQU1jC0FA3ANBfMsEQfMnBEFk/vdAJQ4MQef980AQGPtAz+kIQYW0wEAPjwhBrEYIQb6OCUGRlAdBBS0EQThzBkF52gRBKQrgQHyX6kAwAQpBbg8GQVPEBkF36bxAudUGQTgvBUEC1gBB",
          "dtype": "f4"
         }
        },
        {
         "hoverinfo": "text",
         "hovertext": [
          "My reasoning when deciding how much I was willing to pay sellers in different scenarios were based mainly on the look of the shirt and on my past experiences of buying shirts. I knew how much I would personally be willing to pay mostly by just looking at the shirt and the colors. When the seller mentioned that they agreed with gun rights BEFORE knowing that it would help sales, it didn't change my opinion on how much I would pay because regardless of their opinion, I would still be interested in the product. However, the seller who stated they agreed with gun rights after knowing it would help with sales, influenced me to pay a little less because it felt slightly less trustworthy and like they may care more about the earning than the quality of their product.",
          "I am willing to pay a fair market price for a decent quality shirt. I am more likely to spend more than the usual ticket cost if I know some of that money will be used to support causes with which I am aligned. However, if I know--as in scenario 3(?)) that the corporation donates to causes because it anticipates more sales, I guess I'm a bit turned off by that, even though the organization would still be receiving the funds. Now that I've typed this all out, it seems silly that I wouldn't pay the same amount, regardless of the vendor's motivation, since the purpose of paying more is to benefit the cause.",
          "Yes, I was willing to pay a little more for the sellers who supported gun rights. It was just something I felt was the right thing to do. I also offered a reasonable amount of money for the shirt.",
          "People taking these surveys are generally poor and frankly are put off when you're talking about a $20 T shirt so that affects their decision even though they could get the T shirt for like nothing or two dollars, I believe they are poisoned by what was spoken of before in the text about a $20 T shirt. I also believe most people thinking money would be at stake for selling the T shirt would probably not talk about issues so much like gun control or racial issues or things like that. So the choices like I chose the race show thing as the least important because that mostly deals with the DEI stuff which is very discriminatory and it's bad and that's why I chose that and I chose gun rights because it's the only thing that was actually not really bad among all the things but it's still very important. I actually don't even own a gun myself and probably will never get one but I think it's right that people have the freedom to defend themselves.",
          "I took into account that their valuie matched mine. I gave extra money to the seller whos valuie matched mine but was informed that it declaring that value would positively effect tshirt sales. I gave even more to the one who was not aware of that declaring that value would postiviely effect tshirt sales. The reason I did this is because I feel a common bond and solidarity with that seller. Also the fact that theyre willing to declare that even though it could hurt their sales is respectable and brave and shows me that they really believe in it",
          "I increased my willingness to pay a higher price for a t-shirt knowing they were in support of a good cause that I agreed with. I was willing to increase it even more when they supported it without knowing about the opportunity to sell. This shows a company is ethical and responsible and I'm more willing to support them financially and be more generous with my money knowing a portion is going to a good cause. ",
          "I felt no connection whatsoever fowards the first seller espcially as these are plain t-shirts. I felt the second seller was insincere but did support the organization that I liked the most. While the tird seller supported the organization I liked the most as well and was sincere, I also thought how much a potential bonus could help me today in these trying times.",
          "I thought about the morals of the seller for one, and their support something that means so much to me and that's the Faith in Public Life.  Also, I felt I wanted to give back to these merchants by supporting them as well.  ",
          "My reasoning behind what I was willing to pay sellers was based on how much I would pay for a plain t-shirt. For the seller who indicated support for the issue that was important to me without knowing about the opportunity to sell items, I increased the amount to what I would be willing to pay to a vendor that could potentially contribute or bring attention to a cause that I also support. ",
          "With the first seller, I just thought about how much I would be willing to pay for a t-shirt. When the second and third sellers were aware of Fight Climate Change, I was willing to pay more with the idea that the money would go towards the cause. I personally don't care if someone is using the cause to boost sales, as long as the money is going to the cause they are advocating for. ",
          "Economics - T-Shirt vs bonus amount.  I can get a t-shirt on clearance for under $8.00.  I don't care one way or the other with the Gun-rights person (unless they were vulgar.  You have a right to think any way you want to.  LBBTQ+, I do not support.  Sexual orientation is your own business, and I don't want it pushed on me or my family.  I consider it vulgar to talk about this sort of thing openly, especially with children.  They shouldn't learn about this sort of thing until they are mature enough to understand.",
          "First, I considered the T-shirt value and what I would pay for a basic shirt. I looked at the amount they were donating, and I added the amount to the total. The seller who donated when he knew about the sales opportunity did not deserve additional money. I only donate when there are genuine efforts.",
          "I know how much I can get a plain shirt I like for at, say, a crafts store. They're not very expensive. I decided I would pay a little more for the person who also supported efforts to fight climate change, since they would benefit. But I went back to the original willingness to pay in the scenario where they knew they were selling, since I didn't know if that support was real. Ultimately, the difference in willingness to pay was slight so it didn't matter much at all, but that was my initial instinct.",
          "I thought mostly about the motivation people would have about donations because they wanted to support the cause or were they strictly motivated by the amount of shirts they could sell and money they would make.",
          "To me, a t-shirt is not an item I value all that strongly. In the case of a neutral seller, unless I got the shirt in lieu of $2, or free, I'd much rather take the bonus. In the other two cases, I'd be willing to offer the seller ever-so-slightly more if only because our political views align. I'm not concerned about whether they voice support for gun rights based on the opportunity to sell or not. That said, I still don't value a t-shirt much, but I'd be willing at least to forego $4 to get one given the donation amount expressed in the scenarios.",
          "without the T-shirt selling opportunity, about 40% of sellers would support Gun Rights. With the opportunity, this could jump to 70% because it could attract more buyers.",
          "I felt that if they had the same values as me, I was willing to ensure that they made a decent amount of money off of the T-shirt sale since they were willing to donate part of it towards the value we had in common. It really didnâ€™t matter to me, whether they stated, they were for value before or after they knew about the T-shirt opportunity.",
          "Most people are \"gun rights\" people, and therefore will buy more tshirts that are supported from sellers that going to donate to a gun lobby.\nThe LBGTQ+ special interest group is a small, insignificant group and would be a smaller segment of people to buy a smaller amount of tshirts from sellers that would support such a group.",
          "well for the sellers who knew about the opportunity to sell T-shirts to spread awareness and endorse their belief I could trust them more to give to the organization. than say a seller who doesn't know that T-shirts could spread awareness and or doesn't make contributions to the organization. But say that they do. it makes them look un trust worthy. ",
          "I based the seller without any causes attached off of what I usually spend on a shirt ($10-$15) and made my decision off of that. When they were willing to donate to make more sales, I would feel a little more generous on spending. And last when the company is truly generous enough to donate without needing the incentive I felt like that should be more rewarded. ",
          "The first scenario did not include a donation. So I just based this one on what I would be willing to pay for a basic tshirt. The second scenario donated on their own free will. Since the right to privacy is important to me I was willing to pay a little more than I normally would in order to benefit the donation and seller. The third scenario only chose to donate to benefit themselves. Which to me sounded greedy. ",
          "In the first scenario I thought only of how much I'd be willing to pay for a plain shirt. In the second, I decided that a person willing to donate a portion of their earnings to fight climate change deserved support, so I was willing to spend more. In the third, I decided that it didn't matter to me that the seller was willing to donate some earnings to fight climate change - I'd still pay the seller more if they are donating some for a cause I believe in.",
          "I thought there was added value to the shirt from the seller who was willing initially to donate to my most valued cause without first calculating how it might benefit their sales. I was willing to pay substantially less for a shirt from the sellers who pledged to donate only after knowing/ calculating how it might benefit them to make that pledge. When it came to cause that I most objected to, which was characterized as faith in public life but was actually a right-wing Christian anti-abortion group in disguise, i greatly reduced my willingness to buy their shirts. On reflection I don't know which I object to the most, the sellers holding this objective out of principle, or those doing so after a calculation that it could benefit their sales.",
          "I think it's important to remember some of the values that may be important to some people that may not be as important to others. There are some people who hold strong thoughts regarding guns and the right to maintain guns so I think those people would support buying the tshirts regardless. ",
          "I thought the last 2 sellers seemed most sincere, were investing in Green causes and I felt they were relatable.  ",
          "When deciding how much to pay sellers, I first consider my genuine interest in \"Fight Climate Change\" and the value of the T-shirt. If Iâ€™m passionate about this cause, I will offer more to support it. Once I learn that my payment can influence how many T-shirts sellers sell and potentially increase their earnings, I adjust my offer strategically. I might pay more to support \"Fight Climate Change,\" knowing that aligning with this cause can help boost sellers' success and reflect my values.\n\nEven though I donâ€™t support \"Gun Rights,\" I might still pay for it to influence the sellers. Before knowing about the market opportunity, I estimate that about 27% of sellers might show support for \"Gun Rights.\" After learning that my payment could impact their sales and earnings, this percentage might increase to around 37%, as sellers might see a strategic benefit in aligning with a cause that could resonate with certain consumers.",
          "In deciding how much I was willing to pay, I mainly took into account what I perceived as the authenticity of the seller's values. In the scenario where they were made the decision to support the associated organization after they were told about the prospect of selling more shirts, I was more hesitant to give my money to the seller.",
          "What I was willing to pay sellers was more impulsive reasoning where I was thinking I would rather have a bonus than wait for a t shirt because I could always donate part of my bonus for gun rights. I automatically went with myself taking a bigger bonus and donating more money to gun rights myself rather than think about it. It seemed the most logical to me especially because if I received a high bonus I planned to donate a good chunk and not just a few dollars and for faith in public life my reasoning was when it comes to faith people who do not support religion being part of public life feel very strongly about keeping faith out of public life and would be less likely to support anything to do with faith regardless of any profit because in my experience it has seemed to be something they take personally and not an issue where they are able to easily see things from the perspective of others. Because of my experience I don't see selling more shirts having much effort on sellers who don't believe faith should be part of public life where gun rights are something they would be willing to accept because usually the people not for gun rights are intreated in regulation and not outright banning guns. So, I felt by picking bonuses for faith they will definitely have a better chance of getting more money by donating a good portion of my bonus to them myself if I get it. Hopefully this makes sense but if you would like me to clarify my reasoning more, please do not hesitate to message me and ask me. I want to help provide the best data I can for your research.",
          "In all honesty, I found the concept of purchasing a plain T-Shirt without any political slogans and how it relates to \"Gun Control\" akin to comparing apples to oranges. I answered the demographic questions and those registering my honest opinions honestly and in good faith. As to my responses on which T-Shirt I applied the SWAG Principle. To insure you understand my methodology and are unfamiliar with this principle... I will define the acronym as \"Silly Wild Assed Guess\". ",
          "I wanted to maximize my possible earnings. I don't value t-shirts very much and wasn't motivated to increase the amount I'd prefer the t-shirt for except a little bit for the person who supported gun rights without being told about the market opportunity for doing so.",
          "I would imagine that while the cause may be important, the need to make back their costs and perhaps make a profit might be a general motivator. If a market has been identified, I suppose there would be more interest in marketing the tee shirt regardless of the cause promoted.",
          "With no cause attached, there's a limit to how much I'm willing to pay for a plain tshirt, and that limit is pretty low. When a good cause is a factor, I'm willing to give more to someone that is not only donating but also doing so because they want to rather than because it might make sales. Donating to increase sales might be disingenuous, but the money still makes it to the cause.",
          "I was willing to pay a bit more to the sellers that donated a portion to the Fight Climate Change initiative, because it's a great effort to support and aligns with my personal values. I was willing to pay more to the seller that didn't know about the market opportunity beforehand because they have a genuine interest and value in the Fight Climate Change initiative. While the seller that knew of the opportunity beforehand still made the donation, they come off more as a greedy grifter who only did it for the potential of making a profit off selling shirts.",
          "The reasoning behind the amount of money I was willing to pay sellers for a tee shirt in the first scenario where they were willing to donate based on my most favorable value (Right to Privacy) was that I agreed with the company, even though I was willing to pay less after finding out that they were only donating based on knowing that it would help to sell tee shirts.  Marketing is very complex though, and I feel like they need that edge to sell plain shirts.  Even if it is only based on increasing revenue, the donations to Right to Privacy are still important to me.  ",
          null
         ],
         "marker": {
          "colorbar": {
           "title": {
            "text": ""
           }
          },
          "opacity": 0.5,
          "showscale": false,
          "size": 5
         },
         "mode": "markers+text",
         "name": "9_gun_sales_opportunity",
         "text": [
          "",
          "",
          "",
          "",
          "",
          "",
          "",
          "",
          "",
          "",
          "",
          "",
          "",
          "",
          "",
          "",
          "",
          "",
          "",
          "",
          "",
          "",
          "",
          "",
          "",
          "",
          "",
          "",
          "",
          "",
          "",
          "",
          "",
          "",
          "9_gun_sales_opportunity"
         ],
         "textfont": {
          "size": 12
         },
         "type": "scattergl",
         "x": {
          "bdata": "07qlQCy6rkC+OqZAR32mQCRyt0A0SJ9Ag6qjQIyVm0BcVJxAS6agQA1vW0DU1dpAkjOeQGwhuEDvCadAxL2mQNa81UDj0adAraCzQE75uUAvSa1ABPKgQPUzr0Dqx6ZA0m+hQJFUpkDSMKpAp+KkQPmlpkDDk6lA+ue1QEK5tkBG8J9A1jasQA7iqUA=",
          "dtype": "f4"
         },
         "y": {
          "bdata": "mA+4QGRXx0AiWbZAz2utQPuR1EBjyd9A6PjUQAAr1UAcitVA3//RQN20mECXecBAZ3TTQEeSxUCXOLZALpeuQCT6ykCDEaxA2V/JQJ4+yUAqfsxAEfrRQGpnxUAaaK1AEW/TQAN0vUACws5Aq9u4QJzOrUCfpK9A+obCQOqCwkCigtJAUZjJQGBcw0A=",
          "dtype": "f4"
         }
        },
        {
         "hoverinfo": "text",
         "hovertext": [
          "I was not willing to change how much I paid based on the seller's view on social issues. This is because the T-Shirt is most likely fast fashion so they would already be perpetuating issues around the globe. Why should I care about the ethics of a company which is clearly already cares about profit over morality?",
          "I was just willing to spend more for the t-shirt if the seller supported what matters to me, especially if the t-shirt has a graphic design on it which reflects what I care about.",
          "I was willing to pay more for the t shirt if they shared my values like the climate change. I could not even buy a t shirt from a company that supports faith in government. If I don't believe in what they believe in, I probably wouldn't be a shirt from them. If I strongly believe in what they believe in, I would pay more especially if they donated some money to my cause ",
          "I don't think I'd pay much extra for a plain T-shirt just because of the stated social values of a company. ",
          "I think if it's a good quality shirt they deserve to be paid, I think if somebody has the core values of supporting Rights without having money thrown at them is something that is more appreciated. And I think the person /company that would want to sell merchandise that has the rights after they found out the money is just in it for the money. They don't really care one way or another.",
          "I wasnâ€™t willing to pay too much for a tshirt endorsing any particular value because I tend to keep my views and opinions to myself because lately society canâ€™t seem to handle rational, calm conversations about certain things. Everything is so politicized itâ€™s ridiculous. ",
          "I would not care who they did or didn't support. I just wouldn't pay more than $16 for a plain t-shirt. ",
          "Well, to be honest I don't exactly need a shirt, so I'd rather just have the potential for a bonus amount of cash. Regardless, someone's political stance doesn't really have an impact on how much I will spend on them (unless it's something completely, objectively egregious). I'd likely spend the same amount of money on a shirt, regardless of whatever stance the people who made the shirt have.",
          "When it comes to marketing T-shirts, I would think that the inclination to sell would tilt their feelings  toward the position favored bythe buyer. I based my percentages initially by assuming t-shirt makers are majority liberal to start.",
          "I don't use t-shirts often, so they aren't a big deal to me.  I also view a free economy as one that regards good business as important and does not pay much attention to the individual values that a seller has beyond doing good business.",
          "I didn't see any real reason the t-shirt was worth not getting the money, I'd take a free shirt from anyone, but as for paying \n1. Ideally it is from a company I largely agree with on values if I am to pay more and I know/can learn more about said company beyond it superficially supporting something.\nOR\n2. It is a product I cannot or only with great difficulty get a relative equivalent elsewhere",
          "It really depends on what I think is the value of the shirt to me.  I am not willing to pay x amount of money for a shirt that I may not wear just because they support a cause that I believe in.  It still boils down to how much do I want this shirt.  ",
          "I am not willing to pay more than $10 for a plain t shirt online. The sellers that were making a donation to a cause that means something to me, I didnâ€™t mind paying slightly more.\nThe ones who were fore something Iâ€™m against I would probably pay less. \nHereâ€™s the thing though, I really do not want to know everybodyâ€™s views and politics. Iâ€™m buying a tshirt, keep your politics to yourself",
          "Strictly looked at the t-shirt and I am not concerned about the sellers views on issues.  My personal preference would be that they say nothing about their views on issues.  Just sell me a good product.",
          "I dont think a plain t shirt is worth that much. But I was more willing to pay more with someone who is ideologically aligned with me. Because i think upholding traditional values may be seem as more niche and reduce sales, I respect when someone chose it knowing that they had to sell, so i paid even more.",
          "I think it is great for companies to be vocal and support causes. If the company supports a cause that aligns with my values I will try to say good things about them and purchase from them loyally if I need that product. That being said, I would not pay more than $20 for a plain T-shirt no matter the companies stance on issues.",
          "The value of a T-shirt. Wish they would all stop telling me their political views, I don't care. Just want the shirt.",
          "My reasoning was that I would personally never buy a T-shirt for more than $25 or so, but I'm willing to give a little extra if it's for a company that supports my values, but I still wouldn't trust a company to actually care, it's most likely a position driven by the opportunity to sell more products than actually making a statement.",
          "I think that being honest and caring about values is a good thing in a company, and using social constructs to sell shirts doesn't make me want to buy them more, but knowing a company cares about an issue makes me a little more willing to buy",
          "The t-shirts were plain, because of this I would not be willing to pay a high price. I also do not necessarily purchase based on whether the seller agrees with me politically.",
          "I am will to pay for a shirt if i know the company is going to do what I like",
          "I need the money more, and so, I did not really value the t-shirt much. The information about their beliefs has little impact on my willingness to purchase. ",
          "In this case a T-shirt isn't that important to me and despite the support for similar views I don't see myself paying much more for a T-shirt from them compared to anyone else. I think I would support them through other means and may buy a t-shirt from them if I needed one. I just don't have a need for it at this moment. ",
          "As much as I support the causes and values the companies are championing, there is only so much I am willing to spend on a plain t-shirt. If there were different designs, a wider variety of sizing options, different style options (i.e. tanktops, hoodies, crop tops, etc), then I would be more willing to explore the site (more ad revenue) and perhaps bump my budget upward.",
          "It's the same shirt.  I don't care what the values are of the person who is selling it to me unless the values are printed on the shirt or if the values effect how they spend the money I give them in the case of big businesses whose large contributions can change what the government focuses on.",
          "I'm looking to make as much money as I can for myself. People who agree with my political views are great, and I'm happy to hear it, but I'm not willing to part with a potentially substantial pay out because seller 2 thinks privacy is good. So in all cases I stopped at what I think a good deal on a T-shirt would be. Additionally, the list of values given was not particularly tempting for me. And lastly, I'm not a huge fan of forcing politics into shopping and pop culture. ",
          "if they supported the same things I did i was willing to pay a little bit more but not much because tshirts are only worth so much regardless of who makes them",
          "The shirts were quite plain so my willingness to take the money over the shirt began at only $4. Their political views did not influence my willingness to purchase from them because I don't really care what their opinions are. Additionally, whether or not they truly believed in their position did not matter to me either as I feel most of these companies are disingenuous anyway.",
          "I am willing in general to pay between 24 and 30$ for a t shirt, and whether or not someone shares my values is not super important, but I would be less willing to buy from someone that supports values that are diametrically opposed to mine, as I would not want to support them by spending money on their products, no matter how cheap they are. ",
          "I just decided that under $10 is worth it for a t-shirt regardless of the seller's political values.",
          "I don't value a t-shirt and prefer the choice on what to spend my money on.  Therefore, whatever value they support doesn't make a difference to me as to what I prefer",
          "I think that most retailers just sell what people will buy. If the seller sold T-shirts I agreed with, just for the profit, that is normal. If they also sold T-shirts espousing views I disagree with, then I might reconsider purchasing from them.",
          "Because I will only pay a certain amount for a simple shirt. That's all. I am extremely poor so I don't have the luxury of caring about what a company supports...I am all about the price. ",
          "I think it didn't matter what they supported. For me it was ultimately about the price - especially since it was just a plain t-shirt that I could probably just get at Walmart. However, if they supported something that I was against, then I probably would not spend any money there.",
          null
         ],
         "marker": {
          "colorbar": {
           "title": {
            "text": ""
           }
          },
          "opacity": 0.5,
          "showscale": false,
          "size": 5
         },
         "mode": "markers+text",
         "name": "10_views_company_politics",
         "text": [
          "",
          "",
          "",
          "",
          "",
          "",
          "",
          "",
          "",
          "",
          "",
          "",
          "",
          "",
          "",
          "",
          "",
          "",
          "",
          "",
          "",
          "",
          "",
          "",
          "",
          "",
          "",
          "",
          "",
          "",
          "",
          "",
          "",
          "",
          "10_views_company_politics"
         ],
         "textfont": {
          "size": 12
         },
         "type": "scattergl",
         "x": {
          "bdata": "s7bFQH632kBP4cRACYvIQPd07UBmR+ZAp0bSQEpw00AXt9JAC1zaQDsh+0Dt2udAizfoQOBgx0A1veZAcVnJQM8e4UASpdtAChTFQJlC6EBEUPZAIh/EQKJW0kAxoM9A5WTUQGSe3kD1G81AUMPHQKbE2UA7POVAr33QQJG+0kDtm/RAXa/HQFmW2EA=",
          "dtype": "f4"
         },
         "y": {
          "bdata": "dqORQPUaoEDVGI1ATMOQQBxorkDGgJ5AkiyVQKc4lEC/I5VAMVuXQIn45UA+satAZj6dQASjkkBPIZ1AIQqQQNFhnED7YZ5AW8SRQEpbnEDRZK1A7caVQCZclECGVpFAQsaWQDHUm0CeqJNAsS6RQB+zlkBmbZtAYliWQOnkk0DEJKpAdwSRQDVZm0A=",
          "dtype": "f4"
         }
        },
        {
         "hoverinfo": "text",
         "hovertext": [
          "I do not need any shirts, I need cash.",
          "I always want to receive money instead of goods.",
          "I don't really want a t-shirt, so any money seemed like a better option.",
          "I'm not particularly interested in the T-shirt, so the money was preferable.",
          "I would just rather have money than a t shirt, I have plenty of t shirts and donâ€™t need any more, so Iâ€™m not willing to pay for one.",
          "I dont want a t-shirt",
          "I didn't choose to pay for any shirts. I chose the cash payment because that is more valuable to me.",
          "I have too many t shirts and wouldn't really want one for free.",
          "I do not want a plain shirt and I do prolific to make money, so I choose the money. Thry cwn keep the shirt that I don't even want and I might get money.",
          "I wanted the money, so I only took the shirt if there was no money offered",
          "I don't really need a T-shirt, I would take any amount of money rather than a t-shirt, to be completely honest.",
          "The amounts offered in lieu of the T shirt are not life changing and will not make a difference much. tHIS IS TRUE UNTIL THE AMOUNT BECOMES SIZABLE ENOUGH THAT i COULD USE IT TO HELP PAY A BILL.",
          "i was willing to give 10 dollars for the shirt it was plain so id rather have the money",
          "I dont really need any shirts and I could use the money so that was the main driving force",
          "I need the money, but I don't need a t-shirt. Thank you",
          "Don't need any more T-shirts.  I agreed to getting one out of sympathy.",
          "I preferred payments instead of T-shirts. I know tis is an exercise and I won't be giving anyone money.",
          "I do not like and do not wear t-shirts so I do not need one. But I was willing to pay some money to support the seller.",
          "Iâ€™d rather have a shirt than nothing, but Iâ€™d rather have money than a shirt. Iâ€™m just not that interested in a shirt. ",
          "I am not currently able to work so I would rather have the cash over the shirt.",
          "I take surveys for money and I don't need a t-shirt.",
          "I just donâ€™t have enough money right now to buy anything.",
          "I already have a lot of shirts so the money would be more convenient and useful to me to use towards other needs in my daily life. The t-shirt also doesn't seem to have a brand so I am not sure of the quality of it. ",
          "These are just plain T-shirts, I can live without them and would prefer the pay instead",
          "I already own plenty of shirts, so I preferred the option of any cash payment.",
          null
         ],
         "marker": {
          "colorbar": {
           "title": {
            "text": ""
           }
          },
          "opacity": 0.5,
          "showscale": false,
          "size": 5
         },
         "mode": "markers+text",
         "name": "11_need_money_instead",
         "text": [
          "",
          "",
          "",
          "",
          "",
          "",
          "",
          "",
          "",
          "",
          "",
          "",
          "",
          "",
          "",
          "",
          "",
          "",
          "",
          "",
          "",
          "",
          "",
          "",
          "",
          "11_need_money_instead"
         ],
         "textfont": {
          "size": 12
         },
         "type": "scattergl",
         "x": {
          "bdata": "TqETQb2HD0HmARNBCjQSQcpOE0GpIBVBOfoOQTDpFEHeNxJBmbsQQRrgE0GgVBFBYB0RQQGkEUEBmhNBUFsVQTwtEEH8ahRBHJMSQdZXEkHe9BRBJxETQSHJEUFG7BJBxi4RQUiPEkE=",
          "dtype": "f4"
         },
         "y": {
          "bdata": "fVviQCjE50CCKOJAae/iQCan2kAkR99AOUnfQB2B20B6F+BA+UjjQENY3UDD399A0+vhQHmS4ECoz+JA67HaQKcC5kBXZtlAoEvcQD7P4UAi1t1A+pPmQMPx1UBm6dtAaDzkQLjc30A=",
          "dtype": "f4"
         }
        },
        {
         "hoverinfo": "text",
         "hovertext": [
          "depending on the topic indicated ",
          "It's just how I think that  that how it would be",
          "i tried to base it on my feelings and those of people i know. Basically an educated guess",
          "I decided on my responses based on my initial gut feeling.",
          "based on what I believe in.",
          "I believe the % I put down are about how I feel people  would react",
          "My willingness was based on values.",
          "I chose my reasoning on how important the issue was to me ",
          "just figured not knowing was 50/50 and knowing would be somewhat higher",
          "I am not sure if I am supposed to respond here.",
          "I randomly guessed ",
          "i thought unbiasely",
          "These were complete guesses, which is why they were mostly middle of the road. I felt the support for guns has less so I went lower on those options.",
          "I really have no idea",
          "I tried to put myself in their shoes and understand people based on an average view I have of them. I feel those percentages would be what I would get if I asked the question in a public place with 100 people being asked.",
          "just a guess",
          "i considered the values we have in common ",
          "for my own understanding",
          "there was no rhyme reason. I just picked random numbers.",
          "Knowing what an individual would select has the same chance of guessing heads or tails on a coin flip. I selected options that seemed correct.",
          "I thought that basically people will tell you how they feel.  There is a small amount of people who want to get ahead and lie.",
          "I just went by how others would act in different groups. ",
          "I just guessed according to my opinion on what information they know.",
          null
         ],
         "marker": {
          "colorbar": {
           "title": {
            "text": ""
           }
          },
          "opacity": 0.5,
          "showscale": false,
          "size": 5
         },
         "mode": "markers+text",
         "name": "12_guessed_asked_guess",
         "text": [
          "",
          "",
          "",
          "",
          "",
          "",
          "",
          "",
          "",
          "",
          "",
          "",
          "",
          "",
          "",
          "",
          "",
          "",
          "",
          "",
          "",
          "",
          "",
          "12_guessed_asked_guess"
         ],
         "textfont": {
          "size": 12
         },
         "type": "scattergl",
         "x": {
          "bdata": "Nmc4QF1+LEANTzVAiRo3QAV/HkBjxjZA6gMdQL14I0ARtThA2AIsQJfMMEDi2TVAxJE/QMDeLEAmCDRA22QtQB4cHkBdHiRAxqMwQA45NUC3wzVAOE81QIIANkBNty9A",
          "dtype": "f4"
         },
         "y": {
          "bdata": "z9cJQSTbCkGCIwtBPcQKQTOGBkHE4AhBsuUBQbEAA0FMwQpBdbsKQZaqDEFGUQxBk4YMQQYzDEHHUAhBKQ8MQS9LA0E1GAlBvp8MQbhUDEHm+ghB4xgKQYPfC0GIrwlB",
          "dtype": "f4"
         }
        },
        {
         "hoverinfo": "text",
         "hovertext": [
          "I think sellers might want to do what people would support",
          "Fundamentally virtually all human decisions in modern society are influenced or based upon monetary compensation.",
          "I would have to say when someone is doing something for the right reasons without expections of something in return.",
          "If a seller was for something that I was against then I would probably not be willing to support them. However if a seller supports something that I am for I would be willing to support them. Without knowing any additional information I would only be willing to pay a normal price. But if I find out they donated money or time to organizations that try to fix issues that I support, I might be willing to pay a bit more.",
          "I think that just based on human nature regardless if they truly care about the cause or night that people will naturally be more willing to do something if it means a greater profit. The point of doing all of that work to start a company and sell things is to be successful so people are always looking for a boost where possible.",
          "When deciding how much I was willing to pay sellers in different scenarios, I kept in mind their prior knowledge of the situation. If they didn't know that their stance was known to the public, I thought they would not try to exploit it for gain. However, if they were informed that the customers knew about their stance on a given issue, they would try to exploit it.",
          "I would be willing to pay the approximate value online as I could purchase the item for in person. The values they uphold or endorse would have no impact on the amount I would be willing to pay. ",
          "have the same point if view is the main reason , which will boost their sale as well ",
          "I'd be willing to pay a little more if the seller supports a good case i.e., racial equality, LGBT rights, etc. I'd also be inclined to pay more if the seller supported these causes beforehand without knowing of any incentives. \n\n",
          "I want to help the sellers, but if I am selected I could really use the extra money.",
          "I didn't change my willingness to pay because I believe that if the seller is willing to support the cause I shouldn't be the one paying for it",
          "I usually disregard a company/seller's stance on issues that align with mine, but when a company is not aligned with my values, I do not consume from them. Therefore, I was not persuaded by the difference in sellers from this scenario, but if the scenarios revolved around my most disliked value, I believe my choices would be different. ",
          "I actually was confused but I perceived that if the seller supported the same value as myself I was thought to likely try to increase their potential profit....I didn't feel inclined to do that...I guess I feel supporting the same value I do didn't influence me to increase the sellers profit....had it been a value I didn't support however I likely would have made a choice to lessen the profit to the seller even tho I don't think I should do that or use that logic in either case",
          "Was willing to spend more when the person wasnâ€™t aware of their ability to sell. It shows to me the persons willingness to support the cause despite not knowing they can reap benefits.",
          "I not consider the seller's political beliefs to be relevant. So I just went by how much I would be willing to pay for the product, regardless of who was selling it.",
          "I can't pretend or guess that I know how people think and make decisions based on honesty or opportunity, however I do know that people can often be motivated by profit, and sometimes are willing to sacrifice their true beliefs in order to financially benefit. Therefore, I just went with the best case scenarios with what I was presented with. ",
          "For Me it is simply about affordability.  With an understanding towards incentive.  My understanding is people are more encouraged to do the right thing when there in something in it for them. Some of it is also just random choices.",
          "I was willing to pay a seller that supports a cause that I support a bit more since they will be making a donation to the cause with each sell.",
          "I feel more connected to a seller who would support programs reflecting my values",
          "I felt like the sellers that had genuine intentions when it came to supporting a cause deserved to potentially receive more. I believe that their heart is in the right place, so they should potentially be compensated more. ",
          "In the instance where the seller is unaware of increased sales due to a publicly displayed support for a value, the seller's consideration is monetary only. But when the seller knows for a fact that their support for a popular value will increase sales, the seller will be happy to display that they support this value.",
          "I dont mind spending extra money when the business has the same values as i do",
          null
         ],
         "marker": {
          "colorbar": {
           "title": {
            "text": ""
           }
          },
          "opacity": 0.5,
          "showscale": false,
          "size": 5
         },
         "mode": "markers+text",
         "name": "13_exploit_try_profit",
         "text": [
          "",
          "",
          "",
          "",
          "",
          "",
          "",
          "",
          "",
          "",
          "",
          "",
          "",
          "",
          "",
          "",
          "",
          "",
          "",
          "",
          "",
          "",
          "13_exploit_try_profit"
         ],
         "textfont": {
          "size": 12
         },
         "type": "scattergl",
         "x": {
          "bdata": "e7VVQOsEOkBY6ZlAwRVtQI52PUDxnGtADY1zQGHQWUD0CHJAR55jQIhHTkCkNFJAguxSQMiomkCYxXpAC2U9QJTKO0A3tmxAegRdQAuickBdG1dALYJhQDaQY0A=",
          "dtype": "f4"
         },
         "y": {
          "bdata": "I6XvQP8080BPjuFA7GLbQKKG70BfUdRA/BzhQDAz0UDWqN9AM+jjQMSt7UAY5c9AGpPrQADq30A3i9RA+U/yQL9i8kBhgeRAKCjWQD4/4UCDBOpAIPzZQBa34kA=",
          "dtype": "f4"
         }
        }
       ],
       "layout": {
        "annotations": [
         {
          "showarrow": false,
          "text": "D1",
          "x": 1.6219899833202363,
          "y": 6.99955170750618,
          "yshift": 10
         },
         {
          "showarrow": false,
          "text": "D2",
          "x": 6.178501018881798,
          "xshift": 10,
          "y": 10.945951843261719
         }
        ],
        "coloraxis": {
         "colorbar": {
          "title": {
           "text": ""
          }
         }
        },
        "height": 750,
        "shapes": [
         {
          "line": {
           "color": "#CFD8DC",
           "width": 2
          },
          "type": "line",
          "x0": 6.178501018881798,
          "x1": 6.178501018881798,
          "y0": 3.053151571750641,
          "y1": 10.945951843261719
         },
         {
          "line": {
           "color": "#9E9E9E",
           "width": 2
          },
          "type": "line",
          "x0": 1.6219899833202363,
          "x1": 10.73501205444336,
          "y0": 6.99955170750618,
          "y1": 6.99955170750618
         }
        ],
        "showlegend": false,
        "template": {
         "data": {
          "bar": [
           {
            "error_x": {
             "color": "rgb(36,36,36)"
            },
            "error_y": {
             "color": "rgb(36,36,36)"
            },
            "marker": {
             "line": {
              "color": "white",
              "width": 0.5
             },
             "pattern": {
              "fillmode": "overlay",
              "size": 10,
              "solidity": 0.2
             }
            },
            "type": "bar"
           }
          ],
          "barpolar": [
           {
            "marker": {
             "line": {
              "color": "white",
              "width": 0.5
             },
             "pattern": {
              "fillmode": "overlay",
              "size": 10,
              "solidity": 0.2
             }
            },
            "type": "barpolar"
           }
          ],
          "carpet": [
           {
            "aaxis": {
             "endlinecolor": "rgb(36,36,36)",
             "gridcolor": "white",
             "linecolor": "white",
             "minorgridcolor": "white",
             "startlinecolor": "rgb(36,36,36)"
            },
            "baxis": {
             "endlinecolor": "rgb(36,36,36)",
             "gridcolor": "white",
             "linecolor": "white",
             "minorgridcolor": "white",
             "startlinecolor": "rgb(36,36,36)"
            },
            "type": "carpet"
           }
          ],
          "choropleth": [
           {
            "colorbar": {
             "outlinewidth": 1,
             "tickcolor": "rgb(36,36,36)",
             "ticks": "outside"
            },
            "type": "choropleth"
           }
          ],
          "contour": [
           {
            "colorbar": {
             "outlinewidth": 1,
             "tickcolor": "rgb(36,36,36)",
             "ticks": "outside"
            },
            "colorscale": [
             [
              0,
              "#440154"
             ],
             [
              0.1111111111111111,
              "#482878"
             ],
             [
              0.2222222222222222,
              "#3e4989"
             ],
             [
              0.3333333333333333,
              "#31688e"
             ],
             [
              0.4444444444444444,
              "#26828e"
             ],
             [
              0.5555555555555556,
              "#1f9e89"
             ],
             [
              0.6666666666666666,
              "#35b779"
             ],
             [
              0.7777777777777778,
              "#6ece58"
             ],
             [
              0.8888888888888888,
              "#b5de2b"
             ],
             [
              1,
              "#fde725"
             ]
            ],
            "type": "contour"
           }
          ],
          "contourcarpet": [
           {
            "colorbar": {
             "outlinewidth": 1,
             "tickcolor": "rgb(36,36,36)",
             "ticks": "outside"
            },
            "type": "contourcarpet"
           }
          ],
          "heatmap": [
           {
            "colorbar": {
             "outlinewidth": 1,
             "tickcolor": "rgb(36,36,36)",
             "ticks": "outside"
            },
            "colorscale": [
             [
              0,
              "#440154"
             ],
             [
              0.1111111111111111,
              "#482878"
             ],
             [
              0.2222222222222222,
              "#3e4989"
             ],
             [
              0.3333333333333333,
              "#31688e"
             ],
             [
              0.4444444444444444,
              "#26828e"
             ],
             [
              0.5555555555555556,
              "#1f9e89"
             ],
             [
              0.6666666666666666,
              "#35b779"
             ],
             [
              0.7777777777777778,
              "#6ece58"
             ],
             [
              0.8888888888888888,
              "#b5de2b"
             ],
             [
              1,
              "#fde725"
             ]
            ],
            "type": "heatmap"
           }
          ],
          "histogram": [
           {
            "marker": {
             "line": {
              "color": "white",
              "width": 0.6
             }
            },
            "type": "histogram"
           }
          ],
          "histogram2d": [
           {
            "colorbar": {
             "outlinewidth": 1,
             "tickcolor": "rgb(36,36,36)",
             "ticks": "outside"
            },
            "colorscale": [
             [
              0,
              "#440154"
             ],
             [
              0.1111111111111111,
              "#482878"
             ],
             [
              0.2222222222222222,
              "#3e4989"
             ],
             [
              0.3333333333333333,
              "#31688e"
             ],
             [
              0.4444444444444444,
              "#26828e"
             ],
             [
              0.5555555555555556,
              "#1f9e89"
             ],
             [
              0.6666666666666666,
              "#35b779"
             ],
             [
              0.7777777777777778,
              "#6ece58"
             ],
             [
              0.8888888888888888,
              "#b5de2b"
             ],
             [
              1,
              "#fde725"
             ]
            ],
            "type": "histogram2d"
           }
          ],
          "histogram2dcontour": [
           {
            "colorbar": {
             "outlinewidth": 1,
             "tickcolor": "rgb(36,36,36)",
             "ticks": "outside"
            },
            "colorscale": [
             [
              0,
              "#440154"
             ],
             [
              0.1111111111111111,
              "#482878"
             ],
             [
              0.2222222222222222,
              "#3e4989"
             ],
             [
              0.3333333333333333,
              "#31688e"
             ],
             [
              0.4444444444444444,
              "#26828e"
             ],
             [
              0.5555555555555556,
              "#1f9e89"
             ],
             [
              0.6666666666666666,
              "#35b779"
             ],
             [
              0.7777777777777778,
              "#6ece58"
             ],
             [
              0.8888888888888888,
              "#b5de2b"
             ],
             [
              1,
              "#fde725"
             ]
            ],
            "type": "histogram2dcontour"
           }
          ],
          "mesh3d": [
           {
            "colorbar": {
             "outlinewidth": 1,
             "tickcolor": "rgb(36,36,36)",
             "ticks": "outside"
            },
            "type": "mesh3d"
           }
          ],
          "parcoords": [
           {
            "line": {
             "colorbar": {
              "outlinewidth": 1,
              "tickcolor": "rgb(36,36,36)",
              "ticks": "outside"
             }
            },
            "type": "parcoords"
           }
          ],
          "pie": [
           {
            "automargin": true,
            "type": "pie"
           }
          ],
          "scatter": [
           {
            "fillpattern": {
             "fillmode": "overlay",
             "size": 10,
             "solidity": 0.2
            },
            "type": "scatter"
           }
          ],
          "scatter3d": [
           {
            "line": {
             "colorbar": {
              "outlinewidth": 1,
              "tickcolor": "rgb(36,36,36)",
              "ticks": "outside"
             }
            },
            "marker": {
             "colorbar": {
              "outlinewidth": 1,
              "tickcolor": "rgb(36,36,36)",
              "ticks": "outside"
             }
            },
            "type": "scatter3d"
           }
          ],
          "scattercarpet": [
           {
            "marker": {
             "colorbar": {
              "outlinewidth": 1,
              "tickcolor": "rgb(36,36,36)",
              "ticks": "outside"
             }
            },
            "type": "scattercarpet"
           }
          ],
          "scattergeo": [
           {
            "marker": {
             "colorbar": {
              "outlinewidth": 1,
              "tickcolor": "rgb(36,36,36)",
              "ticks": "outside"
             }
            },
            "type": "scattergeo"
           }
          ],
          "scattergl": [
           {
            "marker": {
             "colorbar": {
              "outlinewidth": 1,
              "tickcolor": "rgb(36,36,36)",
              "ticks": "outside"
             }
            },
            "type": "scattergl"
           }
          ],
          "scattermap": [
           {
            "marker": {
             "colorbar": {
              "outlinewidth": 1,
              "tickcolor": "rgb(36,36,36)",
              "ticks": "outside"
             }
            },
            "type": "scattermap"
           }
          ],
          "scattermapbox": [
           {
            "marker": {
             "colorbar": {
              "outlinewidth": 1,
              "tickcolor": "rgb(36,36,36)",
              "ticks": "outside"
             }
            },
            "type": "scattermapbox"
           }
          ],
          "scatterpolar": [
           {
            "marker": {
             "colorbar": {
              "outlinewidth": 1,
              "tickcolor": "rgb(36,36,36)",
              "ticks": "outside"
             }
            },
            "type": "scatterpolar"
           }
          ],
          "scatterpolargl": [
           {
            "marker": {
             "colorbar": {
              "outlinewidth": 1,
              "tickcolor": "rgb(36,36,36)",
              "ticks": "outside"
             }
            },
            "type": "scatterpolargl"
           }
          ],
          "scatterternary": [
           {
            "marker": {
             "colorbar": {
              "outlinewidth": 1,
              "tickcolor": "rgb(36,36,36)",
              "ticks": "outside"
             }
            },
            "type": "scatterternary"
           }
          ],
          "surface": [
           {
            "colorbar": {
             "outlinewidth": 1,
             "tickcolor": "rgb(36,36,36)",
             "ticks": "outside"
            },
            "colorscale": [
             [
              0,
              "#440154"
             ],
             [
              0.1111111111111111,
              "#482878"
             ],
             [
              0.2222222222222222,
              "#3e4989"
             ],
             [
              0.3333333333333333,
              "#31688e"
             ],
             [
              0.4444444444444444,
              "#26828e"
             ],
             [
              0.5555555555555556,
              "#1f9e89"
             ],
             [
              0.6666666666666666,
              "#35b779"
             ],
             [
              0.7777777777777778,
              "#6ece58"
             ],
             [
              0.8888888888888888,
              "#b5de2b"
             ],
             [
              1,
              "#fde725"
             ]
            ],
            "type": "surface"
           }
          ],
          "table": [
           {
            "cells": {
             "fill": {
              "color": "rgb(237,237,237)"
             },
             "line": {
              "color": "white"
             }
            },
            "header": {
             "fill": {
              "color": "rgb(217,217,217)"
             },
             "line": {
              "color": "white"
             }
            },
            "type": "table"
           }
          ]
         },
         "layout": {
          "annotationdefaults": {
           "arrowhead": 0,
           "arrowwidth": 1
          },
          "autotypenumbers": "strict",
          "coloraxis": {
           "colorbar": {
            "outlinewidth": 1,
            "tickcolor": "rgb(36,36,36)",
            "ticks": "outside"
           }
          },
          "colorscale": {
           "diverging": [
            [
             0,
             "rgb(103,0,31)"
            ],
            [
             0.1,
             "rgb(178,24,43)"
            ],
            [
             0.2,
             "rgb(214,96,77)"
            ],
            [
             0.3,
             "rgb(244,165,130)"
            ],
            [
             0.4,
             "rgb(253,219,199)"
            ],
            [
             0.5,
             "rgb(247,247,247)"
            ],
            [
             0.6,
             "rgb(209,229,240)"
            ],
            [
             0.7,
             "rgb(146,197,222)"
            ],
            [
             0.8,
             "rgb(67,147,195)"
            ],
            [
             0.9,
             "rgb(33,102,172)"
            ],
            [
             1,
             "rgb(5,48,97)"
            ]
           ],
           "sequential": [
            [
             0,
             "#440154"
            ],
            [
             0.1111111111111111,
             "#482878"
            ],
            [
             0.2222222222222222,
             "#3e4989"
            ],
            [
             0.3333333333333333,
             "#31688e"
            ],
            [
             0.4444444444444444,
             "#26828e"
            ],
            [
             0.5555555555555556,
             "#1f9e89"
            ],
            [
             0.6666666666666666,
             "#35b779"
            ],
            [
             0.7777777777777778,
             "#6ece58"
            ],
            [
             0.8888888888888888,
             "#b5de2b"
            ],
            [
             1,
             "#fde725"
            ]
           ],
           "sequentialminus": [
            [
             0,
             "#440154"
            ],
            [
             0.1111111111111111,
             "#482878"
            ],
            [
             0.2222222222222222,
             "#3e4989"
            ],
            [
             0.3333333333333333,
             "#31688e"
            ],
            [
             0.4444444444444444,
             "#26828e"
            ],
            [
             0.5555555555555556,
             "#1f9e89"
            ],
            [
             0.6666666666666666,
             "#35b779"
            ],
            [
             0.7777777777777778,
             "#6ece58"
            ],
            [
             0.8888888888888888,
             "#b5de2b"
            ],
            [
             1,
             "#fde725"
            ]
           ]
          },
          "colorway": [
           "#1F77B4",
           "#FF7F0E",
           "#2CA02C",
           "#D62728",
           "#9467BD",
           "#8C564B",
           "#E377C2",
           "#7F7F7F",
           "#BCBD22",
           "#17BECF"
          ],
          "font": {
           "color": "rgb(36,36,36)"
          },
          "geo": {
           "bgcolor": "white",
           "lakecolor": "white",
           "landcolor": "white",
           "showlakes": true,
           "showland": true,
           "subunitcolor": "white"
          },
          "hoverlabel": {
           "align": "left"
          },
          "hovermode": "closest",
          "mapbox": {
           "style": "light"
          },
          "paper_bgcolor": "white",
          "plot_bgcolor": "white",
          "polar": {
           "angularaxis": {
            "gridcolor": "rgb(232,232,232)",
            "linecolor": "rgb(36,36,36)",
            "showgrid": false,
            "showline": true,
            "ticks": "outside"
           },
           "bgcolor": "white",
           "radialaxis": {
            "gridcolor": "rgb(232,232,232)",
            "linecolor": "rgb(36,36,36)",
            "showgrid": false,
            "showline": true,
            "ticks": "outside"
           }
          },
          "scene": {
           "xaxis": {
            "backgroundcolor": "white",
            "gridcolor": "rgb(232,232,232)",
            "gridwidth": 2,
            "linecolor": "rgb(36,36,36)",
            "showbackground": true,
            "showgrid": false,
            "showline": true,
            "ticks": "outside",
            "zeroline": false,
            "zerolinecolor": "rgb(36,36,36)"
           },
           "yaxis": {
            "backgroundcolor": "white",
            "gridcolor": "rgb(232,232,232)",
            "gridwidth": 2,
            "linecolor": "rgb(36,36,36)",
            "showbackground": true,
            "showgrid": false,
            "showline": true,
            "ticks": "outside",
            "zeroline": false,
            "zerolinecolor": "rgb(36,36,36)"
           },
           "zaxis": {
            "backgroundcolor": "white",
            "gridcolor": "rgb(232,232,232)",
            "gridwidth": 2,
            "linecolor": "rgb(36,36,36)",
            "showbackground": true,
            "showgrid": false,
            "showline": true,
            "ticks": "outside",
            "zeroline": false,
            "zerolinecolor": "rgb(36,36,36)"
           }
          },
          "shapedefaults": {
           "fillcolor": "black",
           "line": {
            "width": 0
           },
           "opacity": 0.3
          },
          "ternary": {
           "aaxis": {
            "gridcolor": "rgb(232,232,232)",
            "linecolor": "rgb(36,36,36)",
            "showgrid": false,
            "showline": true,
            "ticks": "outside"
           },
           "baxis": {
            "gridcolor": "rgb(232,232,232)",
            "linecolor": "rgb(36,36,36)",
            "showgrid": false,
            "showline": true,
            "ticks": "outside"
           },
           "bgcolor": "white",
           "caxis": {
            "gridcolor": "rgb(232,232,232)",
            "linecolor": "rgb(36,36,36)",
            "showgrid": false,
            "showline": true,
            "ticks": "outside"
           }
          },
          "title": {
           "x": 0.05
          },
          "xaxis": {
           "automargin": true,
           "gridcolor": "rgb(232,232,232)",
           "linecolor": "rgb(36,36,36)",
           "showgrid": false,
           "showline": true,
           "ticks": "outside",
           "title": {
            "standoff": 15
           },
           "zeroline": false,
           "zerolinecolor": "rgb(36,36,36)"
          },
          "yaxis": {
           "automargin": true,
           "gridcolor": "rgb(232,232,232)",
           "linecolor": "rgb(36,36,36)",
           "showgrid": false,
           "showline": true,
           "ticks": "outside",
           "title": {
            "standoff": 15
           },
           "zeroline": false,
           "zerolinecolor": "rgb(36,36,36)"
          }
         }
        },
        "title": {
         "font": {
          "color": "Black",
          "size": 22
         },
         "text": "<b>Documents and Topics</b>",
         "x": 0.5,
         "xanchor": "center",
         "yanchor": "top"
        },
        "width": 1200,
        "xaxis": {
         "visible": false
        },
        "yaxis": {
         "visible": false
        }
       }
      }
     },
     "metadata": {},
     "output_type": "display_data"
    }
   ],
   "source": [
    "fig = BERT_model.visualize_documents(df_ns, embeddings=embeddings)\n",
    "\n",
    "fig.update_traces(marker_showscale=False)\n",
    "\n",
    "fig.update_layout(showlegend=False)\n",
    "\n",
    "fig.show()"
   ]
  },
  {
   "cell_type": "code",
   "execution_count": 16,
   "metadata": {},
   "outputs": [
    {
     "data": {
      "application/vnd.plotly.v1+json": {
       "config": {
        "plotlyServerURL": "https://plot.ly"
       },
       "data": [
        {
         "marker": {
          "color": "#D55E00"
         },
         "orientation": "h",
         "type": "bar",
         "x": [
          0.3686315668314207,
          0.3891624155877154,
          0.4006890749244742,
          0.42556619345512037,
          0.4549019993437932
         ],
         "xaxis": "x",
         "y": [
          "faith  ",
          "racial  ",
          "justice  ",
          "change  ",
          "climate  "
         ],
         "yaxis": "y"
        },
        {
         "marker": {
          "color": "#0072B2"
         },
         "orientation": "h",
         "type": "bar",
         "x": [
          0.31043016670282025,
          0.326725877672341,
          0.35047135888366526,
          0.35202694909653987,
          0.3560481803984938
         ],
         "xaxis": "x2",
         "y": [
          "product  ",
          "causes  ",
          "business  ",
          "support  ",
          "company  "
         ],
         "yaxis": "y2"
        },
        {
         "marker": {
          "color": "#CC79A7"
         },
         "orientation": "h",
         "type": "bar",
         "x": [
          0.3081745794319387,
          0.31670599851049075,
          0.3216925795758233,
          0.4344076147893528,
          0.5138967360523992
         ],
         "xaxis": "x3",
         "y": [
          "cash  ",
          "prefer  ",
          "rather  ",
          "payment  ",
          "bonus  "
         ],
         "yaxis": "y3"
        },
        {
         "marker": {
          "color": "#E69F00"
         },
         "orientation": "h",
         "type": "bar",
         "x": [
          0.3325727810216999,
          0.3410855288263703,
          0.35042861953414245,
          0.3939078902925656,
          0.4120901505060971
         ],
         "xaxis": "x4",
         "y": [
          "offers  ",
          "quality  ",
          "sellers  ",
          "product  ",
          "service  "
         ],
         "yaxis": "y4"
        },
        {
         "marker": {
          "color": "#56B4E9"
         },
         "orientation": "h",
         "type": "bar",
         "x": [
          0.31720100055296485,
          0.3353195270387563,
          0.33571622580569316,
          0.3457428899626488,
          0.3674629608485426
         ],
         "xaxis": "x5",
         "y": [
          "quality  ",
          "much  ",
          "considered  ",
          "thought  ",
          "based  "
         ],
         "yaxis": "y5"
        },
        {
         "marker": {
          "color": "#009E73"
         },
         "orientation": "h",
         "type": "bar",
         "x": [
          0.39916182083530893,
          0.42468195310070944,
          0.44922213987666804,
          0.4607770987474611,
          0.5053898250380566
         ],
         "xaxis": "x6",
         "y": [
          "gun  ",
          "gender  ",
          "equality  ",
          "rights  ",
          "lgbtq  "
         ],
         "yaxis": "y6"
        },
        {
         "marker": {
          "color": "#F0E442"
         },
         "orientation": "h",
         "type": "bar",
         "x": [
          0.35011954777302,
          0.3691742129806888,
          0.39193275747076595,
          0.3961535557695222,
          0.4678766325673082
         ],
         "xaxis": "x7",
         "y": [
          "10  ",
          "clothes  ",
          "15  ",
          "high  ",
          "plain  "
         ],
         "yaxis": "y7"
        },
        {
         "marker": {
          "color": "#D55E00"
         },
         "orientation": "h",
         "type": "bar",
         "x": [
          0.34375239170296884,
          0.371775895719223,
          0.37689460377778805,
          0.3873670712886658,
          0.4553306215891325
         ],
         "xaxis": "x8",
         "y": [
          "blank  ",
          "typically  ",
          "minimum  ",
          "donation  ",
          "charity  "
         ],
         "yaxis": "y8"
        },
        {
         "marker": {
          "color": "#0072B2"
         },
         "orientation": "h",
         "type": "bar",
         "x": [
          0.28620071454310564,
          0.2876098705830333,
          0.29014120105868463,
          0.31265893696147024,
          0.33293255273487954
         ],
         "xaxis": "x9",
         "y": [
          "accept  ",
          "opportunity  ",
          "confidence  ",
          "sellerâ  ",
          "bonus  "
         ],
         "yaxis": "y9"
        },
        {
         "marker": {
          "color": "#CC79A7"
         },
         "orientation": "h",
         "type": "bar",
         "x": [
          0.2934423293905493,
          0.29870582834982884,
          0.3028666894266515,
          0.3068248975303524,
          0.3595897524236828
         ],
         "xaxis": "x10",
         "y": [
          "benefit  ",
          "still  ",
          "opportunity  ",
          "sales  ",
          "gun  "
         ],
         "yaxis": "y10"
        },
        {
         "marker": {
          "color": "#E69F00"
         },
         "orientation": "h",
         "type": "bar",
         "x": [
          0.3354704099599785,
          0.3354704099599785,
          0.36499573960342785,
          0.40233135671698844,
          0.4073564670739523
         ],
         "xaxis": "x11",
         "y": [
          "additionally  ",
          "cares  ",
          "politics  ",
          "company  ",
          "views  "
         ],
         "yaxis": "y11"
        },
        {
         "marker": {
          "color": "#56B4E9"
         },
         "orientation": "h",
         "type": "bar",
         "x": [
          0.5371437562891753,
          0.5371437562891753,
          0.5407516320231783,
          0.5593864956268123,
          0.636942820681823
         ],
         "xaxis": "x12",
         "y": [
          "offered  ",
          "dont  ",
          "instead  ",
          "money  ",
          "need  "
         ],
         "yaxis": "y12"
        },
        {
         "marker": {
          "color": "#009E73"
         },
         "orientation": "h",
         "type": "bar",
         "x": [
          0.6231066110277746,
          0.6328430607996255,
          0.6328430607996255,
          0.6756626163149921,
          0.6756626163149921
         ],
         "xaxis": "x13",
         "y": [
          "lie  ",
          "basically  ",
          "guess  ",
          "asked  ",
          "guessed  "
         ],
         "yaxis": "y13"
        },
        {
         "marker": {
          "color": "#F0E442"
         },
         "orientation": "h",
         "type": "bar",
         "x": [
          0.3994809892333573,
          0.3998952196141557,
          0.4191965069246365,
          0.43729631699973315,
          0.44968476102177707
         ],
         "xaxis": "x14",
         "y": [
          "boost  ",
          "stance  ",
          "profit  ",
          "try  ",
          "exploit  "
         ],
         "yaxis": "y14"
        }
       ],
       "layout": {
        "annotations": [
         {
          "font": {
           "size": 16
          },
          "showarrow": false,
          "text": "Topic 0",
          "x": 0.0875,
          "xanchor": "center",
          "xref": "paper",
          "y": 1,
          "yanchor": "bottom",
          "yref": "paper"
         },
         {
          "font": {
           "size": 16
          },
          "showarrow": false,
          "text": "Topic 1",
          "x": 0.36250000000000004,
          "xanchor": "center",
          "xref": "paper",
          "y": 1,
          "yanchor": "bottom",
          "yref": "paper"
         },
         {
          "font": {
           "size": 16
          },
          "showarrow": false,
          "text": "Topic 2",
          "x": 0.6375000000000001,
          "xanchor": "center",
          "xref": "paper",
          "y": 1,
          "yanchor": "bottom",
          "yref": "paper"
         },
         {
          "font": {
           "size": 16
          },
          "showarrow": false,
          "text": "Topic 3",
          "x": 0.9125,
          "xanchor": "center",
          "xref": "paper",
          "y": 1,
          "yanchor": "bottom",
          "yref": "paper"
         },
         {
          "font": {
           "size": 16
          },
          "showarrow": false,
          "text": "Topic 4",
          "x": 0.0875,
          "xanchor": "center",
          "xref": "paper",
          "y": 0.7250000000000001,
          "yanchor": "bottom",
          "yref": "paper"
         },
         {
          "font": {
           "size": 16
          },
          "showarrow": false,
          "text": "Topic 5",
          "x": 0.36250000000000004,
          "xanchor": "center",
          "xref": "paper",
          "y": 0.7250000000000001,
          "yanchor": "bottom",
          "yref": "paper"
         },
         {
          "font": {
           "size": 16
          },
          "showarrow": false,
          "text": "Topic 6",
          "x": 0.6375000000000001,
          "xanchor": "center",
          "xref": "paper",
          "y": 0.7250000000000001,
          "yanchor": "bottom",
          "yref": "paper"
         },
         {
          "font": {
           "size": 16
          },
          "showarrow": false,
          "text": "Topic 7",
          "x": 0.9125,
          "xanchor": "center",
          "xref": "paper",
          "y": 0.7250000000000001,
          "yanchor": "bottom",
          "yref": "paper"
         },
         {
          "font": {
           "size": 16
          },
          "showarrow": false,
          "text": "Topic 8",
          "x": 0.0875,
          "xanchor": "center",
          "xref": "paper",
          "y": 0.45,
          "yanchor": "bottom",
          "yref": "paper"
         },
         {
          "font": {
           "size": 16
          },
          "showarrow": false,
          "text": "Topic 9",
          "x": 0.36250000000000004,
          "xanchor": "center",
          "xref": "paper",
          "y": 0.45,
          "yanchor": "bottom",
          "yref": "paper"
         },
         {
          "font": {
           "size": 16
          },
          "showarrow": false,
          "text": "Topic 10",
          "x": 0.6375000000000001,
          "xanchor": "center",
          "xref": "paper",
          "y": 0.45,
          "yanchor": "bottom",
          "yref": "paper"
         },
         {
          "font": {
           "size": 16
          },
          "showarrow": false,
          "text": "Topic 11",
          "x": 0.9125,
          "xanchor": "center",
          "xref": "paper",
          "y": 0.45,
          "yanchor": "bottom",
          "yref": "paper"
         },
         {
          "font": {
           "size": 16
          },
          "showarrow": false,
          "text": "Topic 12",
          "x": 0.0875,
          "xanchor": "center",
          "xref": "paper",
          "y": 0.175,
          "yanchor": "bottom",
          "yref": "paper"
         },
         {
          "font": {
           "size": 16
          },
          "showarrow": false,
          "text": "Topic 13",
          "x": 0.36250000000000004,
          "xanchor": "center",
          "xref": "paper",
          "y": 0.175,
          "yanchor": "bottom",
          "yref": "paper"
         }
        ],
        "height": 1000,
        "hoverlabel": {
         "bgcolor": "white",
         "font": {
          "family": "Rockwell",
          "size": 16
         }
        },
        "showlegend": false,
        "template": {
         "data": {
          "bar": [
           {
            "error_x": {
             "color": "#2a3f5f"
            },
            "error_y": {
             "color": "#2a3f5f"
            },
            "marker": {
             "line": {
              "color": "white",
              "width": 0.5
             },
             "pattern": {
              "fillmode": "overlay",
              "size": 10,
              "solidity": 0.2
             }
            },
            "type": "bar"
           }
          ],
          "barpolar": [
           {
            "marker": {
             "line": {
              "color": "white",
              "width": 0.5
             },
             "pattern": {
              "fillmode": "overlay",
              "size": 10,
              "solidity": 0.2
             }
            },
            "type": "barpolar"
           }
          ],
          "carpet": [
           {
            "aaxis": {
             "endlinecolor": "#2a3f5f",
             "gridcolor": "#C8D4E3",
             "linecolor": "#C8D4E3",
             "minorgridcolor": "#C8D4E3",
             "startlinecolor": "#2a3f5f"
            },
            "baxis": {
             "endlinecolor": "#2a3f5f",
             "gridcolor": "#C8D4E3",
             "linecolor": "#C8D4E3",
             "minorgridcolor": "#C8D4E3",
             "startlinecolor": "#2a3f5f"
            },
            "type": "carpet"
           }
          ],
          "choropleth": [
           {
            "colorbar": {
             "outlinewidth": 0,
             "ticks": ""
            },
            "type": "choropleth"
           }
          ],
          "contour": [
           {
            "colorbar": {
             "outlinewidth": 0,
             "ticks": ""
            },
            "colorscale": [
             [
              0,
              "#0d0887"
             ],
             [
              0.1111111111111111,
              "#46039f"
             ],
             [
              0.2222222222222222,
              "#7201a8"
             ],
             [
              0.3333333333333333,
              "#9c179e"
             ],
             [
              0.4444444444444444,
              "#bd3786"
             ],
             [
              0.5555555555555556,
              "#d8576b"
             ],
             [
              0.6666666666666666,
              "#ed7953"
             ],
             [
              0.7777777777777778,
              "#fb9f3a"
             ],
             [
              0.8888888888888888,
              "#fdca26"
             ],
             [
              1,
              "#f0f921"
             ]
            ],
            "type": "contour"
           }
          ],
          "contourcarpet": [
           {
            "colorbar": {
             "outlinewidth": 0,
             "ticks": ""
            },
            "type": "contourcarpet"
           }
          ],
          "heatmap": [
           {
            "colorbar": {
             "outlinewidth": 0,
             "ticks": ""
            },
            "colorscale": [
             [
              0,
              "#0d0887"
             ],
             [
              0.1111111111111111,
              "#46039f"
             ],
             [
              0.2222222222222222,
              "#7201a8"
             ],
             [
              0.3333333333333333,
              "#9c179e"
             ],
             [
              0.4444444444444444,
              "#bd3786"
             ],
             [
              0.5555555555555556,
              "#d8576b"
             ],
             [
              0.6666666666666666,
              "#ed7953"
             ],
             [
              0.7777777777777778,
              "#fb9f3a"
             ],
             [
              0.8888888888888888,
              "#fdca26"
             ],
             [
              1,
              "#f0f921"
             ]
            ],
            "type": "heatmap"
           }
          ],
          "histogram": [
           {
            "marker": {
             "pattern": {
              "fillmode": "overlay",
              "size": 10,
              "solidity": 0.2
             }
            },
            "type": "histogram"
           }
          ],
          "histogram2d": [
           {
            "colorbar": {
             "outlinewidth": 0,
             "ticks": ""
            },
            "colorscale": [
             [
              0,
              "#0d0887"
             ],
             [
              0.1111111111111111,
              "#46039f"
             ],
             [
              0.2222222222222222,
              "#7201a8"
             ],
             [
              0.3333333333333333,
              "#9c179e"
             ],
             [
              0.4444444444444444,
              "#bd3786"
             ],
             [
              0.5555555555555556,
              "#d8576b"
             ],
             [
              0.6666666666666666,
              "#ed7953"
             ],
             [
              0.7777777777777778,
              "#fb9f3a"
             ],
             [
              0.8888888888888888,
              "#fdca26"
             ],
             [
              1,
              "#f0f921"
             ]
            ],
            "type": "histogram2d"
           }
          ],
          "histogram2dcontour": [
           {
            "colorbar": {
             "outlinewidth": 0,
             "ticks": ""
            },
            "colorscale": [
             [
              0,
              "#0d0887"
             ],
             [
              0.1111111111111111,
              "#46039f"
             ],
             [
              0.2222222222222222,
              "#7201a8"
             ],
             [
              0.3333333333333333,
              "#9c179e"
             ],
             [
              0.4444444444444444,
              "#bd3786"
             ],
             [
              0.5555555555555556,
              "#d8576b"
             ],
             [
              0.6666666666666666,
              "#ed7953"
             ],
             [
              0.7777777777777778,
              "#fb9f3a"
             ],
             [
              0.8888888888888888,
              "#fdca26"
             ],
             [
              1,
              "#f0f921"
             ]
            ],
            "type": "histogram2dcontour"
           }
          ],
          "mesh3d": [
           {
            "colorbar": {
             "outlinewidth": 0,
             "ticks": ""
            },
            "type": "mesh3d"
           }
          ],
          "parcoords": [
           {
            "line": {
             "colorbar": {
              "outlinewidth": 0,
              "ticks": ""
             }
            },
            "type": "parcoords"
           }
          ],
          "pie": [
           {
            "automargin": true,
            "type": "pie"
           }
          ],
          "scatter": [
           {
            "fillpattern": {
             "fillmode": "overlay",
             "size": 10,
             "solidity": 0.2
            },
            "type": "scatter"
           }
          ],
          "scatter3d": [
           {
            "line": {
             "colorbar": {
              "outlinewidth": 0,
              "ticks": ""
             }
            },
            "marker": {
             "colorbar": {
              "outlinewidth": 0,
              "ticks": ""
             }
            },
            "type": "scatter3d"
           }
          ],
          "scattercarpet": [
           {
            "marker": {
             "colorbar": {
              "outlinewidth": 0,
              "ticks": ""
             }
            },
            "type": "scattercarpet"
           }
          ],
          "scattergeo": [
           {
            "marker": {
             "colorbar": {
              "outlinewidth": 0,
              "ticks": ""
             }
            },
            "type": "scattergeo"
           }
          ],
          "scattergl": [
           {
            "marker": {
             "colorbar": {
              "outlinewidth": 0,
              "ticks": ""
             }
            },
            "type": "scattergl"
           }
          ],
          "scattermap": [
           {
            "marker": {
             "colorbar": {
              "outlinewidth": 0,
              "ticks": ""
             }
            },
            "type": "scattermap"
           }
          ],
          "scattermapbox": [
           {
            "marker": {
             "colorbar": {
              "outlinewidth": 0,
              "ticks": ""
             }
            },
            "type": "scattermapbox"
           }
          ],
          "scatterpolar": [
           {
            "marker": {
             "colorbar": {
              "outlinewidth": 0,
              "ticks": ""
             }
            },
            "type": "scatterpolar"
           }
          ],
          "scatterpolargl": [
           {
            "marker": {
             "colorbar": {
              "outlinewidth": 0,
              "ticks": ""
             }
            },
            "type": "scatterpolargl"
           }
          ],
          "scatterternary": [
           {
            "marker": {
             "colorbar": {
              "outlinewidth": 0,
              "ticks": ""
             }
            },
            "type": "scatterternary"
           }
          ],
          "surface": [
           {
            "colorbar": {
             "outlinewidth": 0,
             "ticks": ""
            },
            "colorscale": [
             [
              0,
              "#0d0887"
             ],
             [
              0.1111111111111111,
              "#46039f"
             ],
             [
              0.2222222222222222,
              "#7201a8"
             ],
             [
              0.3333333333333333,
              "#9c179e"
             ],
             [
              0.4444444444444444,
              "#bd3786"
             ],
             [
              0.5555555555555556,
              "#d8576b"
             ],
             [
              0.6666666666666666,
              "#ed7953"
             ],
             [
              0.7777777777777778,
              "#fb9f3a"
             ],
             [
              0.8888888888888888,
              "#fdca26"
             ],
             [
              1,
              "#f0f921"
             ]
            ],
            "type": "surface"
           }
          ],
          "table": [
           {
            "cells": {
             "fill": {
              "color": "#EBF0F8"
             },
             "line": {
              "color": "white"
             }
            },
            "header": {
             "fill": {
              "color": "#C8D4E3"
             },
             "line": {
              "color": "white"
             }
            },
            "type": "table"
           }
          ]
         },
         "layout": {
          "annotationdefaults": {
           "arrowcolor": "#2a3f5f",
           "arrowhead": 0,
           "arrowwidth": 1
          },
          "autotypenumbers": "strict",
          "coloraxis": {
           "colorbar": {
            "outlinewidth": 0,
            "ticks": ""
           }
          },
          "colorscale": {
           "diverging": [
            [
             0,
             "#8e0152"
            ],
            [
             0.1,
             "#c51b7d"
            ],
            [
             0.2,
             "#de77ae"
            ],
            [
             0.3,
             "#f1b6da"
            ],
            [
             0.4,
             "#fde0ef"
            ],
            [
             0.5,
             "#f7f7f7"
            ],
            [
             0.6,
             "#e6f5d0"
            ],
            [
             0.7,
             "#b8e186"
            ],
            [
             0.8,
             "#7fbc41"
            ],
            [
             0.9,
             "#4d9221"
            ],
            [
             1,
             "#276419"
            ]
           ],
           "sequential": [
            [
             0,
             "#0d0887"
            ],
            [
             0.1111111111111111,
             "#46039f"
            ],
            [
             0.2222222222222222,
             "#7201a8"
            ],
            [
             0.3333333333333333,
             "#9c179e"
            ],
            [
             0.4444444444444444,
             "#bd3786"
            ],
            [
             0.5555555555555556,
             "#d8576b"
            ],
            [
             0.6666666666666666,
             "#ed7953"
            ],
            [
             0.7777777777777778,
             "#fb9f3a"
            ],
            [
             0.8888888888888888,
             "#fdca26"
            ],
            [
             1,
             "#f0f921"
            ]
           ],
           "sequentialminus": [
            [
             0,
             "#0d0887"
            ],
            [
             0.1111111111111111,
             "#46039f"
            ],
            [
             0.2222222222222222,
             "#7201a8"
            ],
            [
             0.3333333333333333,
             "#9c179e"
            ],
            [
             0.4444444444444444,
             "#bd3786"
            ],
            [
             0.5555555555555556,
             "#d8576b"
            ],
            [
             0.6666666666666666,
             "#ed7953"
            ],
            [
             0.7777777777777778,
             "#fb9f3a"
            ],
            [
             0.8888888888888888,
             "#fdca26"
            ],
            [
             1,
             "#f0f921"
            ]
           ]
          },
          "colorway": [
           "#636efa",
           "#EF553B",
           "#00cc96",
           "#ab63fa",
           "#FFA15A",
           "#19d3f3",
           "#FF6692",
           "#B6E880",
           "#FF97FF",
           "#FECB52"
          ],
          "font": {
           "color": "#2a3f5f"
          },
          "geo": {
           "bgcolor": "white",
           "lakecolor": "white",
           "landcolor": "white",
           "showlakes": true,
           "showland": true,
           "subunitcolor": "#C8D4E3"
          },
          "hoverlabel": {
           "align": "left"
          },
          "hovermode": "closest",
          "mapbox": {
           "style": "light"
          },
          "paper_bgcolor": "white",
          "plot_bgcolor": "white",
          "polar": {
           "angularaxis": {
            "gridcolor": "#EBF0F8",
            "linecolor": "#EBF0F8",
            "ticks": ""
           },
           "bgcolor": "white",
           "radialaxis": {
            "gridcolor": "#EBF0F8",
            "linecolor": "#EBF0F8",
            "ticks": ""
           }
          },
          "scene": {
           "xaxis": {
            "backgroundcolor": "white",
            "gridcolor": "#DFE8F3",
            "gridwidth": 2,
            "linecolor": "#EBF0F8",
            "showbackground": true,
            "ticks": "",
            "zerolinecolor": "#EBF0F8"
           },
           "yaxis": {
            "backgroundcolor": "white",
            "gridcolor": "#DFE8F3",
            "gridwidth": 2,
            "linecolor": "#EBF0F8",
            "showbackground": true,
            "ticks": "",
            "zerolinecolor": "#EBF0F8"
           },
           "zaxis": {
            "backgroundcolor": "white",
            "gridcolor": "#DFE8F3",
            "gridwidth": 2,
            "linecolor": "#EBF0F8",
            "showbackground": true,
            "ticks": "",
            "zerolinecolor": "#EBF0F8"
           }
          },
          "shapedefaults": {
           "line": {
            "color": "#2a3f5f"
           }
          },
          "ternary": {
           "aaxis": {
            "gridcolor": "#DFE8F3",
            "linecolor": "#A2B1C6",
            "ticks": ""
           },
           "baxis": {
            "gridcolor": "#DFE8F3",
            "linecolor": "#A2B1C6",
            "ticks": ""
           },
           "bgcolor": "white",
           "caxis": {
            "gridcolor": "#DFE8F3",
            "linecolor": "#A2B1C6",
            "ticks": ""
           }
          },
          "title": {
           "x": 0.05
          },
          "xaxis": {
           "automargin": true,
           "gridcolor": "#EBF0F8",
           "linecolor": "#EBF0F8",
           "ticks": "",
           "title": {
            "standoff": 15
           },
           "zerolinecolor": "#EBF0F8",
           "zerolinewidth": 2
          },
          "yaxis": {
           "automargin": true,
           "gridcolor": "#EBF0F8",
           "linecolor": "#EBF0F8",
           "ticks": "",
           "title": {
            "standoff": 15
           },
           "zerolinecolor": "#EBF0F8",
           "zerolinewidth": 2
          }
         }
        },
        "title": {
         "font": {
          "color": "Black",
          "size": 22
         },
         "text": "Topic Word Scores",
         "x": 0.5,
         "xanchor": "center",
         "yanchor": "top"
        },
        "width": 1000,
        "xaxis": {
         "anchor": "y",
         "domain": [
          0,
          0.175
         ],
         "showgrid": true
        },
        "xaxis10": {
         "anchor": "y10",
         "domain": [
          0.275,
          0.45
         ],
         "showgrid": true
        },
        "xaxis11": {
         "anchor": "y11",
         "domain": [
          0.55,
          0.7250000000000001
         ],
         "showgrid": true
        },
        "xaxis12": {
         "anchor": "y12",
         "domain": [
          0.825,
          1
         ],
         "showgrid": true
        },
        "xaxis13": {
         "anchor": "y13",
         "domain": [
          0,
          0.175
         ],
         "showgrid": true
        },
        "xaxis14": {
         "anchor": "y14",
         "domain": [
          0.275,
          0.45
         ],
         "showgrid": true
        },
        "xaxis15": {
         "anchor": "y15",
         "domain": [
          0.55,
          0.7250000000000001
         ],
         "showgrid": true
        },
        "xaxis16": {
         "anchor": "y16",
         "domain": [
          0.825,
          1
         ],
         "showgrid": true
        },
        "xaxis2": {
         "anchor": "y2",
         "domain": [
          0.275,
          0.45
         ],
         "showgrid": true
        },
        "xaxis3": {
         "anchor": "y3",
         "domain": [
          0.55,
          0.7250000000000001
         ],
         "showgrid": true
        },
        "xaxis4": {
         "anchor": "y4",
         "domain": [
          0.825,
          1
         ],
         "showgrid": true
        },
        "xaxis5": {
         "anchor": "y5",
         "domain": [
          0,
          0.175
         ],
         "showgrid": true
        },
        "xaxis6": {
         "anchor": "y6",
         "domain": [
          0.275,
          0.45
         ],
         "showgrid": true
        },
        "xaxis7": {
         "anchor": "y7",
         "domain": [
          0.55,
          0.7250000000000001
         ],
         "showgrid": true
        },
        "xaxis8": {
         "anchor": "y8",
         "domain": [
          0.825,
          1
         ],
         "showgrid": true
        },
        "xaxis9": {
         "anchor": "y9",
         "domain": [
          0,
          0.175
         ],
         "showgrid": true
        },
        "yaxis": {
         "anchor": "x",
         "domain": [
          0.825,
          1
         ],
         "showgrid": true
        },
        "yaxis10": {
         "anchor": "x10",
         "domain": [
          0.275,
          0.45
         ],
         "showgrid": true
        },
        "yaxis11": {
         "anchor": "x11",
         "domain": [
          0.275,
          0.45
         ],
         "showgrid": true
        },
        "yaxis12": {
         "anchor": "x12",
         "domain": [
          0.275,
          0.45
         ],
         "showgrid": true
        },
        "yaxis13": {
         "anchor": "x13",
         "domain": [
          0,
          0.175
         ],
         "showgrid": true
        },
        "yaxis14": {
         "anchor": "x14",
         "domain": [
          0,
          0.175
         ],
         "showgrid": true
        },
        "yaxis15": {
         "anchor": "x15",
         "domain": [
          0,
          0.175
         ],
         "showgrid": true
        },
        "yaxis16": {
         "anchor": "x16",
         "domain": [
          0,
          0.175
         ],
         "showgrid": true
        },
        "yaxis2": {
         "anchor": "x2",
         "domain": [
          0.825,
          1
         ],
         "showgrid": true
        },
        "yaxis3": {
         "anchor": "x3",
         "domain": [
          0.825,
          1
         ],
         "showgrid": true
        },
        "yaxis4": {
         "anchor": "x4",
         "domain": [
          0.825,
          1
         ],
         "showgrid": true
        },
        "yaxis5": {
         "anchor": "x5",
         "domain": [
          0.55,
          0.7250000000000001
         ],
         "showgrid": true
        },
        "yaxis6": {
         "anchor": "x6",
         "domain": [
          0.55,
          0.7250000000000001
         ],
         "showgrid": true
        },
        "yaxis7": {
         "anchor": "x7",
         "domain": [
          0.55,
          0.7250000000000001
         ],
         "showgrid": true
        },
        "yaxis8": {
         "anchor": "x8",
         "domain": [
          0.55,
          0.7250000000000001
         ],
         "showgrid": true
        },
        "yaxis9": {
         "anchor": "x9",
         "domain": [
          0.275,
          0.45
         ],
         "showgrid": true
        }
       }
      }
     },
     "metadata": {},
     "output_type": "display_data"
    }
   ],
   "source": [
    "number_of_topics = len(BERT_model.get_topic_info())\n",
    "fig = BERT_model.visualize_barchart(top_n_topics=number_of_topics)\n",
    "fig"
   ]
  },
  {
   "cell_type": "code",
   "execution_count": 17,
   "metadata": {},
   "outputs": [
    {
     "data": {
      "application/vnd.plotly.v1+json": {
       "config": {
        "plotlyServerURL": "https://plot.ly"
       },
       "data": [
        {
         "hoverinfo": "text",
         "marker": {
          "color": "rgb(61,153,112)"
         },
         "mode": "lines",
         "type": "scatter",
         "x": {
          "bdata": "AAAAAAAAAABOzk0VVfTjP07OTRVV9OM/AAAAAAAAAAA=",
          "dtype": "f8"
         },
         "xaxis": "x",
         "y": {
          "bdata": "AAAAAAAAOcAAAAAAAAA5wAAAAAAAgEHAAAAAAACAQcA=",
          "dtype": "f8"
         },
         "yaxis": "y"
        },
        {
         "hoverinfo": "text",
         "marker": {
          "color": "rgb(61,153,112)"
         },
         "mode": "lines",
         "type": "scatter",
         "x": {
          "bdata": "Ts5NFVX04z9ePf14JRDkP149/XglEOQ/AAAAAAAAAAA=",
          "dtype": "f8"
         },
         "xaxis": "x",
         "y": {
          "bdata": "AAAAAAAAPsAAAAAAAAA+wAAAAAAAgEbAAAAAAACARsA=",
          "dtype": "f8"
         },
         "yaxis": "y"
        },
        {
         "hoverinfo": "text",
         "marker": {
          "color": "rgb(61,153,112)"
         },
         "mode": "lines",
         "type": "scatter",
         "x": {
          "bdata": "AAAAAAAAAADNvSu1UG7lP829K7VQbuU/Xj39eCUQ5D8=",
          "dtype": "f8"
         },
         "xaxis": "x",
         "y": {
          "bdata": "AAAAAAAALsAAAAAAAAAuwAAAAAAAwELAAAAAAADAQsA=",
          "dtype": "f8"
         },
         "yaxis": "y"
        },
        {
         "hoverinfo": "text",
         "marker": {
          "color": "rgb(61,153,112)"
         },
         "mode": "lines",
         "type": "scatter",
         "x": {
          "bdata": "zb0rtVBu5T8YLDsawGPmPxgsOxrAY+Y/AAAAAAAAAAA=",
          "dtype": "f8"
         },
         "xaxis": "x",
         "y": {
          "bdata": "AAAAAABAOsAAAAAAAEA6wAAAAAAAgEvAAAAAAACAS8A=",
          "dtype": "f8"
         },
         "yaxis": "y"
        },
        {
         "hoverinfo": "text",
         "marker": {
          "color": "rgb(61,153,112)"
         },
         "mode": "lines",
         "type": "scatter",
         "x": {
          "bdata": "GCw7GsBj5j9HiwCy063nP0eLALLTrec/AAAAAAAAAAA=",
          "dtype": "f8"
         },
         "xaxis": "x",
         "y": {
          "bdata": "AAAAAABQRMAAAAAAAFBEwAAAAAAAQFDAAAAAAABAUMA=",
          "dtype": "f8"
         },
         "yaxis": "y"
        },
        {
         "hoverinfo": "text",
         "marker": {
          "color": "rgb(61,153,112)"
         },
         "mode": "lines",
         "type": "scatter",
         "x": {
          "bdata": "AAAAAAAAAAA6pgydjc7iPzqmDJ2NzuI/AAAAAAAAAAA=",
          "dtype": "f8"
         },
         "xaxis": "x",
         "y": {
          "bdata": "AAAAAABAVcAAAAAAAEBVwAAAAAAAwFfAAAAAAADAV8A=",
          "dtype": "f8"
         },
         "yaxis": "y"
        },
        {
         "hoverinfo": "text",
         "marker": {
          "color": "rgb(61,153,112)"
         },
         "mode": "lines",
         "type": "scatter",
         "x": {
          "bdata": "OqYMnY3O4j+La1glNljkP4trWCU2WOQ/AAAAAAAAAAA=",
          "dtype": "f8"
         },
         "xaxis": "x",
         "y": {
          "bdata": "AAAAAACAVsAAAAAAAIBWwAAAAAAAQFrAAAAAAABAWsA=",
          "dtype": "f8"
         },
         "yaxis": "y"
        },
        {
         "hoverinfo": "text",
         "marker": {
          "color": "rgb(61,153,112)"
         },
         "mode": "lines",
         "type": "scatter",
         "x": {
          "bdata": "AAAAAAAAAAB/JKUjnc3lP38kpSOdzeU/i2tYJTZY5D8=",
          "dtype": "f8"
         },
         "xaxis": "x",
         "y": {
          "bdata": "AAAAAADAUsAAAAAAAMBSwAAAAAAAYFjAAAAAAABgWMA=",
          "dtype": "f8"
         },
         "yaxis": "y"
        },
        {
         "hoverinfo": "text",
         "marker": {
          "color": "rgb(61,153,112)"
         },
         "mode": "lines",
         "type": "scatter",
         "x": {
          "bdata": "AAAAAAAAAABe72QJ3aLkP17vZAndouQ/AAAAAAAAAAA=",
          "dtype": "f8"
         },
         "xaxis": "x",
         "y": {
          "bdata": "AAAAAADAXMAAAAAAAMBcwAAAAAAAQF/AAAAAAABAX8A=",
          "dtype": "f8"
         },
         "yaxis": "y"
        },
        {
         "hoverinfo": "text",
         "marker": {
          "color": "rgb(61,153,112)"
         },
         "mode": "lines",
         "type": "scatter",
         "x": {
          "bdata": "fySlI53N5T/CfrXClzDoP8J+tcKXMOg/Xu9kCd2i5D8=",
          "dtype": "f8"
         },
         "xaxis": "x",
         "y": {
          "bdata": "AAAAAACQVcAAAAAAAJBVwAAAAAAAAF7AAAAAAAAAXsA=",
          "dtype": "f8"
         },
         "yaxis": "y"
        },
        {
         "hoverinfo": "text",
         "marker": {
          "color": "rgb(61,153,112)"
         },
         "mode": "lines",
         "type": "scatter",
         "x": {
          "bdata": "wn61wpcw6D+ybEcg++PrP7JsRyD74+s/AAAAAAAAAAA=",
          "dtype": "f8"
         },
         "xaxis": "x",
         "y": {
          "bdata": "AAAAAADIWcAAAAAAAMhZwAAAAAAA4GDAAAAAAADgYMA=",
          "dtype": "f8"
         },
         "yaxis": "y"
        },
        {
         "hoverinfo": "text",
         "marker": {
          "color": "rgb(61,153,112)"
         },
         "mode": "lines",
         "type": "scatter",
         "x": {
          "bdata": "R4sAstOt5z+U6p7GfQvuP5TqnsZ9C+4/smxHIPvj6z8=",
          "dtype": "f8"
         },
         "xaxis": "x",
         "y": {
          "bdata": "AAAAAABoSsAAAAAAAGhKwAAAAAAAxF3AAAAAAADEXcA=",
          "dtype": "f8"
         },
         "yaxis": "y"
        },
        {
         "hoverinfo": "text",
         "marker": {
          "color": "rgb(61,153,112)"
         },
         "mode": "lines",
         "type": "scatter",
         "x": {
          "bdata": "AAAAAAAAAADYo60PL5fvP9ijrQ8vl+8/lOqexn0L7j8=",
          "dtype": "f8"
         },
         "xaxis": "x",
         "y": {
          "bdata": "AAAAAAAAFMAAAAAAAAAUwAAAAAAAfFXAAAAAAAB8VcA=",
          "dtype": "f8"
         },
         "yaxis": "y"
        }
       ],
       "layout": {
        "autosize": false,
        "height": 410,
        "hoverlabel": {
         "bgcolor": "white",
         "font": {
          "family": "Rockwell",
          "size": 16
         }
        },
        "hovermode": "closest",
        "plot_bgcolor": "#ECEFF1",
        "showlegend": false,
        "template": {
         "data": {
          "bar": [
           {
            "error_x": {
             "color": "#2a3f5f"
            },
            "error_y": {
             "color": "#2a3f5f"
            },
            "marker": {
             "line": {
              "color": "white",
              "width": 0.5
             },
             "pattern": {
              "fillmode": "overlay",
              "size": 10,
              "solidity": 0.2
             }
            },
            "type": "bar"
           }
          ],
          "barpolar": [
           {
            "marker": {
             "line": {
              "color": "white",
              "width": 0.5
             },
             "pattern": {
              "fillmode": "overlay",
              "size": 10,
              "solidity": 0.2
             }
            },
            "type": "barpolar"
           }
          ],
          "carpet": [
           {
            "aaxis": {
             "endlinecolor": "#2a3f5f",
             "gridcolor": "#C8D4E3",
             "linecolor": "#C8D4E3",
             "minorgridcolor": "#C8D4E3",
             "startlinecolor": "#2a3f5f"
            },
            "baxis": {
             "endlinecolor": "#2a3f5f",
             "gridcolor": "#C8D4E3",
             "linecolor": "#C8D4E3",
             "minorgridcolor": "#C8D4E3",
             "startlinecolor": "#2a3f5f"
            },
            "type": "carpet"
           }
          ],
          "choropleth": [
           {
            "colorbar": {
             "outlinewidth": 0,
             "ticks": ""
            },
            "type": "choropleth"
           }
          ],
          "contour": [
           {
            "colorbar": {
             "outlinewidth": 0,
             "ticks": ""
            },
            "colorscale": [
             [
              0,
              "#0d0887"
             ],
             [
              0.1111111111111111,
              "#46039f"
             ],
             [
              0.2222222222222222,
              "#7201a8"
             ],
             [
              0.3333333333333333,
              "#9c179e"
             ],
             [
              0.4444444444444444,
              "#bd3786"
             ],
             [
              0.5555555555555556,
              "#d8576b"
             ],
             [
              0.6666666666666666,
              "#ed7953"
             ],
             [
              0.7777777777777778,
              "#fb9f3a"
             ],
             [
              0.8888888888888888,
              "#fdca26"
             ],
             [
              1,
              "#f0f921"
             ]
            ],
            "type": "contour"
           }
          ],
          "contourcarpet": [
           {
            "colorbar": {
             "outlinewidth": 0,
             "ticks": ""
            },
            "type": "contourcarpet"
           }
          ],
          "heatmap": [
           {
            "colorbar": {
             "outlinewidth": 0,
             "ticks": ""
            },
            "colorscale": [
             [
              0,
              "#0d0887"
             ],
             [
              0.1111111111111111,
              "#46039f"
             ],
             [
              0.2222222222222222,
              "#7201a8"
             ],
             [
              0.3333333333333333,
              "#9c179e"
             ],
             [
              0.4444444444444444,
              "#bd3786"
             ],
             [
              0.5555555555555556,
              "#d8576b"
             ],
             [
              0.6666666666666666,
              "#ed7953"
             ],
             [
              0.7777777777777778,
              "#fb9f3a"
             ],
             [
              0.8888888888888888,
              "#fdca26"
             ],
             [
              1,
              "#f0f921"
             ]
            ],
            "type": "heatmap"
           }
          ],
          "histogram": [
           {
            "marker": {
             "pattern": {
              "fillmode": "overlay",
              "size": 10,
              "solidity": 0.2
             }
            },
            "type": "histogram"
           }
          ],
          "histogram2d": [
           {
            "colorbar": {
             "outlinewidth": 0,
             "ticks": ""
            },
            "colorscale": [
             [
              0,
              "#0d0887"
             ],
             [
              0.1111111111111111,
              "#46039f"
             ],
             [
              0.2222222222222222,
              "#7201a8"
             ],
             [
              0.3333333333333333,
              "#9c179e"
             ],
             [
              0.4444444444444444,
              "#bd3786"
             ],
             [
              0.5555555555555556,
              "#d8576b"
             ],
             [
              0.6666666666666666,
              "#ed7953"
             ],
             [
              0.7777777777777778,
              "#fb9f3a"
             ],
             [
              0.8888888888888888,
              "#fdca26"
             ],
             [
              1,
              "#f0f921"
             ]
            ],
            "type": "histogram2d"
           }
          ],
          "histogram2dcontour": [
           {
            "colorbar": {
             "outlinewidth": 0,
             "ticks": ""
            },
            "colorscale": [
             [
              0,
              "#0d0887"
             ],
             [
              0.1111111111111111,
              "#46039f"
             ],
             [
              0.2222222222222222,
              "#7201a8"
             ],
             [
              0.3333333333333333,
              "#9c179e"
             ],
             [
              0.4444444444444444,
              "#bd3786"
             ],
             [
              0.5555555555555556,
              "#d8576b"
             ],
             [
              0.6666666666666666,
              "#ed7953"
             ],
             [
              0.7777777777777778,
              "#fb9f3a"
             ],
             [
              0.8888888888888888,
              "#fdca26"
             ],
             [
              1,
              "#f0f921"
             ]
            ],
            "type": "histogram2dcontour"
           }
          ],
          "mesh3d": [
           {
            "colorbar": {
             "outlinewidth": 0,
             "ticks": ""
            },
            "type": "mesh3d"
           }
          ],
          "parcoords": [
           {
            "line": {
             "colorbar": {
              "outlinewidth": 0,
              "ticks": ""
             }
            },
            "type": "parcoords"
           }
          ],
          "pie": [
           {
            "automargin": true,
            "type": "pie"
           }
          ],
          "scatter": [
           {
            "fillpattern": {
             "fillmode": "overlay",
             "size": 10,
             "solidity": 0.2
            },
            "type": "scatter"
           }
          ],
          "scatter3d": [
           {
            "line": {
             "colorbar": {
              "outlinewidth": 0,
              "ticks": ""
             }
            },
            "marker": {
             "colorbar": {
              "outlinewidth": 0,
              "ticks": ""
             }
            },
            "type": "scatter3d"
           }
          ],
          "scattercarpet": [
           {
            "marker": {
             "colorbar": {
              "outlinewidth": 0,
              "ticks": ""
             }
            },
            "type": "scattercarpet"
           }
          ],
          "scattergeo": [
           {
            "marker": {
             "colorbar": {
              "outlinewidth": 0,
              "ticks": ""
             }
            },
            "type": "scattergeo"
           }
          ],
          "scattergl": [
           {
            "marker": {
             "colorbar": {
              "outlinewidth": 0,
              "ticks": ""
             }
            },
            "type": "scattergl"
           }
          ],
          "scattermap": [
           {
            "marker": {
             "colorbar": {
              "outlinewidth": 0,
              "ticks": ""
             }
            },
            "type": "scattermap"
           }
          ],
          "scattermapbox": [
           {
            "marker": {
             "colorbar": {
              "outlinewidth": 0,
              "ticks": ""
             }
            },
            "type": "scattermapbox"
           }
          ],
          "scatterpolar": [
           {
            "marker": {
             "colorbar": {
              "outlinewidth": 0,
              "ticks": ""
             }
            },
            "type": "scatterpolar"
           }
          ],
          "scatterpolargl": [
           {
            "marker": {
             "colorbar": {
              "outlinewidth": 0,
              "ticks": ""
             }
            },
            "type": "scatterpolargl"
           }
          ],
          "scatterternary": [
           {
            "marker": {
             "colorbar": {
              "outlinewidth": 0,
              "ticks": ""
             }
            },
            "type": "scatterternary"
           }
          ],
          "surface": [
           {
            "colorbar": {
             "outlinewidth": 0,
             "ticks": ""
            },
            "colorscale": [
             [
              0,
              "#0d0887"
             ],
             [
              0.1111111111111111,
              "#46039f"
             ],
             [
              0.2222222222222222,
              "#7201a8"
             ],
             [
              0.3333333333333333,
              "#9c179e"
             ],
             [
              0.4444444444444444,
              "#bd3786"
             ],
             [
              0.5555555555555556,
              "#d8576b"
             ],
             [
              0.6666666666666666,
              "#ed7953"
             ],
             [
              0.7777777777777778,
              "#fb9f3a"
             ],
             [
              0.8888888888888888,
              "#fdca26"
             ],
             [
              1,
              "#f0f921"
             ]
            ],
            "type": "surface"
           }
          ],
          "table": [
           {
            "cells": {
             "fill": {
              "color": "#EBF0F8"
             },
             "line": {
              "color": "white"
             }
            },
            "header": {
             "fill": {
              "color": "#C8D4E3"
             },
             "line": {
              "color": "white"
             }
            },
            "type": "table"
           }
          ]
         },
         "layout": {
          "annotationdefaults": {
           "arrowcolor": "#2a3f5f",
           "arrowhead": 0,
           "arrowwidth": 1
          },
          "autotypenumbers": "strict",
          "coloraxis": {
           "colorbar": {
            "outlinewidth": 0,
            "ticks": ""
           }
          },
          "colorscale": {
           "diverging": [
            [
             0,
             "#8e0152"
            ],
            [
             0.1,
             "#c51b7d"
            ],
            [
             0.2,
             "#de77ae"
            ],
            [
             0.3,
             "#f1b6da"
            ],
            [
             0.4,
             "#fde0ef"
            ],
            [
             0.5,
             "#f7f7f7"
            ],
            [
             0.6,
             "#e6f5d0"
            ],
            [
             0.7,
             "#b8e186"
            ],
            [
             0.8,
             "#7fbc41"
            ],
            [
             0.9,
             "#4d9221"
            ],
            [
             1,
             "#276419"
            ]
           ],
           "sequential": [
            [
             0,
             "#0d0887"
            ],
            [
             0.1111111111111111,
             "#46039f"
            ],
            [
             0.2222222222222222,
             "#7201a8"
            ],
            [
             0.3333333333333333,
             "#9c179e"
            ],
            [
             0.4444444444444444,
             "#bd3786"
            ],
            [
             0.5555555555555556,
             "#d8576b"
            ],
            [
             0.6666666666666666,
             "#ed7953"
            ],
            [
             0.7777777777777778,
             "#fb9f3a"
            ],
            [
             0.8888888888888888,
             "#fdca26"
            ],
            [
             1,
             "#f0f921"
            ]
           ],
           "sequentialminus": [
            [
             0,
             "#0d0887"
            ],
            [
             0.1111111111111111,
             "#46039f"
            ],
            [
             0.2222222222222222,
             "#7201a8"
            ],
            [
             0.3333333333333333,
             "#9c179e"
            ],
            [
             0.4444444444444444,
             "#bd3786"
            ],
            [
             0.5555555555555556,
             "#d8576b"
            ],
            [
             0.6666666666666666,
             "#ed7953"
            ],
            [
             0.7777777777777778,
             "#fb9f3a"
            ],
            [
             0.8888888888888888,
             "#fdca26"
            ],
            [
             1,
             "#f0f921"
            ]
           ]
          },
          "colorway": [
           "#636efa",
           "#EF553B",
           "#00cc96",
           "#ab63fa",
           "#FFA15A",
           "#19d3f3",
           "#FF6692",
           "#B6E880",
           "#FF97FF",
           "#FECB52"
          ],
          "font": {
           "color": "#2a3f5f"
          },
          "geo": {
           "bgcolor": "white",
           "lakecolor": "white",
           "landcolor": "white",
           "showlakes": true,
           "showland": true,
           "subunitcolor": "#C8D4E3"
          },
          "hoverlabel": {
           "align": "left"
          },
          "hovermode": "closest",
          "mapbox": {
           "style": "light"
          },
          "paper_bgcolor": "white",
          "plot_bgcolor": "white",
          "polar": {
           "angularaxis": {
            "gridcolor": "#EBF0F8",
            "linecolor": "#EBF0F8",
            "ticks": ""
           },
           "bgcolor": "white",
           "radialaxis": {
            "gridcolor": "#EBF0F8",
            "linecolor": "#EBF0F8",
            "ticks": ""
           }
          },
          "scene": {
           "xaxis": {
            "backgroundcolor": "white",
            "gridcolor": "#DFE8F3",
            "gridwidth": 2,
            "linecolor": "#EBF0F8",
            "showbackground": true,
            "ticks": "",
            "zerolinecolor": "#EBF0F8"
           },
           "yaxis": {
            "backgroundcolor": "white",
            "gridcolor": "#DFE8F3",
            "gridwidth": 2,
            "linecolor": "#EBF0F8",
            "showbackground": true,
            "ticks": "",
            "zerolinecolor": "#EBF0F8"
           },
           "zaxis": {
            "backgroundcolor": "white",
            "gridcolor": "#DFE8F3",
            "gridwidth": 2,
            "linecolor": "#EBF0F8",
            "showbackground": true,
            "ticks": "",
            "zerolinecolor": "#EBF0F8"
           }
          },
          "shapedefaults": {
           "line": {
            "color": "#2a3f5f"
           }
          },
          "ternary": {
           "aaxis": {
            "gridcolor": "#DFE8F3",
            "linecolor": "#A2B1C6",
            "ticks": ""
           },
           "baxis": {
            "gridcolor": "#DFE8F3",
            "linecolor": "#A2B1C6",
            "ticks": ""
           },
           "bgcolor": "white",
           "caxis": {
            "gridcolor": "#DFE8F3",
            "linecolor": "#A2B1C6",
            "ticks": ""
           }
          },
          "title": {
           "x": 0.05
          },
          "xaxis": {
           "automargin": true,
           "gridcolor": "#EBF0F8",
           "linecolor": "#EBF0F8",
           "ticks": "",
           "title": {
            "standoff": 15
           },
           "zerolinecolor": "#EBF0F8",
           "zerolinewidth": 2
          },
          "yaxis": {
           "automargin": true,
           "gridcolor": "#EBF0F8",
           "linecolor": "#EBF0F8",
           "ticks": "",
           "title": {
            "standoff": 15
           },
           "zerolinecolor": "#EBF0F8",
           "zerolinewidth": 2
          }
         }
        },
        "title": {
         "font": {
          "color": "Black",
          "size": 22
         },
         "text": "<b>Hierarchical Clustering</b>",
         "x": 0.5,
         "xanchor": "center",
         "yanchor": "top"
        },
        "width": 1000,
        "xaxis": {
         "mirror": "allticks",
         "rangemode": "tozero",
         "showgrid": false,
         "showline": true,
         "showticklabels": true,
         "ticks": "outside",
         "type": "linear",
         "zeroline": false
        },
        "yaxis": {
         "mirror": "allticks",
         "range": [
          -140,
          0
         ],
         "rangemode": "tozero",
         "showgrid": false,
         "showline": true,
         "showticklabels": true,
         "tickmode": "array",
         "ticks": "outside",
         "ticktext": [
          "12_guessed_asked_guess",
          "5_lgbtq_rights_equality",
          "1_company_support_business",
          "0_climate_change_justice",
          "9_gun_sales_opportunity",
          "10_views_company_politics",
          "13_exploit_try_profit",
          "3_service_product_sellers",
          "2_bonus_payment_rather",
          "8_bonus_sellerâ_confidence",
          "4_based_thought_considered",
          "6_plain_high_15",
          "7_charity_donation_minimum",
          "11_need_money_instead"
         ],
         "tickvals": [
          -5,
          -15,
          -25,
          -35,
          -45,
          -55,
          -65,
          -75,
          -85,
          -95,
          -105,
          -115,
          -125,
          -135
         ],
         "type": "linear",
         "zeroline": false
        }
       }
      }
     },
     "metadata": {},
     "output_type": "display_data"
    }
   ],
   "source": [
    "fig2 = BERT_model.visualize_hierarchy()\n",
    "fig2"
   ]
  },
  {
   "cell_type": "code",
   "execution_count": 18,
   "metadata": {},
   "outputs": [
    {
     "name": "stderr",
     "output_type": "stream",
     "text": [
      "huggingface/tokenizers: The current process just got forked, after parallelism has already been used. Disabling parallelism to avoid deadlocks...\n",
      "To disable this warning, you can either:\n",
      "\t- Avoid using `tokenizers` before the fork if possible\n",
      "\t- Explicitly set the environment variable TOKENIZERS_PARALLELISM=(true | false)\n"
     ]
    },
    {
     "name": "stdout",
     "output_type": "stream",
     "text": [
      "Defaulting to user installation because normal site-packages is not writeable\n",
      "Requirement already satisfied: gensim in /Users/a788/Library/Python/3.9/lib/python/site-packages (4.3.3)\n",
      "Collecting numpy<2.0,>=1.18.5 (from gensim)\n",
      "  Using cached numpy-1.26.4-cp39-cp39-macosx_11_0_arm64.whl.metadata (61 kB)\n",
      "Requirement already satisfied: scipy<1.14.0,>=1.7.0 in /Users/a788/Library/Python/3.9/lib/python/site-packages (from gensim) (1.13.1)\n",
      "Requirement already satisfied: smart-open>=1.8.1 in /Users/a788/Library/Python/3.9/lib/python/site-packages (from gensim) (7.1.0)\n",
      "Requirement already satisfied: wrapt in /Users/a788/Library/Python/3.9/lib/python/site-packages (from smart-open>=1.8.1->gensim) (1.17.2)\n",
      "Using cached numpy-1.26.4-cp39-cp39-macosx_11_0_arm64.whl (14.0 MB)\n",
      "Installing collected packages: numpy\n",
      "  Attempting uninstall: numpy\n",
      "    Found existing installation: numpy 2.0.2\n",
      "    Uninstalling numpy-2.0.2:\n",
      "      Successfully uninstalled numpy-2.0.2\n",
      "\u001b[31mERROR: pip's dependency resolver does not currently take into account all the packages that are installed. This behaviour is the source of the following dependency conflicts.\n",
      "thinc 8.3.6 requires numpy<3.0.0,>=2.0.0, but you have numpy 1.26.4 which is incompatible.\u001b[0m\u001b[31m\n",
      "\u001b[0mSuccessfully installed numpy-1.26.4\n",
      "Note: you may need to restart the kernel to use updated packages.\n"
     ]
    }
   ],
   "source": [
    "%pip install gensim"
   ]
  },
  {
   "cell_type": "code",
   "execution_count": 19,
   "metadata": {},
   "outputs": [],
   "source": [
    "docs = df_ns.tolist()"
   ]
  },
  {
   "cell_type": "code",
   "execution_count": 20,
   "metadata": {},
   "outputs": [],
   "source": [
    "import gensim.corpora as corpora\n",
    "from gensim.models.coherencemodel import CoherenceModel"
   ]
  },
  {
   "cell_type": "code",
   "execution_count": null,
   "metadata": {},
   "outputs": [],
   "source": [
    "documents = pd.DataFrame({\"Document\": docs,\n",
    "                          \"ID\": range(len(docs)),\n",
    "                          \"Topic\": topics})"
   ]
  },
  {
   "cell_type": "code",
   "execution_count": 22,
   "metadata": {},
   "outputs": [],
   "source": [
    "documents_per_topic = documents.groupby(['Topic'], as_index=False).agg({'Document': ' '.join})\n",
    "cleaned_docs = BERT_model._preprocess_text(documents_per_topic.Document.values)"
   ]
  },
  {
   "cell_type": "code",
   "execution_count": null,
   "metadata": {},
   "outputs": [],
   "source": [
    "vectorizer = BERT_model.vectorizer_model\n",
    "analyzer = vectorizer_model.build_analyzer()"
   ]
  },
  {
   "cell_type": "code",
   "execution_count": null,
   "metadata": {},
   "outputs": [],
   "source": [
    "words = vectorizer.get_feature_names_out()\n",
    "tokens = [analyzer(doc) for doc in cleaned_docs]\n",
    "dictionary = corpora.Dictionary(tokens)\n",
    "corpus = [dictionary.doc2bow(token) for token in tokens]\n",
    "topic_words = [[words for words, _ in BERT_model.get_topic(topic)] \n",
    "               for topic in range(len(set(topics))-1)]"
   ]
  },
  {
   "cell_type": "code",
   "execution_count": 25,
   "metadata": {},
   "outputs": [
    {
     "data": {
      "text/plain": [
       "14"
      ]
     },
     "execution_count": 25,
     "metadata": {},
     "output_type": "execute_result"
    }
   ],
   "source": [
    "len(topic_words)"
   ]
  },
  {
   "cell_type": "markdown",
   "metadata": {},
   "source": [
    "Evaluation"
   ]
  },
  {
   "cell_type": "code",
   "execution_count": null,
   "metadata": {},
   "outputs": [
    {
     "name": "stderr",
     "output_type": "stream",
     "text": [
      "huggingface/tokenizers: The current process just got forked, after parallelism has already been used. Disabling parallelism to avoid deadlocks...\n",
      "To disable this warning, you can either:\n",
      "\t- Avoid using `tokenizers` before the fork if possible\n",
      "\t- Explicitly set the environment variable TOKENIZERS_PARALLELISM=(true | false)\n",
      "huggingface/tokenizers: The current process just got forked, after parallelism has already been used. Disabling parallelism to avoid deadlocks...\n",
      "To disable this warning, you can either:\n",
      "\t- Avoid using `tokenizers` before the fork if possible\n",
      "\t- Explicitly set the environment variable TOKENIZERS_PARALLELISM=(true | false)\n",
      "huggingface/tokenizers: The current process just got forked, after parallelism has already been used. Disabling parallelism to avoid deadlocks...\n",
      "To disable this warning, you can either:\n",
      "\t- Avoid using `tokenizers` before the fork if possible\n",
      "\t- Explicitly set the environment variable TOKENIZERS_PARALLELISM=(true | false)\n",
      "huggingface/tokenizers: The current process just got forked, after parallelism has already been used. Disabling parallelism to avoid deadlocks...\n",
      "To disable this warning, you can either:\n",
      "\t- Avoid using `tokenizers` before the fork if possible\n",
      "\t- Explicitly set the environment variable TOKENIZERS_PARALLELISM=(true | false)\n",
      "huggingface/tokenizers: The current process just got forked, after parallelism has already been used. Disabling parallelism to avoid deadlocks...\n",
      "To disable this warning, you can either:\n",
      "\t- Avoid using `tokenizers` before the fork if possible\n",
      "\t- Explicitly set the environment variable TOKENIZERS_PARALLELISM=(true | false)\n",
      "huggingface/tokenizers: The current process just got forked, after parallelism has already been used. Disabling parallelism to avoid deadlocks...\n",
      "To disable this warning, you can either:\n",
      "\t- Avoid using `tokenizers` before the fork if possible\n",
      "\t- Explicitly set the environment variable TOKENIZERS_PARALLELISM=(true | false)\n",
      "huggingface/tokenizers: The current process just got forked, after parallelism has already been used. Disabling parallelism to avoid deadlocks...\n",
      "To disable this warning, you can either:\n",
      "\t- Avoid using `tokenizers` before the fork if possible\n",
      "\t- Explicitly set the environment variable TOKENIZERS_PARALLELISM=(true | false)\n",
      "/Users/a788/Library/Python/3.9/lib/python/site-packages/urllib3/__init__.py:35: NotOpenSSLWarning: urllib3 v2 only supports OpenSSL 1.1.1+, currently the 'ssl' module is compiled with 'LibreSSL 2.8.3'. See: https://github.com/urllib3/urllib3/issues/3020\n",
      "  warnings.warn(\n",
      "/Users/a788/Library/Python/3.9/lib/python/site-packages/urllib3/__init__.py:35: NotOpenSSLWarning: urllib3 v2 only supports OpenSSL 1.1.1+, currently the 'ssl' module is compiled with 'LibreSSL 2.8.3'. See: https://github.com/urllib3/urllib3/issues/3020\n",
      "  warnings.warn(\n",
      "/Users/a788/Library/Python/3.9/lib/python/site-packages/urllib3/__init__.py:35: NotOpenSSLWarning: urllib3 v2 only supports OpenSSL 1.1.1+, currently the 'ssl' module is compiled with 'LibreSSL 2.8.3'. See: https://github.com/urllib3/urllib3/issues/3020\n",
      "  warnings.warn(\n",
      "/Users/a788/Library/Python/3.9/lib/python/site-packages/urllib3/__init__.py:35: NotOpenSSLWarning: urllib3 v2 only supports OpenSSL 1.1.1+, currently the 'ssl' module is compiled with 'LibreSSL 2.8.3'. See: https://github.com/urllib3/urllib3/issues/3020\n",
      "  warnings.warn(\n",
      "/Users/a788/Library/Python/3.9/lib/python/site-packages/urllib3/__init__.py:35: NotOpenSSLWarning: urllib3 v2 only supports OpenSSL 1.1.1+, currently the 'ssl' module is compiled with 'LibreSSL 2.8.3'. See: https://github.com/urllib3/urllib3/issues/3020\n",
      "  warnings.warn(\n",
      "/Users/a788/Library/Python/3.9/lib/python/site-packages/urllib3/__init__.py:35: NotOpenSSLWarning: urllib3 v2 only supports OpenSSL 1.1.1+, currently the 'ssl' module is compiled with 'LibreSSL 2.8.3'. See: https://github.com/urllib3/urllib3/issues/3020\n",
      "  warnings.warn(\n",
      "/Users/a788/Library/Python/3.9/lib/python/site-packages/urllib3/__init__.py:35: NotOpenSSLWarning: urllib3 v2 only supports OpenSSL 1.1.1+, currently the 'ssl' module is compiled with 'LibreSSL 2.8.3'. See: https://github.com/urllib3/urllib3/issues/3020\n",
      "  warnings.warn(\n"
     ]
    }
   ],
   "source": [
    "coherence_model = CoherenceModel(topics=topic_words, \n",
    "                                 texts=tokens, \n",
    "                                 corpus=corpus,\n",
    "                                 dictionary=dictionary, \n",
    "                                 coherence='c_v')\n",
    "coherence = coherence_model.get_coherence()"
   ]
  },
  {
   "cell_type": "code",
   "execution_count": null,
   "metadata": {},
   "outputs": [
    {
     "data": {
      "text/plain": [
       "[0.5996331547331826,\n",
       " 0.45680726184513515,\n",
       " 0.5154689574578023,\n",
       " 0.568718907312437,\n",
       " 0.42553306700634386,\n",
       " 0.6557107214238853,\n",
       " 0.5307283391912401,\n",
       " 0.5004640745302434,\n",
       " 0.2928205149089979,\n",
       " 0.5181215569662116,\n",
       " 0.4739330951255261,\n",
       " 0.5594901423865223,\n",
       " 0.72470022324749,\n",
       " 0.5670830526072543]"
      ]
     },
     "execution_count": 27,
     "metadata": {},
     "output_type": "execute_result"
    }
   ],
   "source": [
    "coherence_model.get_coherence_per_topic()"
   ]
  },
  {
   "cell_type": "code",
   "execution_count": 28,
   "metadata": {},
   "outputs": [
    {
     "data": {
      "text/plain": [
       "0.5278009334815909"
      ]
     },
     "execution_count": 28,
     "metadata": {},
     "output_type": "execute_result"
    }
   ],
   "source": [
    "coherence_model.get_coherence()"
   ]
  }
 ],
 "metadata": {
  "kernelspec": {
   "display_name": "Python unsupervised",
   "language": "python",
   "name": "unsupervised"
  },
  "language_info": {
   "codemirror_mode": {
    "name": "ipython",
    "version": 3
   },
   "file_extension": ".py",
   "mimetype": "text/x-python",
   "name": "python",
   "nbconvert_exporter": "python",
   "pygments_lexer": "ipython3",
   "version": "3.9.6"
  }
 },
 "nbformat": 4,
 "nbformat_minor": 2
}
