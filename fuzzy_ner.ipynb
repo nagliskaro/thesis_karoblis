{
 "cells": [
  {
   "cell_type": "code",
   "execution_count": null,
   "id": "92a1b664",
   "metadata": {},
   "outputs": [
    {
     "name": "stderr",
     "output_type": "stream",
     "text": [
      "/opt/anaconda3/envs/clean2/lib/python3.11/site-packages/fuzzywuzzy/fuzz.py:11: UserWarning: Using slow pure-python SequenceMatcher. Install python-Levenshtein to remove this warning\n",
      "  warnings.warn('Using slow pure-python SequenceMatcher. Install python-Levenshtein to remove this warning')\n"
     ]
    }
   ],
   "source": [
    "from fuzzywuzzy import fuzz\n",
    "import pandas as pd\n",
    "from tqdm import tqdm\n",
    "import numpy as np\n",
    "import json\n",
    "link_companies = 'Users/'\n",
    "df = pd.read_json('ner_output_first.json')\n",
    "import pickle"
   ]
  },
  {
   "cell_type": "code",
   "execution_count": 2,
   "id": "4ec3b951",
   "metadata": {},
   "outputs": [
    {
     "data": {
      "text/plain": [
       "62"
      ]
     },
     "execution_count": 2,
     "metadata": {},
     "output_type": "execute_result"
    }
   ],
   "source": [
    "fuzz.ratio(\"filA\", \"ChickfilA\")"
   ]
  },
  {
   "cell_type": "code",
   "execution_count": 2,
   "id": "0fc44198",
   "metadata": {},
   "outputs": [],
   "source": [
    "ORG = []\n",
    "PER = []\n",
    "LOC = []\n",
    "MISC = []"
   ]
  },
  {
   "cell_type": "markdown",
   "id": "cc432b67",
   "metadata": {},
   "source": [
    "### Semi-Manual Part Starts\n",
    "\n",
    "#### Misspelling corrections with fuzzy matching\n",
    "We Start with the most important - organizations category"
   ]
  },
  {
   "cell_type": "code",
   "execution_count": 5,
   "id": "9e2cb06a",
   "metadata": {},
   "outputs": [
    {
     "data": {
      "text/plain": [
       "[{'ORG': 'Chick Fil - A'}, {'MISC': 'Christian'}, {'MISC': 'Christian'}]"
      ]
     },
     "execution_count": 5,
     "metadata": {},
     "output_type": "execute_result"
    }
   ],
   "source": [
    "df['ner_output_first'][11]"
   ]
  },
  {
   "cell_type": "markdown",
   "id": "ea9b80a9",
   "metadata": {},
   "source": [
    "Lets get rid of MISC varirables in organizations"
   ]
  },
  {
   "cell_type": "code",
   "execution_count": null,
   "id": "eae517e6",
   "metadata": {},
   "outputs": [],
   "source": [
    "import re\n",
    "\n",
    "# matches exactly one letter (with no other letters around it)\n",
    "single_letter = re.compile(r'^[^A-Za-z]*[A-Za-z][^A-Za-z]*$')\n",
    "# matches any character that is NOT A–Z or a–z\n",
    "non_alpha      = re.compile(r'[^A-Za-z]')\n",
    "\n",
    "for row in df['ner_output_first']:\n",
    "    if not isinstance(row, list) or not row:\n",
    "        continue\n",
    "\n",
    "    for entity in row:\n",
    "        for label, text in list(entity.items()):\n",
    "            # remove all non-letters\n",
    "            cleaned = non_alpha.sub(\"\", text)\n",
    "\n",
    "            # if what's left is empty or just one letter, drop it\n",
    "            if not cleaned or single_letter.match(cleaned):\n",
    "                entity.pop(label)\n",
    "            else:\n",
    "                # otherwise overwrite in-place with the cleaned string\n",
    "                entity[label] = cleaned\n",
    "\n",
    "        # skip empty entities\n",
    "        if not entity:\n",
    "            continue\n",
    "\n",
    "        # your existing ORG→MISC recategorization\n",
    "        if entity.get('ORG') in {\n",
    "            'LGBTQ', 'Pride', 'RacialJustice',\n",
    "            'RighttoPrivacy', 'TV', 'Project', 'BLM', 'BlackLiveMatter', 'GunRights', 'Idk', 'LBGQT', 'MAGA', 'Matter', 'Planet'\n",
    "        }:\n",
    "            entity['MISC'] = entity.pop('ORG')"
   ]
  },
  {
   "cell_type": "code",
   "execution_count": 4,
   "id": "a10bd24c",
   "metadata": {},
   "outputs": [],
   "source": [
    "for row in df['ner_output_first']:\n",
    "        if row != \"[]\":\n",
    "            for entity in row:\n",
    "                for key, value in entity.items():\n",
    "                    if key == 'ORG':\n",
    "                        ORG.append(value)\n",
    "                    elif key == 'PER':\n",
    "                        PER.append(value)\n",
    "                    elif key == 'LOC':\n",
    "                        LOC.append(value)\n",
    "                    elif key == 'MISC':\n",
    "                        MISC.append(value)"
   ]
  },
  {
   "cell_type": "code",
   "execution_count": 6,
   "id": "9bb46902",
   "metadata": {},
   "outputs": [
    {
     "data": {
      "text/plain": [
       "{'AARP',\n",
       " 'AB',\n",
       " 'AMAC',\n",
       " 'Amazon',\n",
       " 'AmericanEagle',\n",
       " 'AmericanVets',\n",
       " 'AnheuserBusch',\n",
       " 'Apple',\n",
       " 'Aveda',\n",
       " 'Axiology',\n",
       " 'BET',\n",
       " 'BLQK',\n",
       " 'BassPro',\n",
       " 'BassProShops',\n",
       " 'BenJerrys',\n",
       " 'BenJerrysIceCream',\n",
       " 'Benand',\n",
       " 'BenandJerry',\n",
       " 'BenandJerrys',\n",
       " 'BenandJerrysIceCream',\n",
       " 'Bissell',\n",
       " 'BlackLivesMatter',\n",
       " 'BlackRifle',\n",
       " 'BlackRifleCoffee',\n",
       " 'BlackoutCoffee',\n",
       " 'Bombas',\n",
       " 'BombasCharitableSocks',\n",
       " 'BrewGreen',\n",
       " 'BudLight',\n",
       " 'BudLite',\n",
       " 'Budweiser',\n",
       " 'ChicFilA',\n",
       " 'ChicFila',\n",
       " 'Chicfil',\n",
       " 'Chicfila',\n",
       " 'Chick',\n",
       " 'ChickFiLe',\n",
       " 'ChickFilA',\n",
       " 'ChickFila',\n",
       " 'ChickFilet',\n",
       " 'Chickfil',\n",
       " 'ChickfilA',\n",
       " 'Chickfila',\n",
       " 'Chik',\n",
       " 'ChikFil',\n",
       " 'ChikFilA',\n",
       " 'ChikFilet',\n",
       " 'ChikfilA',\n",
       " 'Chipotle',\n",
       " 'Christina',\n",
       " 'CocaCola',\n",
       " 'Coke',\n",
       " 'Columbia',\n",
       " 'Control',\n",
       " 'Converse',\n",
       " 'DailyWire',\n",
       " 'DairyQueen',\n",
       " 'DemocraticParty',\n",
       " 'DicksSportingGoods',\n",
       " 'Disney',\n",
       " 'EFF',\n",
       " 'Earth',\n",
       " 'EarthFare',\n",
       " 'EcoGoods',\n",
       " 'EcoWear',\n",
       " 'Ecosia',\n",
       " 'ElectronicFrontierFoundation',\n",
       " 'Elf',\n",
       " 'Elon',\n",
       " 'Etsy',\n",
       " 'Facebook',\n",
       " 'FairTrade',\n",
       " 'FocusontheFamily',\n",
       " 'Ford',\n",
       " 'Fox',\n",
       " 'FoxNews',\n",
       " 'GOTS',\n",
       " 'GeneralMotors',\n",
       " 'GlobalOrganicTextileStandard',\n",
       " 'GoldmanSachs',\n",
       " 'Google',\n",
       " 'Government',\n",
       " 'GreenBrew',\n",
       " 'HCS',\n",
       " 'HUDA',\n",
       " 'HenrySchein',\n",
       " 'HenryScheinInc',\n",
       " 'HobbyLobby',\n",
       " 'HomeDepot',\n",
       " 'Hulu',\n",
       " 'HumanRightsCampaign',\n",
       " 'IKEA',\n",
       " 'Ikea',\n",
       " 'InNOut',\n",
       " 'InandOut',\n",
       " 'InandOutBurger',\n",
       " 'Intuit',\n",
       " 'Kohls',\n",
       " 'Kroger',\n",
       " 'LBGTQ',\n",
       " 'LOreal',\n",
       " 'Ladys',\n",
       " 'Levis',\n",
       " 'Lifelock',\n",
       " 'Lion',\n",
       " 'LivesMatter',\n",
       " 'MMA',\n",
       " 'Mardel',\n",
       " 'McDonalds',\n",
       " 'Mcdonalds',\n",
       " 'MercedesAMGFTeam',\n",
       " 'Microsoft',\n",
       " 'MorganChase',\n",
       " 'MotherEarthNews',\n",
       " 'MothersAgainstDrunkDrivers',\n",
       " 'MyPillow',\n",
       " 'NAACP',\n",
       " 'NRA',\n",
       " 'NationalRifleAssociation',\n",
       " 'NewmansOwn',\n",
       " 'Nike',\n",
       " 'NoMusicOnA',\n",
       " 'NorCal',\n",
       " 'NorthFace',\n",
       " 'ONRunning',\n",
       " 'OliveGarden',\n",
       " 'Oreo',\n",
       " 'Panera',\n",
       " 'Patagonia',\n",
       " 'PayPal',\n",
       " 'Peleton',\n",
       " 'PenzeysSpices',\n",
       " 'Pepsi',\n",
       " 'PetSmart',\n",
       " 'Pizza',\n",
       " 'PublicSquare',\n",
       " 'Revlon',\n",
       " 'RonaldMcDonaldHouse',\n",
       " 'RonaldMcdonald',\n",
       " 'Rothys',\n",
       " 'SafeNet',\n",
       " 'SalvationArmy',\n",
       " 'Skittles',\n",
       " 'Sony',\n",
       " 'StJude',\n",
       " 'Starbucks',\n",
       " 'Subaru',\n",
       " 'Subway',\n",
       " 'SusanKomenBreastCancerfoundation',\n",
       " 'TOMS',\n",
       " 'Target',\n",
       " 'TechInnovate',\n",
       " 'Tesla',\n",
       " 'TheSalvationArmy',\n",
       " 'TikTok',\n",
       " 'Toms',\n",
       " 'Twitter',\n",
       " 'UPS',\n",
       " 'UnitedAirlines',\n",
       " 'UnitedStatesPostService',\n",
       " 'VA',\n",
       " 'Vans',\n",
       " 'VictoriasSecret',\n",
       " 'WWE',\n",
       " 'Walmart',\n",
       " 'WarbyParker',\n",
       " 'WomankindWorldwide',\n",
       " 'WorldLifeAssociation',\n",
       " 'YesFriends',\n",
       " 'YouTube',\n",
       " 'amazon',\n",
       " 'and',\n",
       " 'benjerrys',\n",
       " 'chikfila',\n",
       " 'fila',\n",
       " 'greenpeace',\n",
       " 'joeJohns',\n",
       " 'johnson',\n",
       " 'la',\n",
       " 'lay',\n",
       " 'njalla',\n",
       " 'tesla'}"
      ]
     },
     "execution_count": 6,
     "metadata": {},
     "output_type": "execute_result"
    }
   ],
   "source": [
    "set(ORG)"
   ]
  },
  {
   "cell_type": "code",
   "execution_count": 8,
   "id": "c1073fb5",
   "metadata": {},
   "outputs": [
    {
     "data": {
      "text/plain": [
       "[{'ORG': 'HobbyLobby'}, {'ORG': 'Chick'}, {'MISC': 'fil'}, {}]"
      ]
     },
     "execution_count": 8,
     "metadata": {},
     "output_type": "execute_result"
    }
   ],
   "source": [
    "df['ner_output_first'][72]"
   ]
  },
  {
   "cell_type": "code",
   "execution_count": 9,
   "id": "49ac7ef5",
   "metadata": {},
   "outputs": [],
   "source": [
    "correct = [\"Patagonia\", \"ChickfilA\", \"McDonalds\", \"LGBTQ\", \"Tesla\", \"CocaCola\", \n",
    "           \"Levis\", \"BenJerrys\", \"BudLight\", \"InNOutBurger\", \"LOreal\", \n",
    "           \"TOMS\", \"Amazon\", \"Bombas\", \"BlackLivesMatter\", \"JohnsonJohnson\", \n",
    "           \"Greenpeace\", \"Dicks Sporting Goods\", \"Fox\", \"NewmansOwn\", \"Rothys\", \"HenrySchein\"]\n",
    "\n",
    "for row in df['ner_output_first']:\n",
    "    if row != \"[]\":\n",
    "        for entity in row:\n",
    "            for key, value in entity.items():\n",
    "                for label_true in correct:\n",
    "                    if fuzz.ratio(value, label_true) >= 65:\n",
    "                        entity[key] = label_true\n",
    "                    elif value in ['Fil', 'fil', 'filA']:\n",
    "                        entity[key] = 'ChickfilA'\n",
    "                    elif value in ['iPhones']:\n",
    "                        entity[key] = 'Apple'\n",
    "    else:\n",
    "        continue"
   ]
  },
  {
   "cell_type": "code",
   "execution_count": 11,
   "id": "ce1c828d",
   "metadata": {},
   "outputs": [],
   "source": [
    "org_values = set(pd.Series(ORG))\n",
    "\n",
    "for row in df['ner_output_first']:\n",
    "    if not isinstance(row, list) or not row:\n",
    "        continue\n",
    "\n",
    "    for entity in row:\n",
    "        # if it already has an ORG, skip\n",
    "        if 'ORG' in entity:\n",
    "            continue\n",
    "\n",
    "        for label, text in list(entity.items()):\n",
    "            # if text is in your org_values, reclassify & stop\n",
    "            if text in org_values:\n",
    "                entity['ORG'] = entity.pop(label)"
   ]
  },
  {
   "cell_type": "code",
   "execution_count": 13,
   "id": "a621256f",
   "metadata": {},
   "outputs": [],
   "source": [
    "for row in df['ner_output_first']:\n",
    "        if row != \"[]\":\n",
    "            for entity in row:\n",
    "                for key, value in entity.items():\n",
    "                    if key == 'ORG':\n",
    "                        ORG.append(value)\n",
    "                    elif key == 'PER':\n",
    "                        PER.append(value)\n",
    "                    elif key == 'LOC':\n",
    "                        LOC.append(value)\n",
    "                    elif key == 'MISC':\n",
    "                        MISC.append(value)"
   ]
  },
  {
   "cell_type": "code",
   "execution_count": null,
   "id": "eeda2bdf",
   "metadata": {},
   "outputs": [
    {
     "data": {
      "text/plain": [
       "{'AARP',\n",
       " 'AB',\n",
       " 'AMAC',\n",
       " 'Amazon',\n",
       " 'AmericanEagle',\n",
       " 'AmericanVets',\n",
       " 'AnheuserBusch',\n",
       " 'Apple',\n",
       " 'Aveda',\n",
       " 'Axiology',\n",
       " 'BET',\n",
       " 'BLQK',\n",
       " 'BassPro',\n",
       " 'BassProShops',\n",
       " 'BenJerrys',\n",
       " 'BenJerrysIceCream',\n",
       " 'Benand',\n",
       " 'BenandJerry',\n",
       " 'BenandJerrys',\n",
       " 'BenandJerrysIceCream',\n",
       " 'Bissell',\n",
       " 'BlackLivesMatter',\n",
       " 'BlackRifle',\n",
       " 'BlackRifleCoffee',\n",
       " 'BlackoutCoffee',\n",
       " 'Bombas',\n",
       " 'BombasCharitableSocks',\n",
       " 'BrewGreen',\n",
       " 'BudLight',\n",
       " 'BudLite',\n",
       " 'Budweiser',\n",
       " 'ChicFilA',\n",
       " 'ChicFila',\n",
       " 'Chicfil',\n",
       " 'Chicfila',\n",
       " 'Chick',\n",
       " 'ChickFiLe',\n",
       " 'ChickFilA',\n",
       " 'ChickFila',\n",
       " 'ChickFilet',\n",
       " 'Chickfil',\n",
       " 'ChickfilA',\n",
       " 'Chickfila',\n",
       " 'Chik',\n",
       " 'ChikFil',\n",
       " 'ChikFilA',\n",
       " 'ChikFilet',\n",
       " 'ChikfilA',\n",
       " 'Chipotle',\n",
       " 'Christina',\n",
       " 'CocaCola',\n",
       " 'Coke',\n",
       " 'Columbia',\n",
       " 'Control',\n",
       " 'Converse',\n",
       " 'DailyWire',\n",
       " 'DairyQueen',\n",
       " 'DemocraticParty',\n",
       " 'Dicks Sporting Goods',\n",
       " 'DicksSportingGoods',\n",
       " 'Disney',\n",
       " 'EFF',\n",
       " 'Earth',\n",
       " 'EarthFare',\n",
       " 'EcoGoods',\n",
       " 'EcoWear',\n",
       " 'Ecosia',\n",
       " 'ElectronicFrontierFoundation',\n",
       " 'Elf',\n",
       " 'Elon',\n",
       " 'Etsy',\n",
       " 'Facebook',\n",
       " 'FairTrade',\n",
       " 'FocusontheFamily',\n",
       " 'Ford',\n",
       " 'Fox',\n",
       " 'FoxNews',\n",
       " 'GOTS',\n",
       " 'GeneralMotors',\n",
       " 'GlobalOrganicTextileStandard',\n",
       " 'GoldmanSachs',\n",
       " 'Google',\n",
       " 'Government',\n",
       " 'GreenBrew',\n",
       " 'Greenpeace',\n",
       " 'HCS',\n",
       " 'HUDA',\n",
       " 'HenrySchein',\n",
       " 'HenryScheinInc',\n",
       " 'HobbyLobby',\n",
       " 'HomeDepot',\n",
       " 'Hulu',\n",
       " 'HumanRightsCampaign',\n",
       " 'IKEA',\n",
       " 'Ikea',\n",
       " 'InNOut',\n",
       " 'InNOutBurger',\n",
       " 'InandOut',\n",
       " 'InandOutBurger',\n",
       " 'Intuit',\n",
       " 'Kohls',\n",
       " 'Kroger',\n",
       " 'LBGTQ',\n",
       " 'LGBTQ',\n",
       " 'LOreal',\n",
       " 'Ladys',\n",
       " 'Levis',\n",
       " 'Lifelock',\n",
       " 'Lion',\n",
       " 'LivesMatter',\n",
       " 'MMA',\n",
       " 'Mardel',\n",
       " 'McDonalds',\n",
       " 'Mcdonalds',\n",
       " 'MercedesAMGFTeam',\n",
       " 'Microsoft',\n",
       " 'MorganChase',\n",
       " 'MotherEarthNews',\n",
       " 'MothersAgainstDrunkDrivers',\n",
       " 'MyPillow',\n",
       " 'NAACP',\n",
       " 'NRA',\n",
       " 'NationalRifleAssociation',\n",
       " 'NewmansOwn',\n",
       " 'Nike',\n",
       " 'NoMusicOnA',\n",
       " 'NorCal',\n",
       " 'NorthFace',\n",
       " 'ONRunning',\n",
       " 'OliveGarden',\n",
       " 'Oreo',\n",
       " 'Panera',\n",
       " 'Patagonia',\n",
       " 'PayPal',\n",
       " 'Peleton',\n",
       " 'PenzeysSpices',\n",
       " 'Pepsi',\n",
       " 'PetSmart',\n",
       " 'Pizza',\n",
       " 'PublicSquare',\n",
       " 'Revlon',\n",
       " 'RonaldMcDonaldHouse',\n",
       " 'RonaldMcdonald',\n",
       " 'Rothys',\n",
       " 'SafeNet',\n",
       " 'SalvationArmy',\n",
       " 'Skittles',\n",
       " 'Sony',\n",
       " 'StJude',\n",
       " 'Starbucks',\n",
       " 'Subaru',\n",
       " 'Subway',\n",
       " 'SusanKomenBreastCancerfoundation',\n",
       " 'TOMS',\n",
       " 'Target',\n",
       " 'TechInnovate',\n",
       " 'Tesla',\n",
       " 'TheSalvationArmy',\n",
       " 'TikTok',\n",
       " 'Toms',\n",
       " 'Twitter',\n",
       " 'UPS',\n",
       " 'UnitedAirlines',\n",
       " 'UnitedStatesPostService',\n",
       " 'VA',\n",
       " 'Vans',\n",
       " 'VictoriasSecret',\n",
       " 'WWE',\n",
       " 'Walmart',\n",
       " 'WarbyParker',\n",
       " 'WomankindWorldwide',\n",
       " 'WorldLifeAssociation',\n",
       " 'YesFriends',\n",
       " 'YouTube',\n",
       " 'amazon',\n",
       " 'and',\n",
       " 'benjerrys',\n",
       " 'chikfila',\n",
       " 'fila',\n",
       " 'greenpeace',\n",
       " 'joeJohns',\n",
       " 'johnson',\n",
       " 'la',\n",
       " 'lay',\n",
       " 'njalla',\n",
       " 'tesla'}"
      ]
     },
     "execution_count": 14,
     "metadata": {},
     "output_type": "execute_result"
    }
   ],
   "source": [
    "ORG_set = set(ORG)"
   ]
  },
  {
   "cell_type": "code",
   "execution_count": null,
   "id": "f95a7b68",
   "metadata": {},
   "outputs": [
    {
     "data": {
      "text/plain": [
       "73"
      ]
     },
     "execution_count": 15,
     "metadata": {},
     "output_type": "execute_result"
    }
   ],
   "source": [
    "# let's test the similarity ratio\n",
    "fuzz.ratio('BlackoutCoffee', 'BlackRifleCoffee')"
   ]
  },
  {
   "cell_type": "markdown",
   "id": "7b39216d",
   "metadata": {},
   "source": [
    "interesting ! fuzz.ratio('BlackoutCoffee', 'BlackRifleCoffee') gives 73\n",
    "fuzz.ratio('Amazon', 'Patagonia') gives 40"
   ]
  },
  {
   "cell_type": "code",
   "execution_count": 16,
   "id": "1aa3ad5c",
   "metadata": {},
   "outputs": [],
   "source": [
    "to_delete_values = ['and', 'la', 'lay', 'njalla', 'pro']\n",
    "\n",
    "for row in df['ner_output_first']:\n",
    "    # skip non-lists\n",
    "    if not isinstance(row, list):\n",
    "        continue\n",
    "\n",
    "    for entity in row:\n",
    "        # iterate over a snapshot of the dict’s items\n",
    "        for key, val in list(entity.items()):\n",
    "            if val in to_delete_values:\n",
    "                entity.pop(key)"
   ]
  },
  {
   "cell_type": "code",
   "execution_count": 17,
   "id": "2d344eab",
   "metadata": {},
   "outputs": [],
   "source": [
    "ORG, PER, LOC, MISC = [], [], [], []\n",
    "\n",
    "for row in df['ner_output_first']:\n",
    "        if row != \"[]\":\n",
    "            for entity in row:\n",
    "                for key, value in entity.items():\n",
    "                    if key == 'ORG':\n",
    "                        ORG.append(value)\n",
    "                    elif key == 'PER':\n",
    "                        PER.append(value)\n",
    "                    elif key == 'LOC':\n",
    "                        LOC.append(value)\n",
    "                    elif key == 'MISC':\n",
    "                        MISC.append(value)"
   ]
  },
  {
   "cell_type": "code",
   "execution_count": 18,
   "id": "7826293b",
   "metadata": {},
   "outputs": [],
   "source": [
    "list_misc = ['BLM', 'BlackLivesMatter', 'GunRights', 'Idk', 'LBGQT', 'LGBTQ', 'MAGA', 'Matter', 'Planet', 'RacialJustice', 'RighttoPrivacy']\n",
    "list_per = ['Christina', 'Elon', 'joeJohns']\n",
    "list_loc = ['NorCal']\n",
    "\n",
    "for row in df['ner_output_first']:\n",
    "    if not isinstance(row, list) or not row:\n",
    "        continue\n",
    "\n",
    "    for entity in row:\n",
    "        if not entity:\n",
    "            continue\n",
    "\n",
    "        # your existing ORG→MISC recategorization\n",
    "        if entity.get('ORG') in {\n",
    "            'BLM', 'BlackLivesMatter', 'GunRights', 'Idk', 'LBGQT', 'LGBTQ', 'MAGA', 'Matter', 'Planet', 'RacialJustice', 'RighttoPrivacy'\n",
    "        }:\n",
    "            entity['MISC'] = entity.pop('ORG')\n",
    "        \n",
    "        elif entity.get('ORG') in {\n",
    "            'Christina', 'Elon', 'joeJohns'\n",
    "        }:\n",
    "            entity['PER'] = entity.pop('ORG')\n",
    "        \n",
    "        elif entity.get('ORG') in {\n",
    "            'NorCal'\n",
    "        }:\n",
    "            entity['LOC'] = entity.pop('ORG')\n",
    "\n",
    "        elif entity.get('MISC') in {\n",
    "            'Grubhub', 'Tinder', 'Instagram', 'Fenty', 'Formula', 'Olympic', 'OlympicCommittee', 'Olympics'\n",
    "        }:\n",
    "            entity['ORG'] = entity.pop('MISC')"
   ]
  },
  {
   "cell_type": "code",
   "execution_count": 19,
   "id": "3bdbdf82",
   "metadata": {},
   "outputs": [],
   "source": [
    "ORG, PER, LOC, MISC = [], [], [], []\n",
    "\n",
    "for row in df['ner_output_first']:\n",
    "        if row != \"[]\":\n",
    "            for entity in row:\n",
    "                for key, value in entity.items():\n",
    "                    if key == 'ORG':\n",
    "                        ORG.append(value)\n",
    "                    elif key == 'PER':\n",
    "                        PER.append(value)\n",
    "                    elif key == 'LOC':\n",
    "                        LOC.append(value)\n",
    "                    elif key == 'MISC':\n",
    "                        MISC.append(value)"
   ]
  },
  {
   "cell_type": "code",
   "execution_count": 20,
   "id": "d52e6037",
   "metadata": {},
   "outputs": [
    {
     "data": {
      "text/plain": [
       "{'Ben',\n",
       " 'BenSapiro',\n",
       " 'Budwieser',\n",
       " 'Christina',\n",
       " 'ColinKaepernick',\n",
       " 'ColinKapernick',\n",
       " 'DonaldTrump',\n",
       " 'Dylan',\n",
       " 'DylanMulvaney',\n",
       " 'Elon',\n",
       " 'ElonMusk',\n",
       " 'GeorgeFloyd',\n",
       " 'God',\n",
       " 'Grubhub',\n",
       " 'Hodgetwins',\n",
       " 'Jesus',\n",
       " 'Jude',\n",
       " 'Kimkardashian',\n",
       " 'Linda',\n",
       " 'Rihanna',\n",
       " 'Sabbth',\n",
       " 'Tinder',\n",
       " 'Tom',\n",
       " 'Trump',\n",
       " 'Vince',\n",
       " 'VinceMcMahon',\n",
       " 'joeJohns'}"
      ]
     },
     "execution_count": 20,
     "metadata": {},
     "output_type": "execute_result"
    }
   ],
   "source": [
    "set(PER)"
   ]
  },
  {
   "cell_type": "markdown",
   "id": "2a3db799",
   "metadata": {},
   "source": [
    "We seem to have a solid ORG set. Lets remove any ORG misclassified in other categories."
   ]
  },
  {
   "cell_type": "code",
   "execution_count": null,
   "id": "dc4c1811",
   "metadata": {},
   "outputs": [],
   "source": [
    "ORG_set = set(ORG)\n",
    "\n",
    "def reassign_org(entities):\n",
    "    # if its not a list, just return it unchanged\n",
    "    if not isinstance(entities, list):\n",
    "        return entities\n",
    "\n",
    "    for ent in entities:\n",
    "        if not isinstance(ent, dict):\n",
    "            continue\n",
    "\n",
    "        # iterate over a copy of (key, value) pairs so we can pop safely\n",
    "        for key, value in list(ent.items()):\n",
    "            if key != 'ORG' and value in ORG_set:\n",
    "                ent['ORG'] = ent.pop(key)\n",
    "                break\n",
    "\n",
    "    return entities\n",
    "\n",
    "df['ner_output_first'] = df['ner_output_first'].apply(reassign_org)"
   ]
  },
  {
   "cell_type": "code",
   "execution_count": 22,
   "id": "040b6dc4",
   "metadata": {},
   "outputs": [],
   "source": [
    "ORG, PER, LOC, MISC = [], [], [], []\n",
    "\n",
    "for row in df['ner_output_first']:\n",
    "        if row != \"[]\":\n",
    "            for entity in row:\n",
    "                for key, value in entity.items():\n",
    "                    if key == 'ORG':\n",
    "                        ORG.append(value)\n",
    "                    elif key == 'PER':\n",
    "                        PER.append(value)\n",
    "                    elif key == 'LOC':\n",
    "                        LOC.append(value)\n",
    "                    elif key == 'MISC':\n",
    "                        MISC.append(value)"
   ]
  },
  {
   "cell_type": "code",
   "execution_count": 24,
   "id": "3268e34a",
   "metadata": {},
   "outputs": [],
   "source": [
    "set_ORG = set(ORG)\n",
    "set_LOC = set(LOC)\n",
    "set_PER = set(PER)\n",
    "set_MISC = set(MISC)"
   ]
  },
  {
   "cell_type": "code",
   "execution_count": null,
   "id": "c09943ae",
   "metadata": {},
   "outputs": [],
   "source": [
    "categories = [ORG, LOC, PER, MISC]"
   ]
  },
  {
   "cell_type": "markdown",
   "id": "caaf9949",
   "metadata": {},
   "source": [
    "Issues: \n",
    "- Same org with two different names: ChickfilA and Chick etc.\n",
    "- Values or MISC categorized as ORG"
   ]
  },
  {
   "cell_type": "code",
   "execution_count": 26,
   "id": "ab48ffc8",
   "metadata": {},
   "outputs": [
    {
     "data": {
      "text/plain": [
       "ChickfilA     55\n",
       "Patagonia     35\n",
       "Target        24\n",
       "BenJerrys     22\n",
       "Starbucks     22\n",
       "Nike          19\n",
       "HobbyLobby    13\n",
       "BudLight      11\n",
       "Walmart       11\n",
       "Amazon        10\n",
       "Name: count, dtype: int64"
      ]
     },
     "execution_count": 26,
     "metadata": {},
     "output_type": "execute_result"
    }
   ],
   "source": [
    "ORG_series = pd.Series(ORG)\n",
    "ORG_series.value_counts().head(10)"
   ]
  },
  {
   "cell_type": "code",
   "execution_count": null,
   "id": "37e0503c",
   "metadata": {},
   "outputs": [],
   "source": [
    "link = 'documents.xlsx'\n",
    "df_full = pd.ExcelFile(link).parse('general_labeled')\n",
    "df_full.columns = df_full.iloc[0]\n",
    "df_full = df_full[1:].reset_index(drop=True)"
   ]
  },
  {
   "cell_type": "code",
   "execution_count": 28,
   "id": "1175894d",
   "metadata": {},
   "outputs": [],
   "source": [
    "df_full['ner_output'] = df['ner_output_first']"
   ]
  },
  {
   "cell_type": "code",
   "execution_count": 29,
   "id": "4daeca33",
   "metadata": {},
   "outputs": [],
   "source": [
    "df_full = df_full[['recognition_value', 'rv_label', 'ner_output']]"
   ]
  },
  {
   "cell_type": "code",
   "execution_count": 30,
   "id": "41ab1f86",
   "metadata": {},
   "outputs": [],
   "source": [
    "df_full.to_excel('df_full.xlsx')"
   ]
  },
  {
   "cell_type": "code",
   "execution_count": null,
   "id": "737b61c8",
   "metadata": {},
   "outputs": [],
   "source": [
    "with open('df_ner_analysis.pkl','wb') as f:\n",
    "    pickle.dump(df_full, f)"
   ]
  }
 ],
 "metadata": {
  "kernelspec": {
   "display_name": "clean2",
   "language": "python",
   "name": "python3"
  },
  "language_info": {
   "codemirror_mode": {
    "name": "ipython",
    "version": 3
   },
   "file_extension": ".py",
   "mimetype": "text/x-python",
   "name": "python",
   "nbconvert_exporter": "python",
   "pygments_lexer": "ipython3",
   "version": "3.11.11"
  }
 },
 "nbformat": 4,
 "nbformat_minor": 5
}
