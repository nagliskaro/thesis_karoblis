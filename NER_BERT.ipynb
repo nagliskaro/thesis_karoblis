{
 "cells": [
  {
   "cell_type": "code",
   "execution_count": null,
   "metadata": {},
   "outputs": [
    {
     "name": "stderr",
     "output_type": "stream",
     "text": [
      "Some weights of the model checkpoint at dbmdz/bert-large-cased-finetuned-conll03-english were not used when initializing BertForTokenClassification: ['bert.pooler.dense.bias', 'bert.pooler.dense.weight']\n",
      "- This IS expected if you are initializing BertForTokenClassification from the checkpoint of a model trained on another task or with another architecture (e.g. initializing a BertForSequenceClassification model from a BertForPreTraining model).\n",
      "- This IS NOT expected if you are initializing BertForTokenClassification from the checkpoint of a model that you expect to be exactly identical (initializing a BertForSequenceClassification model from a BertForSequenceClassification model).\n",
      "Device set to use mps:0\n"
     ]
    },
    {
     "name": "stdout",
     "output_type": "stream",
     "text": [
      "[{'entity_group': 'ORG', 'score': 0.98126787, 'word': 'Patagonia', 'start': 13, 'end': 22}]\n"
     ]
    }
   ],
   "source": [
    "from transformers import pipeline\n",
    "ner = pipeline(\n",
    "    \"ner\",\n",
    "    model=\"dbmdz/bert-large-cased-finetuned-conll03-english\",\n",
    "    tokenizer=\"bert-large-cased\",\n",
    "    aggregation_strategy=\"first\"\n",
    ")\n",
    "# testing\n",
    "text = \"company like Patagonia publicly supports environmental sustainability by promoting eco-friendly practices and advocating for conservation.\"\n",
    "print(ner(text))"
   ]
  },
  {
   "cell_type": "code",
   "execution_count": null,
   "metadata": {},
   "outputs": [],
   "source": [
    "import pandas as pd\n",
    "from tqdm import tqdm\n",
    "import numpy as np\n",
    "link = 'documents.xlsx'\n",
    "df = pd.ExcelFile(link).parse('general_labeled')"
   ]
  },
  {
   "cell_type": "code",
   "execution_count": 18,
   "metadata": {},
   "outputs": [],
   "source": [
    "df.columns = df.iloc[0]\n",
    "df = df[1:].reset_index(drop=True)"
   ]
  },
  {
   "cell_type": "code",
   "execution_count": 19,
   "metadata": {},
   "outputs": [],
   "source": [
    "#df['recognition_value'] = df['recognition_value'].fillna('none').str.lower()"
   ]
  },
  {
   "cell_type": "markdown",
   "metadata": {},
   "source": [
    "Unsurprisingly, making sentences into lower case worsen the results considerably - it is difficult for a model to recognise names"
   ]
  },
  {
   "cell_type": "code",
   "execution_count": 20,
   "metadata": {},
   "outputs": [],
   "source": [
    "df['recognition_value'] = df['recognition_value'].fillna('none')"
   ]
  },
  {
   "cell_type": "code",
   "execution_count": 21,
   "metadata": {},
   "outputs": [
    {
     "name": "stderr",
     "output_type": "stream",
     "text": [
      "100%|██████████| 800/800 [01:22<00:00,  9.74it/s]\n"
     ]
    }
   ],
   "source": [
    "ner_output = []\n",
    "for i in tqdm(range(800)):\n",
    "    text = df['recognition_value'][i]\n",
    "    ner_results = ner(text)\n",
    "    ner_output.append(ner_results)"
   ]
  },
  {
   "cell_type": "code",
   "execution_count": 22,
   "metadata": {},
   "outputs": [],
   "source": [
    "df['ner_output'] = ner_output"
   ]
  },
  {
   "cell_type": "markdown",
   "metadata": {},
   "source": [
    "Descriptive Statistics on NER outputs:\n",
    "    Progressive vs Conservative\n"
   ]
  },
  {
   "cell_type": "code",
   "execution_count": 23,
   "metadata": {},
   "outputs": [],
   "source": [
    "def transform(row):\n",
    "    if row != []:\n",
    "        list_list_values = []\n",
    "        for i in row:\n",
    "            list_values = []\n",
    "            for j in i.values():\n",
    "                list_values.append(j)\n",
    "            list_list_values.append(list_values)\n",
    "        row = list_list_values\n",
    "    else:\n",
    "        row = []\n",
    "    return row"
   ]
  },
  {
   "cell_type": "code",
   "execution_count": 24,
   "metadata": {},
   "outputs": [],
   "source": [
    "trial = transform(df['ner_output'][1])"
   ]
  },
  {
   "cell_type": "code",
   "execution_count": 25,
   "metadata": {},
   "outputs": [],
   "source": [
    "def dict_transform(row_transformed):\n",
    "    df_nes_list = []\n",
    "    for i in row_transformed:\n",
    "        df_nes = {}\n",
    "        df_nes[i[0]] = i[2]\n",
    "        df_nes_list.append(df_nes)\n",
    "    return df_nes_list"
   ]
  },
  {
   "cell_type": "code",
   "execution_count": 26,
   "metadata": {},
   "outputs": [
    {
     "name": "stderr",
     "output_type": "stream",
     "text": [
      "100%|██████████| 800/800 [00:00<00:00, 32726.77it/s]\n"
     ]
    }
   ],
   "source": [
    "transformed = []\n",
    "for i in tqdm(range(800)):\n",
    "    row_transformed = transform(df['ner_output'][i])\n",
    "    row_keyed = dict_transform(row_transformed)\n",
    "    transformed.append(row_keyed)"
   ]
  },
  {
   "cell_type": "code",
   "execution_count": 27,
   "metadata": {},
   "outputs": [],
   "source": [
    "df['ner_output_first'] = transformed"
   ]
  },
  {
   "cell_type": "code",
   "execution_count": 28,
   "metadata": {},
   "outputs": [],
   "source": [
    "df[['ner_output_first', 'recognition_value']].to_json('ner_output_first.json')"
   ]
  },
  {
   "cell_type": "code",
   "execution_count": 30,
   "metadata": {},
   "outputs": [],
   "source": [
    "df[['ner_output_first', 'recognition_value']].to_excel('ner_output_first.xlsx')"
   ]
  }
 ],
 "metadata": {
  "kernelspec": {
   "display_name": "base",
   "language": "python",
   "name": "python3"
  },
  "language_info": {
   "codemirror_mode": {
    "name": "ipython",
    "version": 3
   },
   "file_extension": ".py",
   "mimetype": "text/x-python",
   "name": "python",
   "nbconvert_exporter": "python",
   "pygments_lexer": "ipython3",
   "version": "3.9.12"
  }
 },
 "nbformat": 4,
 "nbformat_minor": 2
}
